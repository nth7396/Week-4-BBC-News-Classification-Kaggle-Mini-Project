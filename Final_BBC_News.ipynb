{
  "nbformat": 4,
  "nbformat_minor": 0,
  "metadata": {
    "colab": {
      "provenance": [],
      "collapsed_sections": [
        "kFvDtP8xbR5O",
        "gzvxiPvWftl5",
        "faoHszMcbfgO",
        "cBGDCUQb28qa",
        "ur1bPenS_qhW",
        "fFO7bWMig3j9",
        "ve8iTlWk1zAN"
      ]
    },
    "kernelspec": {
      "name": "python3",
      "display_name": "Python 3"
    },
    "language_info": {
      "name": "python"
    }
  },
  "cells": [
    {
      "cell_type": "markdown",
      "source": [
        "Link: https://colab.research.google.com/drive/1a2No-gMQBfUT2mm3GIMOwRssg8Lu9S8P?usp=sharing"
      ],
      "metadata": {
        "id": "ctMXGrzdistI"
      }
    },
    {
      "cell_type": "markdown",
      "source": [
        "# Import Libraries"
      ],
      "metadata": {
        "id": "KyxxnWS5ePnv"
      }
    },
    {
      "cell_type": "code",
      "execution_count": null,
      "metadata": {
        "colab": {
          "base_uri": "https://localhost:8080/"
        },
        "id": "Jv3NGyPcD0A2",
        "outputId": "eba9cf72-7ecc-4828-9f76-a2736e75c666"
      },
      "outputs": [
        {
          "output_type": "stream",
          "name": "stdout",
          "text": [
            "Mounted at /content/gdrive\n"
          ]
        }
      ],
      "source": [
        "from google.colab import drive\n",
        "drive.mount('/content/gdrive')"
      ]
    },
    {
      "cell_type": "code",
      "source": [
        "import pandas as pd\n",
        "import numpy as np\n",
        "import matplotlib.pyplot as plt\n",
        "import seaborn as sns"
      ],
      "metadata": {
        "id": "fJyFRN93EhbN"
      },
      "execution_count": null,
      "outputs": []
    },
    {
      "cell_type": "code",
      "source": [
        "import nltk\n",
        "from sklearn.feature_extraction.text import TfidfVectorizer\n",
        "from nltk.corpus import stopwords\n",
        "from nltk.stem import WordNetLemmatizer\n",
        "nltk.download('wordnet')\n",
        "nltk.download('stopwords')\n"
      ],
      "metadata": {
        "colab": {
          "base_uri": "https://localhost:8080/"
        },
        "id": "ac4GOMgIEhkY",
        "outputId": "ab3d5a74-4a89-4d07-bfa2-5020e8f1af64"
      },
      "execution_count": null,
      "outputs": [
        {
          "output_type": "stream",
          "name": "stderr",
          "text": [
            "[nltk_data] Downloading package wordnet to /root/nltk_data...\n",
            "[nltk_data] Downloading package stopwords to /root/nltk_data...\n",
            "[nltk_data]   Unzipping corpora/stopwords.zip.\n"
          ]
        },
        {
          "output_type": "execute_result",
          "data": {
            "text/plain": [
              "True"
            ]
          },
          "metadata": {},
          "execution_count": 5
        }
      ]
    },
    {
      "cell_type": "code",
      "source": [
        "from sklearn.metrics import accuracy_score\n",
        "from sklearn.decomposition import NMF\n"
      ],
      "metadata": {
        "id": "oI4ovFGaF12w"
      },
      "execution_count": null,
      "outputs": []
    },
    {
      "cell_type": "code",
      "source": [
        "df = pd.read_csv('/content/gdrive/MyDrive/BBC News Train.csv', sep=',', header=0)"
      ],
      "metadata": {
        "id": "DQce34JzEPM2"
      },
      "execution_count": null,
      "outputs": []
    },
    {
      "cell_type": "markdown",
      "source": [
        "# Data Overview\n",
        "This is an overview of the data set. We have 3 columns: ArticleID, Text and Category."
      ],
      "metadata": {
        "id": "kFvDtP8xbR5O"
      }
    },
    {
      "cell_type": "code",
      "source": [
        "df.head(5)"
      ],
      "metadata": {
        "colab": {
          "base_uri": "https://localhost:8080/",
          "height": 226
        },
        "id": "1rV1rDPYEsfi",
        "outputId": "c7f10052-4592-4815-dc6d-20f68ee4ee23"
      },
      "execution_count": null,
      "outputs": [
        {
          "output_type": "execute_result",
          "data": {
            "text/plain": [
              "   ArticleId                                               Text  Category\n",
              "0       1833  worldcom ex-boss launches defence lawyers defe...  business\n",
              "1        154  german business confidence slides german busin...  business\n",
              "2       1101  bbc poll indicates economic gloom citizens in ...  business\n",
              "3       1976  lifestyle  governs mobile choice  faster  bett...      tech\n",
              "4        917  enron bosses in $168m payout eighteen former e...  business"
            ],
            "text/html": [
              "\n",
              "  <div id=\"df-7f89ab78-06d0-4f39-95ed-e335ace7aea6\">\n",
              "    <div class=\"colab-df-container\">\n",
              "      <div>\n",
              "<style scoped>\n",
              "    .dataframe tbody tr th:only-of-type {\n",
              "        vertical-align: middle;\n",
              "    }\n",
              "\n",
              "    .dataframe tbody tr th {\n",
              "        vertical-align: top;\n",
              "    }\n",
              "\n",
              "    .dataframe thead th {\n",
              "        text-align: right;\n",
              "    }\n",
              "</style>\n",
              "<table border=\"1\" class=\"dataframe\">\n",
              "  <thead>\n",
              "    <tr style=\"text-align: right;\">\n",
              "      <th></th>\n",
              "      <th>ArticleId</th>\n",
              "      <th>Text</th>\n",
              "      <th>Category</th>\n",
              "    </tr>\n",
              "  </thead>\n",
              "  <tbody>\n",
              "    <tr>\n",
              "      <th>0</th>\n",
              "      <td>1833</td>\n",
              "      <td>worldcom ex-boss launches defence lawyers defe...</td>\n",
              "      <td>business</td>\n",
              "    </tr>\n",
              "    <tr>\n",
              "      <th>1</th>\n",
              "      <td>154</td>\n",
              "      <td>german business confidence slides german busin...</td>\n",
              "      <td>business</td>\n",
              "    </tr>\n",
              "    <tr>\n",
              "      <th>2</th>\n",
              "      <td>1101</td>\n",
              "      <td>bbc poll indicates economic gloom citizens in ...</td>\n",
              "      <td>business</td>\n",
              "    </tr>\n",
              "    <tr>\n",
              "      <th>3</th>\n",
              "      <td>1976</td>\n",
              "      <td>lifestyle  governs mobile choice  faster  bett...</td>\n",
              "      <td>tech</td>\n",
              "    </tr>\n",
              "    <tr>\n",
              "      <th>4</th>\n",
              "      <td>917</td>\n",
              "      <td>enron bosses in $168m payout eighteen former e...</td>\n",
              "      <td>business</td>\n",
              "    </tr>\n",
              "  </tbody>\n",
              "</table>\n",
              "</div>\n",
              "      <button class=\"colab-df-convert\" onclick=\"convertToInteractive('df-7f89ab78-06d0-4f39-95ed-e335ace7aea6')\"\n",
              "              title=\"Convert this dataframe to an interactive table.\"\n",
              "              style=\"display:none;\">\n",
              "        \n",
              "  <svg xmlns=\"http://www.w3.org/2000/svg\" height=\"24px\"viewBox=\"0 0 24 24\"\n",
              "       width=\"24px\">\n",
              "    <path d=\"M0 0h24v24H0V0z\" fill=\"none\"/>\n",
              "    <path d=\"M18.56 5.44l.94 2.06.94-2.06 2.06-.94-2.06-.94-.94-2.06-.94 2.06-2.06.94zm-11 1L8.5 8.5l.94-2.06 2.06-.94-2.06-.94L8.5 2.5l-.94 2.06-2.06.94zm10 10l.94 2.06.94-2.06 2.06-.94-2.06-.94-.94-2.06-.94 2.06-2.06.94z\"/><path d=\"M17.41 7.96l-1.37-1.37c-.4-.4-.92-.59-1.43-.59-.52 0-1.04.2-1.43.59L10.3 9.45l-7.72 7.72c-.78.78-.78 2.05 0 2.83L4 21.41c.39.39.9.59 1.41.59.51 0 1.02-.2 1.41-.59l7.78-7.78 2.81-2.81c.8-.78.8-2.07 0-2.86zM5.41 20L4 18.59l7.72-7.72 1.47 1.35L5.41 20z\"/>\n",
              "  </svg>\n",
              "      </button>\n",
              "      \n",
              "  <style>\n",
              "    .colab-df-container {\n",
              "      display:flex;\n",
              "      flex-wrap:wrap;\n",
              "      gap: 12px;\n",
              "    }\n",
              "\n",
              "    .colab-df-convert {\n",
              "      background-color: #E8F0FE;\n",
              "      border: none;\n",
              "      border-radius: 50%;\n",
              "      cursor: pointer;\n",
              "      display: none;\n",
              "      fill: #1967D2;\n",
              "      height: 32px;\n",
              "      padding: 0 0 0 0;\n",
              "      width: 32px;\n",
              "    }\n",
              "\n",
              "    .colab-df-convert:hover {\n",
              "      background-color: #E2EBFA;\n",
              "      box-shadow: 0px 1px 2px rgba(60, 64, 67, 0.3), 0px 1px 3px 1px rgba(60, 64, 67, 0.15);\n",
              "      fill: #174EA6;\n",
              "    }\n",
              "\n",
              "    [theme=dark] .colab-df-convert {\n",
              "      background-color: #3B4455;\n",
              "      fill: #D2E3FC;\n",
              "    }\n",
              "\n",
              "    [theme=dark] .colab-df-convert:hover {\n",
              "      background-color: #434B5C;\n",
              "      box-shadow: 0px 1px 3px 1px rgba(0, 0, 0, 0.15);\n",
              "      filter: drop-shadow(0px 1px 2px rgba(0, 0, 0, 0.3));\n",
              "      fill: #FFFFFF;\n",
              "    }\n",
              "  </style>\n",
              "\n",
              "      <script>\n",
              "        const buttonEl =\n",
              "          document.querySelector('#df-7f89ab78-06d0-4f39-95ed-e335ace7aea6 button.colab-df-convert');\n",
              "        buttonEl.style.display =\n",
              "          google.colab.kernel.accessAllowed ? 'block' : 'none';\n",
              "\n",
              "        async function convertToInteractive(key) {\n",
              "          const element = document.querySelector('#df-7f89ab78-06d0-4f39-95ed-e335ace7aea6');\n",
              "          const dataTable =\n",
              "            await google.colab.kernel.invokeFunction('convertToInteractive',\n",
              "                                                     [key], {});\n",
              "          if (!dataTable) return;\n",
              "\n",
              "          const docLinkHtml = 'Like what you see? Visit the ' +\n",
              "            '<a target=\"_blank\" href=https://colab.research.google.com/notebooks/data_table.ipynb>data table notebook</a>'\n",
              "            + ' to learn more about interactive tables.';\n",
              "          element.innerHTML = '';\n",
              "          dataTable['output_type'] = 'display_data';\n",
              "          await google.colab.output.renderOutput(dataTable, element);\n",
              "          const docLink = document.createElement('div');\n",
              "          docLink.innerHTML = docLinkHtml;\n",
              "          element.appendChild(docLink);\n",
              "        }\n",
              "      </script>\n",
              "    </div>\n",
              "  </div>\n",
              "  "
            ]
          },
          "metadata": {},
          "execution_count": 109
        }
      ]
    },
    {
      "cell_type": "markdown",
      "source": [
        "Check if there is any missing data:"
      ],
      "metadata": {
        "id": "wlNQslz5bbHi"
      }
    },
    {
      "cell_type": "code",
      "source": [
        "missing_values = df.isnull().sum()\n",
        "print(missing_values)\n"
      ],
      "metadata": {
        "colab": {
          "base_uri": "https://localhost:8080/"
        },
        "id": "tpEMWdH2YqPh",
        "outputId": "6f1ef826-5628-4020-f459-2d5a0df1c134"
      },
      "execution_count": null,
      "outputs": [
        {
          "output_type": "stream",
          "name": "stdout",
          "text": [
            "ArticleId          0\n",
            "Text               0\n",
            "Category           0\n",
            "predicted_label    0\n",
            "dtype: int64\n"
          ]
        }
      ]
    },
    {
      "cell_type": "markdown",
      "source": [
        "There is no missing data so we can proceed to the next steps."
      ],
      "metadata": {
        "id": "D9n9QjJgKsyn"
      }
    },
    {
      "cell_type": "markdown",
      "source": [
        "# Data Visualization"
      ],
      "metadata": {
        "id": "gzvxiPvWftl5"
      }
    },
    {
      "cell_type": "markdown",
      "source": [
        "Count of articles in each category: business, tech, politics, sport, entertainment. We can observe that the distribution is relatively even and there is no concern of imbalance classes that might impact our models later on."
      ],
      "metadata": {
        "id": "FnPO_GCzbgKS"
      }
    },
    {
      "cell_type": "code",
      "source": [
        "sns.countplot(data=df, x='Category')\n",
        "plt.show()"
      ],
      "metadata": {
        "colab": {
          "base_uri": "https://localhost:8080/",
          "height": 470
        },
        "id": "Gax7AuveY6Gd",
        "outputId": "f74c009a-61ce-4392-ef9d-d084c71222e3"
      },
      "execution_count": null,
      "outputs": [
        {
          "output_type": "display_data",
          "data": {
            "text/plain": [
              "<Figure size 640x480 with 1 Axes>"
            ],
            "image/png": "[encoded data removed]"
          },
          "metadata": {}
        }
      ]
    },
    {
      "cell_type": "markdown",
      "source": [
        "# Untuned NMF Model using 100% of Training data"
      ],
      "metadata": {
        "id": "faoHszMcbfgO"
      }
    },
    {
      "cell_type": "markdown",
      "source": [
        "### Text Preprocessing (Lemmatization)"
      ],
      "metadata": {
        "id": "g75cBEPcgD2c"
      }
    },
    {
      "cell_type": "code",
      "source": [
        "stop_words = set(stopwords.words('english'))\n",
        "lemmatizer = WordNetLemmatizer()"
      ],
      "metadata": {
        "id": "as-3Fss0EtzM"
      },
      "execution_count": null,
      "outputs": []
    },
    {
      "cell_type": "code",
      "source": [
        "# Function to preprocess the text\n",
        "def preprocess_text(text):\n",
        "    text = text.lower()  # Lowercase\n",
        "    text = [lemmatizer.lemmatize(word) for word in text.split() if word not in stop_words]  # Lemmatize and remove stopwords\n",
        "    return ' '.join(text)\n",
        "\n",
        "df['Text'] = df['Text'].apply(preprocess_text)"
      ],
      "metadata": {
        "id": "Thp9IUq6E478"
      },
      "execution_count": null,
      "outputs": []
    },
    {
      "cell_type": "code",
      "source": [
        "vectorizer = TfidfVectorizer()\n",
        "X = vectorizer.fit_transform(df['Text'])"
      ],
      "metadata": {
        "id": "Mkbgq99vE4-f"
      },
      "execution_count": null,
      "outputs": []
    },
    {
      "cell_type": "markdown",
      "source": [
        "### Model Building"
      ],
      "metadata": {
        "id": "iiN7xLbsgmn1"
      }
    },
    {
      "cell_type": "code",
      "source": [
        "from sklearn.decomposition import NMF\n",
        "\n",
        "n_topics = 5  # This should match with the number of unique categories\n",
        "\n",
        "nmf = NMF(n_components=n_topics, random_state=1)\n",
        "W = nmf.fit_transform(X)  # Topic matrix\n",
        "H = nmf.components_  # Word matrix\n"
      ],
      "metadata": {
        "id": "a_cTg_0BE5BJ"
      },
      "execution_count": null,
      "outputs": []
    },
    {
      "cell_type": "code",
      "source": [
        "# Check the top words in each topic to assign labels\n",
        "n_top_words = 10\n",
        "feature_names = vectorizer.get_feature_names_out()\n",
        "\n",
        "for topic_idx, topic in enumerate(H):\n",
        "    print(f\"Topic {topic_idx}\")\n",
        "    print(\" \".join([feature_names[i] for i in topic.argsort()[:-n_top_words - 1:-1]]))\n"
      ],
      "metadata": {
        "colab": {
          "base_uri": "https://localhost:8080/"
        },
        "id": "Br25fC0zE5DX",
        "outputId": "bd4644ff-4c2f-47bf-be67-b13e36e0729d"
      },
      "execution_count": null,
      "outputs": [
        {
          "output_type": "stream",
          "name": "stdout",
          "text": [
            "Topic 0\n",
            "game england win player team cup ireland match wale said\n",
            "Topic 1\n",
            "mr labour election blair party brown tory said tax would\n",
            "Topic 2\n",
            "mobile phone people music technology service said digital user microsoft\n",
            "Topic 3\n",
            "film best award actor oscar star actress director festival nomination\n",
            "Topic 4\n",
            "growth economy rate said bank year market economic sale dollar\n"
          ]
        }
      ]
    },
    {
      "cell_type": "code",
      "source": [
        "# Preprocess the text data\n",
        "df['Text'] = df['Text'].apply(preprocess_text)\n",
        "\n",
        "# Vectorize the text data\n",
        "X_test = vectorizer.transform(df['Text'])\n"
      ],
      "metadata": {
        "id": "lBuCIq8sE5H7"
      },
      "execution_count": null,
      "outputs": []
    },
    {
      "cell_type": "code",
      "source": [
        "# Apply NMF\n",
        "W_test = nmf.transform(X_test)\n",
        "\n",
        "# Assign the topic with the highest contribution as the label for each document in testing data\n",
        "df['predicted_label'] = W_test.argmax(axis=1)"
      ],
      "metadata": {
        "id": "l0h64GSUFvav"
      },
      "execution_count": null,
      "outputs": []
    },
    {
      "cell_type": "markdown",
      "source": [
        "label_dict have to be mapped correctly according to the Topic results above."
      ],
      "metadata": {
        "id": "ebacSVnCg4Hu"
      }
    },
    {
      "cell_type": "code",
      "source": [
        "# Create a mapping dictionary\n",
        "label_dict = {0: 'sport', 1: 'politics', 2: 'tech', 3: 'entertainment', 4: 'business'}\n",
        "\n",
        "# Map the predicted labels to their corresponding categories\n",
        "df['predicted_label'] = df['predicted_label'].map(label_dict)"
      ],
      "metadata": {
        "id": "RJYxN75Oeip7"
      },
      "execution_count": null,
      "outputs": []
    },
    {
      "cell_type": "markdown",
      "source": [
        "Training accuracy:"
      ],
      "metadata": {
        "id": "Fc9nl1hjevTp"
      }
    },
    {
      "cell_type": "code",
      "source": [
        "# Compute the accuracy score\n",
        "accuracy = accuracy_score(df['Category'], df['predicted_label'])\n",
        "print(f'Accuracy: {accuracy}')"
      ],
      "metadata": {
        "colab": {
          "base_uri": "https://localhost:8080/"
        },
        "id": "S07bEI33FwbU",
        "outputId": "9208409e-0cf7-4bc0-e49e-f2ca802ea46b"
      },
      "execution_count": null,
      "outputs": [
        {
          "output_type": "stream",
          "name": "stdout",
          "text": [
            "Accuracy: 0.9161073825503355\n"
          ]
        }
      ]
    },
    {
      "cell_type": "code",
      "source": [
        "df.head(5)"
      ],
      "metadata": {
        "colab": {
          "base_uri": "https://localhost:8080/",
          "height": 206
        },
        "id": "AY24EmH9Hvao",
        "outputId": "18dbbea4-9aa7-4b27-b002-ada7cfa176a1"
      },
      "execution_count": null,
      "outputs": [
        {
          "output_type": "execute_result",
          "data": {
            "text/plain": [
              "   ArticleId                                               Text  Category  \\\n",
              "0       1833  worldcom ex-boss launch defence lawyer defendi...  business   \n",
              "1        154  german business confidence slide german busine...  business   \n",
              "2       1101  bbc poll indicates economic gloom citizen majo...  business   \n",
              "3       1976  lifestyle governs mobile choice faster better ...      tech   \n",
              "4        917  enron bos $168m payout eighteen former enron d...  business   \n",
              "\n",
              "  predicted_label  \n",
              "0        business  \n",
              "1        business  \n",
              "2        business  \n",
              "3            tech  \n",
              "4        business  "
            ],
            "text/html": [
              "\n",
              "  <div id=\"df-85f2a662-5732-475e-8d1e-d80dca9adfed\">\n",
              "    <div class=\"colab-df-container\">\n",
              "      <div>\n",
              "<style scoped>\n",
              "    .dataframe tbody tr th:only-of-type {\n",
              "        vertical-align: middle;\n",
              "    }\n",
              "\n",
              "    .dataframe tbody tr th {\n",
              "        vertical-align: top;\n",
              "    }\n",
              "\n",
              "    .dataframe thead th {\n",
              "        text-align: right;\n",
              "    }\n",
              "</style>\n",
              "<table border=\"1\" class=\"dataframe\">\n",
              "  <thead>\n",
              "    <tr style=\"text-align: right;\">\n",
              "      <th></th>\n",
              "      <th>ArticleId</th>\n",
              "      <th>Text</th>\n",
              "      <th>Category</th>\n",
              "      <th>predicted_label</th>\n",
              "    </tr>\n",
              "  </thead>\n",
              "  <tbody>\n",
              "    <tr>\n",
              "      <th>0</th>\n",
              "      <td>1833</td>\n",
              "      <td>worldcom ex-boss launch defence lawyer defendi...</td>\n",
              "      <td>business</td>\n",
              "      <td>business</td>\n",
              "    </tr>\n",
              "    <tr>\n",
              "      <th>1</th>\n",
              "      <td>154</td>\n",
              "      <td>german business confidence slide german busine...</td>\n",
              "      <td>business</td>\n",
              "      <td>business</td>\n",
              "    </tr>\n",
              "    <tr>\n",
              "      <th>2</th>\n",
              "      <td>1101</td>\n",
              "      <td>bbc poll indicates economic gloom citizen majo...</td>\n",
              "      <td>business</td>\n",
              "      <td>business</td>\n",
              "    </tr>\n",
              "    <tr>\n",
              "      <th>3</th>\n",
              "      <td>1976</td>\n",
              "      <td>lifestyle governs mobile choice faster better ...</td>\n",
              "      <td>tech</td>\n",
              "      <td>tech</td>\n",
              "    </tr>\n",
              "    <tr>\n",
              "      <th>4</th>\n",
              "      <td>917</td>\n",
              "      <td>enron bos $168m payout eighteen former enron d...</td>\n",
              "      <td>business</td>\n",
              "      <td>business</td>\n",
              "    </tr>\n",
              "  </tbody>\n",
              "</table>\n",
              "</div>\n",
              "      <button class=\"colab-df-convert\" onclick=\"convertToInteractive('df-85f2a662-5732-475e-8d1e-d80dca9adfed')\"\n",
              "              title=\"Convert this dataframe to an interactive table.\"\n",
              "              style=\"display:none;\">\n",
              "        \n",
              "  <svg xmlns=\"http://www.w3.org/2000/svg\" height=\"24px\"viewBox=\"0 0 24 24\"\n",
              "       width=\"24px\">\n",
              "    <path d=\"M0 0h24v24H0V0z\" fill=\"none\"/>\n",
              "    <path d=\"M18.56 5.44l.94 2.06.94-2.06 2.06-.94-2.06-.94-.94-2.06-.94 2.06-2.06.94zm-11 1L8.5 8.5l.94-2.06 2.06-.94-2.06-.94L8.5 2.5l-.94 2.06-2.06.94zm10 10l.94 2.06.94-2.06 2.06-.94-2.06-.94-.94-2.06-.94 2.06-2.06.94z\"/><path d=\"M17.41 7.96l-1.37-1.37c-.4-.4-.92-.59-1.43-.59-.52 0-1.04.2-1.43.59L10.3 9.45l-7.72 7.72c-.78.78-.78 2.05 0 2.83L4 21.41c.39.39.9.59 1.41.59.51 0 1.02-.2 1.41-.59l7.78-7.78 2.81-2.81c.8-.78.8-2.07 0-2.86zM5.41 20L4 18.59l7.72-7.72 1.47 1.35L5.41 20z\"/>\n",
              "  </svg>\n",
              "      </button>\n",
              "      \n",
              "  <style>\n",
              "    .colab-df-container {\n",
              "      display:flex;\n",
              "      flex-wrap:wrap;\n",
              "      gap: 12px;\n",
              "    }\n",
              "\n",
              "    .colab-df-convert {\n",
              "      background-color: #E8F0FE;\n",
              "      border: none;\n",
              "      border-radius: 50%;\n",
              "      cursor: pointer;\n",
              "      display: none;\n",
              "      fill: #1967D2;\n",
              "      height: 32px;\n",
              "      padding: 0 0 0 0;\n",
              "      width: 32px;\n",
              "    }\n",
              "\n",
              "    .colab-df-convert:hover {\n",
              "      background-color: #E2EBFA;\n",
              "      box-shadow: 0px 1px 2px rgba(60, 64, 67, 0.3), 0px 1px 3px 1px rgba(60, 64, 67, 0.15);\n",
              "      fill: #174EA6;\n",
              "    }\n",
              "\n",
              "    [theme=dark] .colab-df-convert {\n",
              "      background-color: #3B4455;\n",
              "      fill: #D2E3FC;\n",
              "    }\n",
              "\n",
              "    [theme=dark] .colab-df-convert:hover {\n",
              "      background-color: #434B5C;\n",
              "      box-shadow: 0px 1px 3px 1px rgba(0, 0, 0, 0.15);\n",
              "      filter: drop-shadow(0px 1px 2px rgba(0, 0, 0, 0.3));\n",
              "      fill: #FFFFFF;\n",
              "    }\n",
              "  </style>\n",
              "\n",
              "      <script>\n",
              "        const buttonEl =\n",
              "          document.querySelector('#df-85f2a662-5732-475e-8d1e-d80dca9adfed button.colab-df-convert');\n",
              "        buttonEl.style.display =\n",
              "          google.colab.kernel.accessAllowed ? 'block' : 'none';\n",
              "\n",
              "        async function convertToInteractive(key) {\n",
              "          const element = document.querySelector('#df-85f2a662-5732-475e-8d1e-d80dca9adfed');\n",
              "          const dataTable =\n",
              "            await google.colab.kernel.invokeFunction('convertToInteractive',\n",
              "                                                     [key], {});\n",
              "          if (!dataTable) return;\n",
              "\n",
              "          const docLinkHtml = 'Like what you see? Visit the ' +\n",
              "            '<a target=\"_blank\" href=https://colab.research.google.com/notebooks/data_table.ipynb>data table notebook</a>'\n",
              "            + ' to learn more about interactive tables.';\n",
              "          element.innerHTML = '';\n",
              "          dataTable['output_type'] = 'display_data';\n",
              "          await google.colab.output.renderOutput(dataTable, element);\n",
              "          const docLink = document.createElement('div');\n",
              "          docLink.innerHTML = docLinkHtml;\n",
              "          element.appendChild(docLink);\n",
              "        }\n",
              "      </script>\n",
              "    </div>\n",
              "  </div>\n",
              "  "
            ]
          },
          "metadata": {},
          "execution_count": 119
        }
      ]
    },
    {
      "cell_type": "code",
      "source": [],
      "metadata": {
        "id": "NwQhkZiofLDh"
      },
      "execution_count": null,
      "outputs": []
    },
    {
      "cell_type": "markdown",
      "source": [
        "### Predicting using Testing Data"
      ],
      "metadata": {
        "id": "_G-vB7JDi3U-"
      }
    },
    {
      "cell_type": "code",
      "source": [
        "# Load the test data\n",
        "df_test = pd.read_csv('/content/gdrive/MyDrive/BBC News Test.csv', sep=',', header=0)"
      ],
      "metadata": {
        "id": "XPzkJbri2D9n"
      },
      "execution_count": null,
      "outputs": []
    },
    {
      "cell_type": "code",
      "source": [
        "# Preprocess and Vectorize the test data\n",
        "X_test = vectorizer.transform(df_test['Text'])\n",
        "\n",
        "# Apply the NMF model\n",
        "W_test = nmf.transform(X_test)\n"
      ],
      "metadata": {
        "id": "m_CJY9UB2D9o"
      },
      "execution_count": null,
      "outputs": []
    },
    {
      "cell_type": "code",
      "source": [
        "# Print out the top words for each topic\n",
        "n_top_words = 10\n",
        "feature_names = vectorizer.get_feature_names_out()\n",
        "\n",
        "for topic_idx, topic in enumerate(nmf.components_):\n",
        "    print(f\"Topic {topic_idx}\")\n",
        "    print(\" \".join([feature_names[i] for i in topic.argsort()[:-n_top_words - 1:-1]]))"
      ],
      "metadata": {
        "colab": {
          "base_uri": "https://localhost:8080/"
        },
        "outputId": "a34b2be9-1b75-4a2c-f401-c529c1cf9865",
        "id": "92Oym39k2D9o"
      },
      "execution_count": null,
      "outputs": [
        {
          "output_type": "stream",
          "name": "stdout",
          "text": [
            "Topic 0\n",
            "game england win player team cup ireland match wale said\n",
            "Topic 1\n",
            "mr labour election blair party brown tory said tax would\n",
            "Topic 2\n",
            "mobile phone people music technology service said digital user microsoft\n",
            "Topic 3\n",
            "film best award actor oscar star actress director festival nomination\n",
            "Topic 4\n",
            "growth economy rate said bank year market economic sale dollar\n"
          ]
        }
      ]
    },
    {
      "cell_type": "code",
      "source": [
        "# Get the topic that has the maximum value for each document\n",
        "df_test['predicted_label'] = W_test.argmax(axis=1)"
      ],
      "metadata": {
        "id": "GpA4SDng2D9p"
      },
      "execution_count": null,
      "outputs": []
    },
    {
      "cell_type": "markdown",
      "source": [
        "Similarly, the predicted labels has to be the same as the Topic results above."
      ],
      "metadata": {
        "id": "dpk-tv2nhjwf"
      }
    },
    {
      "cell_type": "code",
      "source": [
        "# Map the predicted labels to their respective categories\n",
        "label_to_category = {0: 'sport', 1: 'politics', 2: 'tech', 3: 'entertainment', 4: 'business'}\n",
        "df_test['predicted_category'] = df_test['predicted_label'].map(label_to_category)\n"
      ],
      "metadata": {
        "id": "Jotqzi2L2D9q"
      },
      "execution_count": null,
      "outputs": []
    },
    {
      "cell_type": "code",
      "source": [
        "# Drop 'Text' column\n",
        "df_test = df_test.drop(['Text'], axis=1)\n",
        "\n",
        "# Rename 'predicted_category' to 'Category'\n",
        "df_test = df_test.rename(columns={'predicted_category': 'Category'})\n"
      ],
      "metadata": {
        "id": "nhJiVMvL2D9q"
      },
      "execution_count": null,
      "outputs": []
    },
    {
      "cell_type": "code",
      "source": [
        "df_test.head(15)"
      ],
      "metadata": {
        "colab": {
          "base_uri": "https://localhost:8080/",
          "height": 520
        },
        "outputId": "a8e98946-5a4e-45b1-f3a7-ab7dac80d7d6",
        "id": "U282PRLA2D9r"
      },
      "execution_count": null,
      "outputs": [
        {
          "output_type": "execute_result",
          "data": {
            "text/plain": [
              "    ArticleId  predicted_label       Category\n",
              "0        1018                0          sport\n",
              "1        1319                2           tech\n",
              "2        1138                0          sport\n",
              "3         459                4       business\n",
              "4        1020                0          sport\n",
              "5          51                0          sport\n",
              "6        2025                1       politics\n",
              "7        1479                1       politics\n",
              "8          27                3  entertainment\n",
              "9         397                4       business\n",
              "10       1644                4       business\n",
              "11        263                2           tech\n",
              "12        765                1       politics\n",
              "13       2134                2           tech\n",
              "14        297                3  entertainment"
            ],
            "text/html": [
              "\n",
              "  <div id=\"df-d4f07017-0da9-4b2b-90ac-3e63e5efa02a\">\n",
              "    <div class=\"colab-df-container\">\n",
              "      <div>\n",
              "<style scoped>\n",
              "    .dataframe tbody tr th:only-of-type {\n",
              "        vertical-align: middle;\n",
              "    }\n",
              "\n",
              "    .dataframe tbody tr th {\n",
              "        vertical-align: top;\n",
              "    }\n",
              "\n",
              "    .dataframe thead th {\n",
              "        text-align: right;\n",
              "    }\n",
              "</style>\n",
              "<table border=\"1\" class=\"dataframe\">\n",
              "  <thead>\n",
              "    <tr style=\"text-align: right;\">\n",
              "      <th></th>\n",
              "      <th>ArticleId</th>\n",
              "      <th>predicted_label</th>\n",
              "      <th>Category</th>\n",
              "    </tr>\n",
              "  </thead>\n",
              "  <tbody>\n",
              "    <tr>\n",
              "      <th>0</th>\n",
              "      <td>1018</td>\n",
              "      <td>0</td>\n",
              "      <td>sport</td>\n",
              "    </tr>\n",
              "    <tr>\n",
              "      <th>1</th>\n",
              "      <td>1319</td>\n",
              "      <td>2</td>\n",
              "      <td>tech</td>\n",
              "    </tr>\n",
              "    <tr>\n",
              "      <th>2</th>\n",
              "      <td>1138</td>\n",
              "      <td>0</td>\n",
              "      <td>sport</td>\n",
              "    </tr>\n",
              "    <tr>\n",
              "      <th>3</th>\n",
              "      <td>459</td>\n",
              "      <td>4</td>\n",
              "      <td>business</td>\n",
              "    </tr>\n",
              "    <tr>\n",
              "      <th>4</th>\n",
              "      <td>1020</td>\n",
              "      <td>0</td>\n",
              "      <td>sport</td>\n",
              "    </tr>\n",
              "    <tr>\n",
              "      <th>5</th>\n",
              "      <td>51</td>\n",
              "      <td>0</td>\n",
              "      <td>sport</td>\n",
              "    </tr>\n",
              "    <tr>\n",
              "      <th>6</th>\n",
              "      <td>2025</td>\n",
              "      <td>1</td>\n",
              "      <td>politics</td>\n",
              "    </tr>\n",
              "    <tr>\n",
              "      <th>7</th>\n",
              "      <td>1479</td>\n",
              "      <td>1</td>\n",
              "      <td>politics</td>\n",
              "    </tr>\n",
              "    <tr>\n",
              "      <th>8</th>\n",
              "      <td>27</td>\n",
              "      <td>3</td>\n",
              "      <td>entertainment</td>\n",
              "    </tr>\n",
              "    <tr>\n",
              "      <th>9</th>\n",
              "      <td>397</td>\n",
              "      <td>4</td>\n",
              "      <td>business</td>\n",
              "    </tr>\n",
              "    <tr>\n",
              "      <th>10</th>\n",
              "      <td>1644</td>\n",
              "      <td>4</td>\n",
              "      <td>business</td>\n",
              "    </tr>\n",
              "    <tr>\n",
              "      <th>11</th>\n",
              "      <td>263</td>\n",
              "      <td>2</td>\n",
              "      <td>tech</td>\n",
              "    </tr>\n",
              "    <tr>\n",
              "      <th>12</th>\n",
              "      <td>765</td>\n",
              "      <td>1</td>\n",
              "      <td>politics</td>\n",
              "    </tr>\n",
              "    <tr>\n",
              "      <th>13</th>\n",
              "      <td>2134</td>\n",
              "      <td>2</td>\n",
              "      <td>tech</td>\n",
              "    </tr>\n",
              "    <tr>\n",
              "      <th>14</th>\n",
              "      <td>297</td>\n",
              "      <td>3</td>\n",
              "      <td>entertainment</td>\n",
              "    </tr>\n",
              "  </tbody>\n",
              "</table>\n",
              "</div>\n",
              "      <button class=\"colab-df-convert\" onclick=\"convertToInteractive('df-d4f07017-0da9-4b2b-90ac-3e63e5efa02a')\"\n",
              "              title=\"Convert this dataframe to an interactive table.\"\n",
              "              style=\"display:none;\">\n",
              "        \n",
              "  <svg xmlns=\"http://www.w3.org/2000/svg\" height=\"24px\"viewBox=\"0 0 24 24\"\n",
              "       width=\"24px\">\n",
              "    <path d=\"M0 0h24v24H0V0z\" fill=\"none\"/>\n",
              "    <path d=\"M18.56 5.44l.94 2.06.94-2.06 2.06-.94-2.06-.94-.94-2.06-.94 2.06-2.06.94zm-11 1L8.5 8.5l.94-2.06 2.06-.94-2.06-.94L8.5 2.5l-.94 2.06-2.06.94zm10 10l.94 2.06.94-2.06 2.06-.94-2.06-.94-.94-2.06-.94 2.06-2.06.94z\"/><path d=\"M17.41 7.96l-1.37-1.37c-.4-.4-.92-.59-1.43-.59-.52 0-1.04.2-1.43.59L10.3 9.45l-7.72 7.72c-.78.78-.78 2.05 0 2.83L4 21.41c.39.39.9.59 1.41.59.51 0 1.02-.2 1.41-.59l7.78-7.78 2.81-2.81c.8-.78.8-2.07 0-2.86zM5.41 20L4 18.59l7.72-7.72 1.47 1.35L5.41 20z\"/>\n",
              "  </svg>\n",
              "      </button>\n",
              "      \n",
              "  <style>\n",
              "    .colab-df-container {\n",
              "      display:flex;\n",
              "      flex-wrap:wrap;\n",
              "      gap: 12px;\n",
              "    }\n",
              "\n",
              "    .colab-df-convert {\n",
              "      background-color: #E8F0FE;\n",
              "      border: none;\n",
              "      border-radius: 50%;\n",
              "      cursor: pointer;\n",
              "      display: none;\n",
              "      fill: #1967D2;\n",
              "      height: 32px;\n",
              "      padding: 0 0 0 0;\n",
              "      width: 32px;\n",
              "    }\n",
              "\n",
              "    .colab-df-convert:hover {\n",
              "      background-color: #E2EBFA;\n",
              "      box-shadow: 0px 1px 2px rgba(60, 64, 67, 0.3), 0px 1px 3px 1px rgba(60, 64, 67, 0.15);\n",
              "      fill: #174EA6;\n",
              "    }\n",
              "\n",
              "    [theme=dark] .colab-df-convert {\n",
              "      background-color: #3B4455;\n",
              "      fill: #D2E3FC;\n",
              "    }\n",
              "\n",
              "    [theme=dark] .colab-df-convert:hover {\n",
              "      background-color: #434B5C;\n",
              "      box-shadow: 0px 1px 3px 1px rgba(0, 0, 0, 0.15);\n",
              "      filter: drop-shadow(0px 1px 2px rgba(0, 0, 0, 0.3));\n",
              "      fill: #FFFFFF;\n",
              "    }\n",
              "  </style>\n",
              "\n",
              "      <script>\n",
              "        const buttonEl =\n",
              "          document.querySelector('#df-d4f07017-0da9-4b2b-90ac-3e63e5efa02a button.colab-df-convert');\n",
              "        buttonEl.style.display =\n",
              "          google.colab.kernel.accessAllowed ? 'block' : 'none';\n",
              "\n",
              "        async function convertToInteractive(key) {\n",
              "          const element = document.querySelector('#df-d4f07017-0da9-4b2b-90ac-3e63e5efa02a');\n",
              "          const dataTable =\n",
              "            await google.colab.kernel.invokeFunction('convertToInteractive',\n",
              "                                                     [key], {});\n",
              "          if (!dataTable) return;\n",
              "\n",
              "          const docLinkHtml = 'Like what you see? Visit the ' +\n",
              "            '<a target=\"_blank\" href=https://colab.research.google.com/notebooks/data_table.ipynb>data table notebook</a>'\n",
              "            + ' to learn more about interactive tables.';\n",
              "          element.innerHTML = '';\n",
              "          dataTable['output_type'] = 'display_data';\n",
              "          await google.colab.output.renderOutput(dataTable, element);\n",
              "          const docLink = document.createElement('div');\n",
              "          docLink.innerHTML = docLinkHtml;\n",
              "          element.appendChild(docLink);\n",
              "        }\n",
              "      </script>\n",
              "    </div>\n",
              "  </div>\n",
              "  "
            ]
          },
          "metadata": {},
          "execution_count": 126
        }
      ]
    },
    {
      "cell_type": "code",
      "source": [
        "# Drop column\n",
        "df_test = df_test.drop(['predicted_label'], axis=1)"
      ],
      "metadata": {
        "id": "fOkUEgn62D9s"
      },
      "execution_count": null,
      "outputs": []
    },
    {
      "cell_type": "code",
      "source": [
        "# Write DataFrame to csv\n",
        "df_test.to_csv('BBC_News_Test_PredictionsNotTunedMF.csv', index=False)"
      ],
      "metadata": {
        "id": "LactltVY2D9s"
      },
      "execution_count": null,
      "outputs": []
    },
    {
      "cell_type": "code",
      "source": [
        "from google.colab import files\n",
        "files.download('BBC_News_Test_PredictionsNotTunedMF.csv')"
      ],
      "metadata": {
        "colab": {
          "base_uri": "https://localhost:8080/",
          "height": 18
        },
        "outputId": "d28942ae-4f48-4e57-df7a-930cadb48d96",
        "id": "bgGrrFOZ2D9s"
      },
      "execution_count": null,
      "outputs": [
        {
          "output_type": "display_data",
          "data": {
            "text/plain": [
              "<IPython.core.display.Javascript object>"
            ],
            "application/javascript": [
              "\n",
              "    async function download(id, filename, size) {\n",
              "      if (!google.colab.kernel.accessAllowed) {\n",
              "        return;\n",
              "      }\n",
              "      const div = document.createElement('div');\n",
              "      const label = document.createElement('label');\n",
              "      label.textContent = `Downloading \"${filename}\": `;\n",
              "      div.appendChild(label);\n",
              "      const progress = document.createElement('progress');\n",
              "      progress.max = size;\n",
              "      div.appendChild(progress);\n",
              "      document.body.appendChild(div);\n",
              "\n",
              "      const buffers = [];\n",
              "      let downloaded = 0;\n",
              "\n",
              "      const channel = await google.colab.kernel.comms.open(id);\n",
              "      // Send a message to notify the kernel that we're ready.\n",
              "      channel.send({})\n",
              "\n",
              "      for await (const message of channel.messages) {\n",
              "        // Send a message to notify the kernel that we're ready.\n",
              "        channel.send({})\n",
              "        if (message.buffers) {\n",
              "          for (const buffer of message.buffers) {\n",
              "            buffers.push(buffer);\n",
              "            downloaded += buffer.byteLength;\n",
              "            progress.value = downloaded;\n",
              "          }\n",
              "        }\n",
              "      }\n",
              "      const blob = new Blob(buffers, {type: 'application/binary'});\n",
              "      const a = document.createElement('a');\n",
              "      a.href = window.URL.createObjectURL(blob);\n",
              "      a.download = filename;\n",
              "      div.appendChild(a);\n",
              "      a.click();\n",
              "      div.remove();\n",
              "    }\n",
              "  "
            ]
          },
          "metadata": {}
        },
        {
          "output_type": "display_data",
          "data": {
            "text/plain": [
              "<IPython.core.display.Javascript object>"
            ],
            "application/javascript": [
              "download(\"download_d788fbd6-228f-46c7-9d40-129c56130908\", \"BBC_News_Test_PredictionsNotTunedMF.csv\", 9140)"
            ]
          },
          "metadata": {}
        }
      ]
    },
    {
      "cell_type": "markdown",
      "source": [
        "Accuracy score on the testing data set: 0.90204"
      ],
      "metadata": {
        "id": "kRxMON73jjhR"
      }
    },
    {
      "cell_type": "markdown",
      "source": [
        "![Screen Shot 2023-06-29 at 4.47.03 PM.png](data:image/png;base64,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)"
      ],
      "metadata": {
        "id": "U3HmXUJAjOXD"
      }
    },
    {
      "cell_type": "code",
      "source": [],
      "metadata": {
        "id": "bfPpz8eN_owe"
      },
      "execution_count": null,
      "outputs": []
    },
    {
      "cell_type": "markdown",
      "source": [
        "# Tuned NMF on 100% Training Data"
      ],
      "metadata": {
        "id": "cBGDCUQb28qa"
      }
    },
    {
      "cell_type": "code",
      "source": [
        "# Vectorize the text data\n",
        "vectorizer = TfidfVectorizer(max_df=0.9, min_df=3, max_features=1500, ngram_range=(1, 3))\n",
        "X_train = vectorizer.fit_transform(df['Text'])\n",
        "\n",
        "# Apply NMF\n",
        "n_topics = 5  # Increase the number of topics\n",
        "nmf = NMF(n_components=n_topics, random_state=1, beta_loss='kullback-leibler', solver='mu', max_iter=1000)\n",
        "W_train = nmf.fit_transform(X_train)  # Topic matrix\n"
      ],
      "metadata": {
        "id": "YugOVT0cfLG3"
      },
      "execution_count": null,
      "outputs": []
    },
    {
      "cell_type": "code",
      "source": [
        "\n",
        "# Assign the topic with the highest contribution as the label for each document in training data\n",
        "df['predicted_label'] = W_train.argmax(axis=1)\n",
        "\n",
        "# Repeat the process for the validation set\n",
        "X_val = vectorizer.transform(df['Text'])\n",
        "W_val = nmf.transform(X_val)\n",
        "df['predicted_label'] = W_val.argmax(axis=1)\n",
        "\n"
      ],
      "metadata": {
        "id": "a5kIdvTufLKK"
      },
      "execution_count": null,
      "outputs": []
    },
    {
      "cell_type": "code",
      "source": [
        "# Print out the top words for each topic\n",
        "n_top_words = 10\n",
        "feature_names = vectorizer.get_feature_names_out()\n",
        "\n",
        "for topic_idx, topic in enumerate(nmf.components_):\n",
        "    print(f\"Topic {topic_idx}\")\n",
        "    print(\" \".join([feature_names[i] for i in topic.argsort()[:-n_top_words - 1:-1]]))\n"
      ],
      "metadata": {
        "colab": {
          "base_uri": "https://localhost:8080/"
        },
        "id": "PxqzQtJnfLOL",
        "outputId": "54c5d91b-e54a-4660-b446-f03181e5b3d6"
      },
      "execution_count": null,
      "outputs": [
        {
          "output_type": "stream",
          "name": "stdout",
          "text": [
            "Topic 0\n",
            "game england win club player said match team champion cup\n",
            "Topic 1\n",
            "mr said election labour government party blair would minister tory\n",
            "Topic 2\n",
            "film award best star show band actor music year oscar\n",
            "Topic 3\n",
            "said company firm market bank year growth share sale price\n",
            "Topic 4\n",
            "mobile people phone technology said service software computer mail user\n"
          ]
        }
      ]
    },
    {
      "cell_type": "code",
      "source": [
        "# Create a mapping dictionary for labels\n",
        "label_dict = {0: 'sport', 1: 'politics', 2: 'entertainment', 3: 'business', 4: 'tech'}\n",
        "\n",
        "# Map the numerical labels to their corresponding categories\n",
        "df['predicted_label'] = df['predicted_label'].map(label_dict)"
      ],
      "metadata": {
        "id": "eOG30FvCfLR5"
      },
      "execution_count": null,
      "outputs": []
    },
    {
      "cell_type": "markdown",
      "source": [
        "Training accuracy after model tuning:"
      ],
      "metadata": {
        "id": "nOEULrkWghQo"
      }
    },
    {
      "cell_type": "code",
      "source": [
        "# Compute the accuracy score\n",
        "accuracy = accuracy_score(df['Category'], df['predicted_label'])\n",
        "print(f'Accuracy: {accuracy}')\n"
      ],
      "metadata": {
        "colab": {
          "base_uri": "https://localhost:8080/"
        },
        "id": "p3DFNQcYfLUw",
        "outputId": "7cd34c3e-6df2-47e4-c60e-0a5b34b4c37a"
      },
      "execution_count": null,
      "outputs": [
        {
          "output_type": "stream",
          "name": "stdout",
          "text": [
            "Accuracy: 0.9536912751677852\n"
          ]
        }
      ]
    },
    {
      "cell_type": "code",
      "source": [],
      "metadata": {
        "id": "mWdba5nKfLYj"
      },
      "execution_count": null,
      "outputs": []
    },
    {
      "cell_type": "code",
      "source": [
        "# Load the test data\n",
        "df_test = pd.read_csv('/content/gdrive/MyDrive/BBC News Test.csv', sep=',', header=0)"
      ],
      "metadata": {
        "id": "6wZ8uXS92xWF"
      },
      "execution_count": null,
      "outputs": []
    },
    {
      "cell_type": "code",
      "source": [
        "# Preprocess and Vectorize the test data\n",
        "X_test = vectorizer.transform(df_test['Text'])\n",
        "\n",
        "# Apply the NMF model\n",
        "W_test = nmf.transform(X_test)\n"
      ],
      "metadata": {
        "id": "S6Glgz0s2xWG"
      },
      "execution_count": null,
      "outputs": []
    },
    {
      "cell_type": "code",
      "source": [
        "# Print out the top words for each topic\n",
        "n_top_words = 10\n",
        "feature_names = vectorizer.get_feature_names_out()\n",
        "\n",
        "for topic_idx, topic in enumerate(nmf.components_):\n",
        "    print(f\"Topic {topic_idx}\")\n",
        "    print(\" \".join([feature_names[i] for i in topic.argsort()[:-n_top_words - 1:-1]]))"
      ],
      "metadata": {
        "colab": {
          "base_uri": "https://localhost:8080/"
        },
        "id": "-nJWDuOL4SHB",
        "outputId": "f68262d9-93c7-4030-fc50-52ecb05e40c6"
      },
      "execution_count": null,
      "outputs": [
        {
          "output_type": "stream",
          "name": "stdout",
          "text": [
            "Topic 0\n",
            "game england win club player said match team champion cup\n",
            "Topic 1\n",
            "mr said election labour government party blair would minister tory\n",
            "Topic 2\n",
            "film award best star show band actor music year oscar\n",
            "Topic 3\n",
            "said company firm market bank year growth share sale price\n",
            "Topic 4\n",
            "mobile people phone technology said service software computer mail user\n"
          ]
        }
      ]
    },
    {
      "cell_type": "code",
      "source": [
        "# Get the topic that has the maximum value for each document\n",
        "df_test['predicted_label'] = W_test.argmax(axis=1)"
      ],
      "metadata": {
        "id": "NrHU7F9L4pAe"
      },
      "execution_count": null,
      "outputs": []
    },
    {
      "cell_type": "code",
      "source": [
        "# Map the predicted labels to their respective categories\n",
        "label_to_category = {0: 'sport', 1: 'politics', 2: 'entertainment', 3: 'business', 4: 'tech'}\n",
        "df_test['predicted_category'] = df_test['predicted_label'].map(label_to_category)\n"
      ],
      "metadata": {
        "id": "KlBhwu2D2xWG"
      },
      "execution_count": null,
      "outputs": []
    },
    {
      "cell_type": "code",
      "source": [
        "# Drop 'Text' column\n",
        "df_test = df_test.drop(['Text'], axis=1)\n",
        "\n",
        "# Rename 'predicted_category' to 'Category'\n",
        "df_test = df_test.rename(columns={'predicted_category': 'Category'})\n"
      ],
      "metadata": {
        "id": "oBvZjfuY2xWH"
      },
      "execution_count": null,
      "outputs": []
    },
    {
      "cell_type": "code",
      "source": [
        "df_test.head(15)"
      ],
      "metadata": {
        "colab": {
          "base_uri": "https://localhost:8080/",
          "height": 520
        },
        "outputId": "81de3101-87a6-43e3-eee5-5faf4ca5b90b",
        "id": "QjIQusC_2xWI"
      },
      "execution_count": null,
      "outputs": [
        {
          "output_type": "execute_result",
          "data": {
            "text/plain": [
              "    ArticleId  predicted_label       Category\n",
              "0        1018                0          sport\n",
              "1        1319                4           tech\n",
              "2        1138                0          sport\n",
              "3         459                3       business\n",
              "4        1020                0          sport\n",
              "5          51                0          sport\n",
              "6        2025                1       politics\n",
              "7        1479                1       politics\n",
              "8          27                2  entertainment\n",
              "9         397                3       business\n",
              "10       1644                3       business\n",
              "11        263                4           tech\n",
              "12        765                1       politics\n",
              "13       2134                4           tech\n",
              "14        297                2  entertainment"
            ],
            "text/html": [
              "\n",
              "  <div id=\"df-4f875d22-31ed-4cae-98c0-3a9e61d0ced7\">\n",
              "    <div class=\"colab-df-container\">\n",
              "      <div>\n",
              "<style scoped>\n",
              "    .dataframe tbody tr th:only-of-type {\n",
              "        vertical-align: middle;\n",
              "    }\n",
              "\n",
              "    .dataframe tbody tr th {\n",
              "        vertical-align: top;\n",
              "    }\n",
              "\n",
              "    .dataframe thead th {\n",
              "        text-align: right;\n",
              "    }\n",
              "</style>\n",
              "<table border=\"1\" class=\"dataframe\">\n",
              "  <thead>\n",
              "    <tr style=\"text-align: right;\">\n",
              "      <th></th>\n",
              "      <th>ArticleId</th>\n",
              "      <th>predicted_label</th>\n",
              "      <th>Category</th>\n",
              "    </tr>\n",
              "  </thead>\n",
              "  <tbody>\n",
              "    <tr>\n",
              "      <th>0</th>\n",
              "      <td>1018</td>\n",
              "      <td>0</td>\n",
              "      <td>sport</td>\n",
              "    </tr>\n",
              "    <tr>\n",
              "      <th>1</th>\n",
              "      <td>1319</td>\n",
              "      <td>4</td>\n",
              "      <td>tech</td>\n",
              "    </tr>\n",
              "    <tr>\n",
              "      <th>2</th>\n",
              "      <td>1138</td>\n",
              "      <td>0</td>\n",
              "      <td>sport</td>\n",
              "    </tr>\n",
              "    <tr>\n",
              "      <th>3</th>\n",
              "      <td>459</td>\n",
              "      <td>3</td>\n",
              "      <td>business</td>\n",
              "    </tr>\n",
              "    <tr>\n",
              "      <th>4</th>\n",
              "      <td>1020</td>\n",
              "      <td>0</td>\n",
              "      <td>sport</td>\n",
              "    </tr>\n",
              "    <tr>\n",
              "      <th>5</th>\n",
              "      <td>51</td>\n",
              "      <td>0</td>\n",
              "      <td>sport</td>\n",
              "    </tr>\n",
              "    <tr>\n",
              "      <th>6</th>\n",
              "      <td>2025</td>\n",
              "      <td>1</td>\n",
              "      <td>politics</td>\n",
              "    </tr>\n",
              "    <tr>\n",
              "      <th>7</th>\n",
              "      <td>1479</td>\n",
              "      <td>1</td>\n",
              "      <td>politics</td>\n",
              "    </tr>\n",
              "    <tr>\n",
              "      <th>8</th>\n",
              "      <td>27</td>\n",
              "      <td>2</td>\n",
              "      <td>entertainment</td>\n",
              "    </tr>\n",
              "    <tr>\n",
              "      <th>9</th>\n",
              "      <td>397</td>\n",
              "      <td>3</td>\n",
              "      <td>business</td>\n",
              "    </tr>\n",
              "    <tr>\n",
              "      <th>10</th>\n",
              "      <td>1644</td>\n",
              "      <td>3</td>\n",
              "      <td>business</td>\n",
              "    </tr>\n",
              "    <tr>\n",
              "      <th>11</th>\n",
              "      <td>263</td>\n",
              "      <td>4</td>\n",
              "      <td>tech</td>\n",
              "    </tr>\n",
              "    <tr>\n",
              "      <th>12</th>\n",
              "      <td>765</td>\n",
              "      <td>1</td>\n",
              "      <td>politics</td>\n",
              "    </tr>\n",
              "    <tr>\n",
              "      <th>13</th>\n",
              "      <td>2134</td>\n",
              "      <td>4</td>\n",
              "      <td>tech</td>\n",
              "    </tr>\n",
              "    <tr>\n",
              "      <th>14</th>\n",
              "      <td>297</td>\n",
              "      <td>2</td>\n",
              "      <td>entertainment</td>\n",
              "    </tr>\n",
              "  </tbody>\n",
              "</table>\n",
              "</div>\n",
              "      <button class=\"colab-df-convert\" onclick=\"convertToInteractive('df-4f875d22-31ed-4cae-98c0-3a9e61d0ced7')\"\n",
              "              title=\"Convert this dataframe to an interactive table.\"\n",
              "              style=\"display:none;\">\n",
              "        \n",
              "  <svg xmlns=\"http://www.w3.org/2000/svg\" height=\"24px\"viewBox=\"0 0 24 24\"\n",
              "       width=\"24px\">\n",
              "    <path d=\"M0 0h24v24H0V0z\" fill=\"none\"/>\n",
              "    <path d=\"M18.56 5.44l.94 2.06.94-2.06 2.06-.94-2.06-.94-.94-2.06-.94 2.06-2.06.94zm-11 1L8.5 8.5l.94-2.06 2.06-.94-2.06-.94L8.5 2.5l-.94 2.06-2.06.94zm10 10l.94 2.06.94-2.06 2.06-.94-2.06-.94-.94-2.06-.94 2.06-2.06.94z\"/><path d=\"M17.41 7.96l-1.37-1.37c-.4-.4-.92-.59-1.43-.59-.52 0-1.04.2-1.43.59L10.3 9.45l-7.72 7.72c-.78.78-.78 2.05 0 2.83L4 21.41c.39.39.9.59 1.41.59.51 0 1.02-.2 1.41-.59l7.78-7.78 2.81-2.81c.8-.78.8-2.07 0-2.86zM5.41 20L4 18.59l7.72-7.72 1.47 1.35L5.41 20z\"/>\n",
              "  </svg>\n",
              "      </button>\n",
              "      \n",
              "  <style>\n",
              "    .colab-df-container {\n",
              "      display:flex;\n",
              "      flex-wrap:wrap;\n",
              "      gap: 12px;\n",
              "    }\n",
              "\n",
              "    .colab-df-convert {\n",
              "      background-color: #E8F0FE;\n",
              "      border: none;\n",
              "      border-radius: 50%;\n",
              "      cursor: pointer;\n",
              "      display: none;\n",
              "      fill: #1967D2;\n",
              "      height: 32px;\n",
              "      padding: 0 0 0 0;\n",
              "      width: 32px;\n",
              "    }\n",
              "\n",
              "    .colab-df-convert:hover {\n",
              "      background-color: #E2EBFA;\n",
              "      box-shadow: 0px 1px 2px rgba(60, 64, 67, 0.3), 0px 1px 3px 1px rgba(60, 64, 67, 0.15);\n",
              "      fill: #174EA6;\n",
              "    }\n",
              "\n",
              "    [theme=dark] .colab-df-convert {\n",
              "      background-color: #3B4455;\n",
              "      fill: #D2E3FC;\n",
              "    }\n",
              "\n",
              "    [theme=dark] .colab-df-convert:hover {\n",
              "      background-color: #434B5C;\n",
              "      box-shadow: 0px 1px 3px 1px rgba(0, 0, 0, 0.15);\n",
              "      filter: drop-shadow(0px 1px 2px rgba(0, 0, 0, 0.3));\n",
              "      fill: #FFFFFF;\n",
              "    }\n",
              "  </style>\n",
              "\n",
              "      <script>\n",
              "        const buttonEl =\n",
              "          document.querySelector('#df-4f875d22-31ed-4cae-98c0-3a9e61d0ced7 button.colab-df-convert');\n",
              "        buttonEl.style.display =\n",
              "          google.colab.kernel.accessAllowed ? 'block' : 'none';\n",
              "\n",
              "        async function convertToInteractive(key) {\n",
              "          const element = document.querySelector('#df-4f875d22-31ed-4cae-98c0-3a9e61d0ced7');\n",
              "          const dataTable =\n",
              "            await google.colab.kernel.invokeFunction('convertToInteractive',\n",
              "                                                     [key], {});\n",
              "          if (!dataTable) return;\n",
              "\n",
              "          const docLinkHtml = 'Like what you see? Visit the ' +\n",
              "            '<a target=\"_blank\" href=https://colab.research.google.com/notebooks/data_table.ipynb>data table notebook</a>'\n",
              "            + ' to learn more about interactive tables.';\n",
              "          element.innerHTML = '';\n",
              "          dataTable['output_type'] = 'display_data';\n",
              "          await google.colab.output.renderOutput(dataTable, element);\n",
              "          const docLink = document.createElement('div');\n",
              "          docLink.innerHTML = docLinkHtml;\n",
              "          element.appendChild(docLink);\n",
              "        }\n",
              "      </script>\n",
              "    </div>\n",
              "  </div>\n",
              "  "
            ]
          },
          "metadata": {},
          "execution_count": 104
        }
      ]
    },
    {
      "cell_type": "code",
      "source": [
        "# Drop column\n",
        "df_test = df_test.drop(['predicted_label'], axis=1)"
      ],
      "metadata": {
        "id": "dWVj1Iud4zW_"
      },
      "execution_count": null,
      "outputs": []
    },
    {
      "cell_type": "code",
      "source": [
        "# Write DataFrame to csv\n",
        "df_test.to_csv('BBC_News_Test_PredictionsMF.csv', index=False)"
      ],
      "metadata": {
        "id": "iPWg1Whi2xWI"
      },
      "execution_count": null,
      "outputs": []
    },
    {
      "cell_type": "code",
      "source": [
        "from google.colab import files\n",
        "files.download('BBC_News_Test_PredictionsMF.csv')"
      ],
      "metadata": {
        "colab": {
          "base_uri": "https://localhost:8080/",
          "height": 39
        },
        "outputId": "9d1bf648-8bbd-4d1d-fa85-810bc938266a",
        "id": "WT3JZvhZ2xWJ"
      },
      "execution_count": null,
      "outputs": [
        {
          "output_type": "display_data",
          "data": {
            "text/plain": [
              "<IPython.core.display.Javascript object>"
            ],
            "application/javascript": [
              "\n",
              "    async function download(id, filename, size) {\n",
              "      if (!google.colab.kernel.accessAllowed) {\n",
              "        return;\n",
              "      }\n",
              "      const div = document.createElement('div');\n",
              "      const label = document.createElement('label');\n",
              "      label.textContent = `Downloading \"${filename}\": `;\n",
              "      div.appendChild(label);\n",
              "      const progress = document.createElement('progress');\n",
              "      progress.max = size;\n",
              "      div.appendChild(progress);\n",
              "      document.body.appendChild(div);\n",
              "\n",
              "      const buffers = [];\n",
              "      let downloaded = 0;\n",
              "\n",
              "      const channel = await google.colab.kernel.comms.open(id);\n",
              "      // Send a message to notify the kernel that we're ready.\n",
              "      channel.send({})\n",
              "\n",
              "      for await (const message of channel.messages) {\n",
              "        // Send a message to notify the kernel that we're ready.\n",
              "        channel.send({})\n",
              "        if (message.buffers) {\n",
              "          for (const buffer of message.buffers) {\n",
              "            buffers.push(buffer);\n",
              "            downloaded += buffer.byteLength;\n",
              "            progress.value = downloaded;\n",
              "          }\n",
              "        }\n",
              "      }\n",
              "      const blob = new Blob(buffers, {type: 'application/binary'});\n",
              "      const a = document.createElement('a');\n",
              "      a.href = window.URL.createObjectURL(blob);\n",
              "      a.download = filename;\n",
              "      div.appendChild(a);\n",
              "      a.click();\n",
              "      div.remove();\n",
              "    }\n",
              "  "
            ]
          },
          "metadata": {}
        },
        {
          "output_type": "display_data",
          "data": {
            "text/plain": [
              "<IPython.core.display.Javascript object>"
            ],
            "application/javascript": [
              "download(\"download_633f9574-5a47-49a8-822c-8f74ce264a04\", \"BBC_News_Test_PredictionsMF.csv\", 9080)"
            ]
          },
          "metadata": {}
        }
      ]
    },
    {
      "cell_type": "markdown",
      "source": [
        "Accuracy score of the tuned NMF model on the testing data: 0.88571. Even though the training accuracy increases sharply to 0.95, the testing accuracy decreases marginally 0.90240 to 0.88571. This can signal that the tuned model is actually overfitted leading to the worse outcome."
      ],
      "metadata": {
        "id": "hqMuh9Y8mSlR"
      }
    },
    {
      "cell_type": "markdown",
      "source": [
        "![Screen Shot 2023-06-29 at 4.59.17 PM.png](data:image/png;base64,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)"
      ],
      "metadata": {
        "id": "MXiphR1FmIKJ"
      }
    },
    {
      "cell_type": "markdown",
      "source": [
        "# Untuned NMF Model using 50% of Training data"
      ],
      "metadata": {
        "id": "ur1bPenS_qhW"
      }
    },
    {
      "cell_type": "markdown",
      "source": [
        "### Data Splitting"
      ],
      "metadata": {
        "id": "NLBvEj-9kf6l"
      }
    },
    {
      "cell_type": "code",
      "source": [
        "from sklearn.model_selection import train_test_split\n",
        "\n",
        "# Load the training data\n",
        "df = pd.read_csv('/content/gdrive/MyDrive/BBC News Train.csv', sep=',', header=0)\n",
        "\n",
        "# Split the data into training and validation sets\n",
        "train_df, _ = train_test_split(df, test_size=0.5, random_state=42)"
      ],
      "metadata": {
        "id": "3wUVwmbv_o1U"
      },
      "execution_count": null,
      "outputs": []
    },
    {
      "cell_type": "markdown",
      "source": [
        "### Data Preprocessing"
      ],
      "metadata": {
        "id": "lX_HZDkgklRz"
      }
    },
    {
      "cell_type": "code",
      "source": [
        "# Function to preprocess the text\n",
        "def preprocess_text(text):\n",
        "    text = text.lower()  # Lowercase\n",
        "    text = [lemmatizer.lemmatize(word) for word in text.split() if word not in stop_words]  # Lemmatize and remove stopwords\n",
        "    return ' '.join(text)"
      ],
      "metadata": {
        "id": "t6AA1Yhg_o7Z"
      },
      "execution_count": null,
      "outputs": []
    },
    {
      "cell_type": "code",
      "source": [
        "# Preprocess the text data\n",
        "train_df['Text'] = train_df['Text'].apply(preprocess_text)"
      ],
      "metadata": {
        "id": "y5H1GcTN_pBh"
      },
      "execution_count": null,
      "outputs": []
    },
    {
      "cell_type": "code",
      "source": [
        "# Vectorize the text data\n",
        "vectorizer = TfidfVectorizer()\n",
        "X_train = vectorizer.fit_transform(train_df['Text'])"
      ],
      "metadata": {
        "id": "eiHWjm6n_pHJ"
      },
      "execution_count": null,
      "outputs": []
    },
    {
      "cell_type": "markdown",
      "source": [
        "### Model Building"
      ],
      "metadata": {
        "id": "ivSwHp1pkpF3"
      }
    },
    {
      "cell_type": "code",
      "source": [
        "# Define the number of topics\n",
        "n_topics = 5\n",
        "\n",
        "# Apply NMF\n",
        "nmf = NMF(n_components=n_topics, random_state=1)\n",
        "W_train = nmf.fit_transform(X_train)  # Topic matrix\n"
      ],
      "metadata": {
        "id": "XeB-sevG_pMr"
      },
      "execution_count": null,
      "outputs": []
    },
    {
      "cell_type": "code",
      "source": [
        "# Display top words in each topic to assign labels\n",
        "n_top_words = 10\n",
        "feature_names = vectorizer.get_feature_names_out()\n",
        "\n",
        "for topic_idx, topic in enumerate(nmf.components_):\n",
        "    print(f\"Topic {topic_idx + 1}\")\n",
        "    print(\" \".join([feature_names[i] for i in topic.argsort()[:-n_top_words - 1:-1]]))"
      ],
      "metadata": {
        "colab": {
          "base_uri": "https://localhost:8080/"
        },
        "id": "LUQkZBi8_pSg",
        "outputId": "1f06ff5a-3dc7-490c-fa9f-92b7d1db1a1e"
      },
      "execution_count": null,
      "outputs": [
        {
          "output_type": "stream",
          "name": "stdout",
          "text": [
            "Topic 1\n",
            "england game ireland player win wale match first injury france\n",
            "Topic 2\n",
            "mr election labour blair brown party said tory tax would\n",
            "Topic 3\n",
            "mobile phone people technology service music broadband digital video said\n",
            "Topic 4\n",
            "film best award actor oscar festival star director actress comedy\n",
            "Topic 5\n",
            "said economy growth bank year company firm market economic rate\n"
          ]
        }
      ]
    },
    {
      "cell_type": "code",
      "source": [
        "# Apply the same preprocessing and vectorization to the validation set\n",
        "X_val = vectorizer.transform(df['Text'])\n",
        "\n",
        "# Transform the validation data using the trained NMF model\n",
        "W_val = nmf.transform(X_val)\n"
      ],
      "metadata": {
        "id": "j1c5MeW4_pZM"
      },
      "execution_count": null,
      "outputs": []
    },
    {
      "cell_type": "code",
      "source": [
        "# Assign the topic with the highest contribution as the label for each document in the validation set\n",
        "df['predicted_label'] = W_val.argmax(axis=1)\n",
        "\n",
        "# Create a mapping dictionary\n",
        "label_dict = {0: 'sport', 1: 'politics', 2: 'tech', 3: 'entertainment', 4: 'business'}\n",
        "\n",
        "# Map the predicted labels to their corresponding categories\n",
        "df['predicted_label'] = df['predicted_label'].map(label_dict)"
      ],
      "metadata": {
        "id": "GmgSB275_pfc"
      },
      "execution_count": null,
      "outputs": []
    },
    {
      "cell_type": "code",
      "source": [
        "# Compute the accuracy score\n",
        "accuracy = accuracy_score(df['Category'], df['predicted_label'])\n",
        "print(f'Accuracy: {accuracy}')"
      ],
      "metadata": {
        "colab": {
          "base_uri": "https://localhost:8080/"
        },
        "id": "5yW9V2Fj_pl9",
        "outputId": "f67db3ca-afc7-433d-a86d-b470e82e370a"
      },
      "execution_count": null,
      "outputs": [
        {
          "output_type": "stream",
          "name": "stdout",
          "text": [
            "Accuracy: 0.8973154362416107\n"
          ]
        }
      ]
    },
    {
      "cell_type": "markdown",
      "source": [
        "### Predicting on Testing data"
      ],
      "metadata": {
        "id": "jshXIQ5Vk4HN"
      }
    },
    {
      "cell_type": "code",
      "source": [
        "# Load the test data\n",
        "df_test = pd.read_csv('/content/gdrive/MyDrive/BBC News Test.csv', sep=',', header=0)"
      ],
      "metadata": {
        "id": "RhZctNkeD32k"
      },
      "execution_count": null,
      "outputs": []
    },
    {
      "cell_type": "code",
      "source": [
        "# Preprocess and Vectorize the test data\n",
        "X_test = vectorizer.transform(df_test['Text'])\n",
        "\n",
        "# Apply the NMF model\n",
        "W_test = nmf.transform(X_test)\n"
      ],
      "metadata": {
        "id": "XgRQRgHfD32l"
      },
      "execution_count": null,
      "outputs": []
    },
    {
      "cell_type": "code",
      "source": [
        "# Print out the top words for each topic\n",
        "n_top_words = 10\n",
        "feature_names = vectorizer.get_feature_names_out()\n",
        "\n",
        "for topic_idx, topic in enumerate(nmf.components_):\n",
        "    print(f\"Topic {topic_idx}\")\n",
        "    print(\" \".join([feature_names[i] for i in topic.argsort()[:-n_top_words - 1:-1]]))"
      ],
      "metadata": {
        "colab": {
          "base_uri": "https://localhost:8080/"
        },
        "outputId": "b1e6e23f-9438-499a-fbb1-714e5b8cccc3",
        "id": "fQk92avcD32l"
      },
      "execution_count": null,
      "outputs": [
        {
          "output_type": "stream",
          "name": "stdout",
          "text": [
            "Topic 0\n",
            "england game ireland player win wale match first injury france\n",
            "Topic 1\n",
            "mr election labour blair brown party said tory tax would\n",
            "Topic 2\n",
            "mobile phone people technology service music broadband digital video said\n",
            "Topic 3\n",
            "film best award actor oscar festival star director actress comedy\n",
            "Topic 4\n",
            "said economy growth bank year company firm market economic rate\n"
          ]
        }
      ]
    },
    {
      "cell_type": "code",
      "source": [
        "# Get the topic that has the maximum value for each document\n",
        "df_test['predicted_label'] = W_test.argmax(axis=1)"
      ],
      "metadata": {
        "id": "AxK0n3TXD32m"
      },
      "execution_count": null,
      "outputs": []
    },
    {
      "cell_type": "code",
      "source": [
        "# Map the predicted labels to their respective categories\n",
        "label_to_category = {0: 'sport', 1: 'politics', 2: 'tech', 3: 'entertainment', 4: 'business'}\n",
        "df_test['predicted_category'] = df_test['predicted_label'].map(label_to_category)\n"
      ],
      "metadata": {
        "id": "MMIOXTBCD32m"
      },
      "execution_count": null,
      "outputs": []
    },
    {
      "cell_type": "code",
      "source": [
        "# Drop 'Text' column\n",
        "df_test = df_test.drop(['Text'], axis=1)\n",
        "\n",
        "# Rename 'predicted_category' to 'Category'\n",
        "df_test = df_test.rename(columns={'predicted_category': 'Category'})\n"
      ],
      "metadata": {
        "id": "jK2Mh_NuD32n"
      },
      "execution_count": null,
      "outputs": []
    },
    {
      "cell_type": "code",
      "source": [
        "df_test.head(15)"
      ],
      "metadata": {
        "colab": {
          "base_uri": "https://localhost:8080/",
          "height": 520
        },
        "outputId": "bb85d269-aa84-4422-cb80-786e03884e40",
        "id": "A1MQZJb_D32n"
      },
      "execution_count": null,
      "outputs": [
        {
          "output_type": "execute_result",
          "data": {
            "text/plain": [
              "    ArticleId  predicted_label       Category\n",
              "0        1018                0          sport\n",
              "1        1319                2           tech\n",
              "2        1138                0          sport\n",
              "3         459                4       business\n",
              "4        1020                0          sport\n",
              "5          51                0          sport\n",
              "6        2025                1       politics\n",
              "7        1479                1       politics\n",
              "8          27                3  entertainment\n",
              "9         397                4       business\n",
              "10       1644                4       business\n",
              "11        263                2           tech\n",
              "12        765                1       politics\n",
              "13       2134                2           tech\n",
              "14        297                3  entertainment"
            ],
            "text/html": [
              "\n",
              "  <div id=\"df-8caf3870-63f4-4384-8403-c1085ee58f93\">\n",
              "    <div class=\"colab-df-container\">\n",
              "      <div>\n",
              "<style scoped>\n",
              "    .dataframe tbody tr th:only-of-type {\n",
              "        vertical-align: middle;\n",
              "    }\n",
              "\n",
              "    .dataframe tbody tr th {\n",
              "        vertical-align: top;\n",
              "    }\n",
              "\n",
              "    .dataframe thead th {\n",
              "        text-align: right;\n",
              "    }\n",
              "</style>\n",
              "<table border=\"1\" class=\"dataframe\">\n",
              "  <thead>\n",
              "    <tr style=\"text-align: right;\">\n",
              "      <th></th>\n",
              "      <th>ArticleId</th>\n",
              "      <th>predicted_label</th>\n",
              "      <th>Category</th>\n",
              "    </tr>\n",
              "  </thead>\n",
              "  <tbody>\n",
              "    <tr>\n",
              "      <th>0</th>\n",
              "      <td>1018</td>\n",
              "      <td>0</td>\n",
              "      <td>sport</td>\n",
              "    </tr>\n",
              "    <tr>\n",
              "      <th>1</th>\n",
              "      <td>1319</td>\n",
              "      <td>2</td>\n",
              "      <td>tech</td>\n",
              "    </tr>\n",
              "    <tr>\n",
              "      <th>2</th>\n",
              "      <td>1138</td>\n",
              "      <td>0</td>\n",
              "      <td>sport</td>\n",
              "    </tr>\n",
              "    <tr>\n",
              "      <th>3</th>\n",
              "      <td>459</td>\n",
              "      <td>4</td>\n",
              "      <td>business</td>\n",
              "    </tr>\n",
              "    <tr>\n",
              "      <th>4</th>\n",
              "      <td>1020</td>\n",
              "      <td>0</td>\n",
              "      <td>sport</td>\n",
              "    </tr>\n",
              "    <tr>\n",
              "      <th>5</th>\n",
              "      <td>51</td>\n",
              "      <td>0</td>\n",
              "      <td>sport</td>\n",
              "    </tr>\n",
              "    <tr>\n",
              "      <th>6</th>\n",
              "      <td>2025</td>\n",
              "      <td>1</td>\n",
              "      <td>politics</td>\n",
              "    </tr>\n",
              "    <tr>\n",
              "      <th>7</th>\n",
              "      <td>1479</td>\n",
              "      <td>1</td>\n",
              "      <td>politics</td>\n",
              "    </tr>\n",
              "    <tr>\n",
              "      <th>8</th>\n",
              "      <td>27</td>\n",
              "      <td>3</td>\n",
              "      <td>entertainment</td>\n",
              "    </tr>\n",
              "    <tr>\n",
              "      <th>9</th>\n",
              "      <td>397</td>\n",
              "      <td>4</td>\n",
              "      <td>business</td>\n",
              "    </tr>\n",
              "    <tr>\n",
              "      <th>10</th>\n",
              "      <td>1644</td>\n",
              "      <td>4</td>\n",
              "      <td>business</td>\n",
              "    </tr>\n",
              "    <tr>\n",
              "      <th>11</th>\n",
              "      <td>263</td>\n",
              "      <td>2</td>\n",
              "      <td>tech</td>\n",
              "    </tr>\n",
              "    <tr>\n",
              "      <th>12</th>\n",
              "      <td>765</td>\n",
              "      <td>1</td>\n",
              "      <td>politics</td>\n",
              "    </tr>\n",
              "    <tr>\n",
              "      <th>13</th>\n",
              "      <td>2134</td>\n",
              "      <td>2</td>\n",
              "      <td>tech</td>\n",
              "    </tr>\n",
              "    <tr>\n",
              "      <th>14</th>\n",
              "      <td>297</td>\n",
              "      <td>3</td>\n",
              "      <td>entertainment</td>\n",
              "    </tr>\n",
              "  </tbody>\n",
              "</table>\n",
              "</div>\n",
              "      <button class=\"colab-df-convert\" onclick=\"convertToInteractive('df-8caf3870-63f4-4384-8403-c1085ee58f93')\"\n",
              "              title=\"Convert this dataframe to an interactive table.\"\n",
              "              style=\"display:none;\">\n",
              "        \n",
              "  <svg xmlns=\"http://www.w3.org/2000/svg\" height=\"24px\"viewBox=\"0 0 24 24\"\n",
              "       width=\"24px\">\n",
              "    <path d=\"M0 0h24v24H0V0z\" fill=\"none\"/>\n",
              "    <path d=\"M18.56 5.44l.94 2.06.94-2.06 2.06-.94-2.06-.94-.94-2.06-.94 2.06-2.06.94zm-11 1L8.5 8.5l.94-2.06 2.06-.94-2.06-.94L8.5 2.5l-.94 2.06-2.06.94zm10 10l.94 2.06.94-2.06 2.06-.94-2.06-.94-.94-2.06-.94 2.06-2.06.94z\"/><path d=\"M17.41 7.96l-1.37-1.37c-.4-.4-.92-.59-1.43-.59-.52 0-1.04.2-1.43.59L10.3 9.45l-7.72 7.72c-.78.78-.78 2.05 0 2.83L4 21.41c.39.39.9.59 1.41.59.51 0 1.02-.2 1.41-.59l7.78-7.78 2.81-2.81c.8-.78.8-2.07 0-2.86zM5.41 20L4 18.59l7.72-7.72 1.47 1.35L5.41 20z\"/>\n",
              "  </svg>\n",
              "      </button>\n",
              "      \n",
              "  <style>\n",
              "    .colab-df-container {\n",
              "      display:flex;\n",
              "      flex-wrap:wrap;\n",
              "      gap: 12px;\n",
              "    }\n",
              "\n",
              "    .colab-df-convert {\n",
              "      background-color: #E8F0FE;\n",
              "      border: none;\n",
              "      border-radius: 50%;\n",
              "      cursor: pointer;\n",
              "      display: none;\n",
              "      fill: #1967D2;\n",
              "      height: 32px;\n",
              "      padding: 0 0 0 0;\n",
              "      width: 32px;\n",
              "    }\n",
              "\n",
              "    .colab-df-convert:hover {\n",
              "      background-color: #E2EBFA;\n",
              "      box-shadow: 0px 1px 2px rgba(60, 64, 67, 0.3), 0px 1px 3px 1px rgba(60, 64, 67, 0.15);\n",
              "      fill: #174EA6;\n",
              "    }\n",
              "\n",
              "    [theme=dark] .colab-df-convert {\n",
              "      background-color: #3B4455;\n",
              "      fill: #D2E3FC;\n",
              "    }\n",
              "\n",
              "    [theme=dark] .colab-df-convert:hover {\n",
              "      background-color: #434B5C;\n",
              "      box-shadow: 0px 1px 3px 1px rgba(0, 0, 0, 0.15);\n",
              "      filter: drop-shadow(0px 1px 2px rgba(0, 0, 0, 0.3));\n",
              "      fill: #FFFFFF;\n",
              "    }\n",
              "  </style>\n",
              "\n",
              "      <script>\n",
              "        const buttonEl =\n",
              "          document.querySelector('#df-8caf3870-63f4-4384-8403-c1085ee58f93 button.colab-df-convert');\n",
              "        buttonEl.style.display =\n",
              "          google.colab.kernel.accessAllowed ? 'block' : 'none';\n",
              "\n",
              "        async function convertToInteractive(key) {\n",
              "          const element = document.querySelector('#df-8caf3870-63f4-4384-8403-c1085ee58f93');\n",
              "          const dataTable =\n",
              "            await google.colab.kernel.invokeFunction('convertToInteractive',\n",
              "                                                     [key], {});\n",
              "          if (!dataTable) return;\n",
              "\n",
              "          const docLinkHtml = 'Like what you see? Visit the ' +\n",
              "            '<a target=\"_blank\" href=https://colab.research.google.com/notebooks/data_table.ipynb>data table notebook</a>'\n",
              "            + ' to learn more about interactive tables.';\n",
              "          element.innerHTML = '';\n",
              "          dataTable['output_type'] = 'display_data';\n",
              "          await google.colab.output.renderOutput(dataTable, element);\n",
              "          const docLink = document.createElement('div');\n",
              "          docLink.innerHTML = docLinkHtml;\n",
              "          element.appendChild(docLink);\n",
              "        }\n",
              "      </script>\n",
              "    </div>\n",
              "  </div>\n",
              "  "
            ]
          },
          "metadata": {},
          "execution_count": 162
        }
      ]
    },
    {
      "cell_type": "code",
      "source": [
        "# Drop column\n",
        "df_test = df_test.drop(['predicted_label'], axis=1)"
      ],
      "metadata": {
        "id": "5KFuU5jgD32o"
      },
      "execution_count": null,
      "outputs": []
    },
    {
      "cell_type": "code",
      "source": [
        "# Write DataFrame to csv\n",
        "df_test.to_csv('BBC_News_Test_PredictionsNotTunedMF50.csv', index=False)"
      ],
      "metadata": {
        "id": "QeGr52d_D32p"
      },
      "execution_count": null,
      "outputs": []
    },
    {
      "cell_type": "code",
      "source": [
        "from google.colab import files\n",
        "files.download('BBC_News_Test_PredictionsNotTunedMF50.csv')"
      ],
      "metadata": {
        "colab": {
          "base_uri": "https://localhost:8080/",
          "height": 18
        },
        "outputId": "6a8d03aa-9e7e-4120-e173-937151249ef8",
        "id": "qF0C2w18D32p"
      },
      "execution_count": null,
      "outputs": [
        {
          "output_type": "display_data",
          "data": {
            "text/plain": [
              "<IPython.core.display.Javascript object>"
            ],
            "application/javascript": [
              "\n",
              "    async function download(id, filename, size) {\n",
              "      if (!google.colab.kernel.accessAllowed) {\n",
              "        return;\n",
              "      }\n",
              "      const div = document.createElement('div');\n",
              "      const label = document.createElement('label');\n",
              "      label.textContent = `Downloading \"${filename}\": `;\n",
              "      div.appendChild(label);\n",
              "      const progress = document.createElement('progress');\n",
              "      progress.max = size;\n",
              "      div.appendChild(progress);\n",
              "      document.body.appendChild(div);\n",
              "\n",
              "      const buffers = [];\n",
              "      let downloaded = 0;\n",
              "\n",
              "      const channel = await google.colab.kernel.comms.open(id);\n",
              "      // Send a message to notify the kernel that we're ready.\n",
              "      channel.send({})\n",
              "\n",
              "      for await (const message of channel.messages) {\n",
              "        // Send a message to notify the kernel that we're ready.\n",
              "        channel.send({})\n",
              "        if (message.buffers) {\n",
              "          for (const buffer of message.buffers) {\n",
              "            buffers.push(buffer);\n",
              "            downloaded += buffer.byteLength;\n",
              "            progress.value = downloaded;\n",
              "          }\n",
              "        }\n",
              "      }\n",
              "      const blob = new Blob(buffers, {type: 'application/binary'});\n",
              "      const a = document.createElement('a');\n",
              "      a.href = window.URL.createObjectURL(blob);\n",
              "      a.download = filename;\n",
              "      div.appendChild(a);\n",
              "      a.click();\n",
              "      div.remove();\n",
              "    }\n",
              "  "
            ]
          },
          "metadata": {}
        },
        {
          "output_type": "display_data",
          "data": {
            "text/plain": [
              "<IPython.core.display.Javascript object>"
            ],
            "application/javascript": [
              "download(\"download_cb303646-9b49-4aab-ab1c-b48647b35a72\", \"BBC_News_Test_PredictionsNotTunedMF50.csv\", 9145)"
            ]
          },
          "metadata": {}
        }
      ]
    },
    {
      "cell_type": "code",
      "source": [],
      "metadata": {
        "id": "zXRRqBsaoA6b"
      },
      "execution_count": null,
      "outputs": []
    },
    {
      "cell_type": "markdown",
      "source": [
        "Accuracy score of the untuned NMF model using 50% of the training data. The score is approximately the same as the model using 100% of the training data. We can conclude that NMF models are generally data-efficient: they require a smaller amount of data to achieve similar results."
      ],
      "metadata": {
        "id": "ABnJBVKVnkFI"
      }
    },
    {
      "cell_type": "markdown",
      "source": [
        "![Screen Shot 2023-06-29 at 5.04.50 PM.png](data:image/png;base64,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)"
      ],
      "metadata": {
        "id": "JOGrHVDznVkO"
      }
    },
    {
      "cell_type": "markdown",
      "source": [
        "# Untuned XGBoost using 100% of Training Data"
      ],
      "metadata": {
        "id": "fFO7bWMig3j9"
      }
    },
    {
      "cell_type": "code",
      "source": [
        "from sklearn.feature_extraction.text import TfidfVectorizer\n",
        "\n",
        "# Vectorize the text data\n",
        "vectorizer = TfidfVectorizer(max_features=1000)\n",
        "X_train = vectorizer.fit_transform(df['Text'])\n"
      ],
      "metadata": {
        "id": "6UKLaqbWfLc1"
      },
      "execution_count": null,
      "outputs": []
    },
    {
      "cell_type": "code",
      "source": [
        "from sklearn.preprocessing import LabelEncoder\n",
        "\n",
        "# Convert categories to numerical form\n",
        "encoder = LabelEncoder()\n",
        "y_train = encoder.fit_transform(df['Category'])\n"
      ],
      "metadata": {
        "id": "6uWqk86jfLhE"
      },
      "execution_count": null,
      "outputs": []
    },
    {
      "cell_type": "code",
      "source": [
        "from xgboost import XGBClassifier\n",
        "\n",
        "# Create and train the model\n",
        "model = XGBClassifier()\n",
        "model.fit(X_train, y_train)\n"
      ],
      "metadata": {
        "colab": {
          "base_uri": "https://localhost:8080/",
          "height": 52
        },
        "id": "W4I_3fAGfLla",
        "outputId": "d532938a-5641-4e28-86e5-117affe49937"
      },
      "execution_count": null,
      "outputs": [
        {
          "output_type": "execute_result",
          "data": {
            "text/plain": [
              "XGBClassifier(base_score=None, booster=None, callbacks=None,\n",
              "              colsample_bylevel=None, colsample_bynode=None,\n",
              "              colsample_bytree=None, early_stopping_rounds=None,\n",
              "              enable_categorical=False, eval_metric=None, feature_types=None,\n",
              "              gamma=None, gpu_id=None, grow_policy=None, importance_type=None,\n",
              "              interaction_constraints=None, learning_rate=None, max_bin=None,\n",
              "              max_cat_threshold=None, max_cat_to_onehot=None,\n",
              "              max_delta_step=None, max_depth=None, max_leaves=None,\n",
              "              min_child_weight=None, missing=nan, monotone_constraints=None,\n",
              "              n_estimators=100, n_jobs=None, num_parallel_tree=None,\n",
              "              objective='multi:softprob', predictor=None, ...)"
            ],
            "text/html": [
              "<style>#sk-container-id-1 {color: black;background-color: white;}#sk-container-id-1 pre{padding: 0;}#sk-container-id-1 div.sk-toggleable {background-color: white;}#sk-container-id-1 label.sk-toggleable__label {cursor: pointer;display: block;width: 100%;margin-bottom: 0;padding: 0.3em;box-sizing: border-box;text-align: center;}#sk-container-id-1 label.sk-toggleable__label-arrow:before {content: \"▸\";float: left;margin-right: 0.25em;color: #696969;}#sk-container-id-1 label.sk-toggleable__label-arrow:hover:before {color: black;}#sk-container-id-1 div.sk-estimator:hover label.sk-toggleable__label-arrow:before {color: black;}#sk-container-id-1 div.sk-toggleable__content {max-height: 0;max-width: 0;overflow: hidden;text-align: left;background-color: #f0f8ff;}#sk-container-id-1 div.sk-toggleable__content pre {margin: 0.2em;color: black;border-radius: 0.25em;background-color: #f0f8ff;}#sk-container-id-1 input.sk-toggleable__control:checked~div.sk-toggleable__content {max-height: 200px;max-width: 100%;overflow: auto;}#sk-container-id-1 input.sk-toggleable__control:checked~label.sk-toggleable__label-arrow:before {content: \"▾\";}#sk-container-id-1 div.sk-estimator input.sk-toggleable__control:checked~label.sk-toggleable__label {background-color: #d4ebff;}#sk-container-id-1 div.sk-label input.sk-toggleable__control:checked~label.sk-toggleable__label {background-color: #d4ebff;}#sk-container-id-1 input.sk-hidden--visually {border: 0;clip: rect(1px 1px 1px 1px);clip: rect(1px, 1px, 1px, 1px);height: 1px;margin: -1px;overflow: hidden;padding: 0;position: absolute;width: 1px;}#sk-container-id-1 div.sk-estimator {font-family: monospace;background-color: #f0f8ff;border: 1px dotted black;border-radius: 0.25em;box-sizing: border-box;margin-bottom: 0.5em;}#sk-container-id-1 div.sk-estimator:hover {background-color: #d4ebff;}#sk-container-id-1 div.sk-parallel-item::after {content: \"\";width: 100%;border-bottom: 1px solid gray;flex-grow: 1;}#sk-container-id-1 div.sk-label:hover label.sk-toggleable__label {background-color: #d4ebff;}#sk-container-id-1 div.sk-serial::before {content: \"\";position: absolute;border-left: 1px solid gray;box-sizing: border-box;top: 0;bottom: 0;left: 50%;z-index: 0;}#sk-container-id-1 div.sk-serial {display: flex;flex-direction: column;align-items: center;background-color: white;padding-right: 0.2em;padding-left: 0.2em;position: relative;}#sk-container-id-1 div.sk-item {position: relative;z-index: 1;}#sk-container-id-1 div.sk-parallel {display: flex;align-items: stretch;justify-content: center;background-color: white;position: relative;}#sk-container-id-1 div.sk-item::before, #sk-container-id-1 div.sk-parallel-item::before {content: \"\";position: absolute;border-left: 1px solid gray;box-sizing: border-box;top: 0;bottom: 0;left: 50%;z-index: -1;}#sk-container-id-1 div.sk-parallel-item {display: flex;flex-direction: column;z-index: 1;position: relative;background-color: white;}#sk-container-id-1 div.sk-parallel-item:first-child::after {align-self: flex-end;width: 50%;}#sk-container-id-1 div.sk-parallel-item:last-child::after {align-self: flex-start;width: 50%;}#sk-container-id-1 div.sk-parallel-item:only-child::after {width: 0;}#sk-container-id-1 div.sk-dashed-wrapped {border: 1px dashed gray;margin: 0 0.4em 0.5em 0.4em;box-sizing: border-box;padding-bottom: 0.4em;background-color: white;}#sk-container-id-1 div.sk-label label {font-family: monospace;font-weight: bold;display: inline-block;line-height: 1.2em;}#sk-container-id-1 div.sk-label-container {text-align: center;}#sk-container-id-1 div.sk-container {/* jupyter's `normalize.less` sets `[hidden] { display: none; }` but bootstrap.min.css set `[hidden] { display: none !important; }` so we also need the `!important` here to be able to override the default hidden behavior on the sphinx rendered scikit-learn.org. See: https://github.com/scikit-learn/scikit-learn/issues/21755 */display: inline-block !important;position: relative;}#sk-container-id-1 div.sk-text-repr-fallback {display: none;}</style><div id=\"sk-container-id-1\" class=\"sk-top-container\"><div class=\"sk-text-repr-fallback\"><pre>XGBClassifier(base_score=None, booster=None, callbacks=None,\n",
              "              colsample_bylevel=None, colsample_bynode=None,\n",
              "              colsample_bytree=None, early_stopping_rounds=None,\n",
              "              enable_categorical=False, eval_metric=None, feature_types=None,\n",
              "              gamma=None, gpu_id=None, grow_policy=None, importance_type=None,\n",
              "              interaction_constraints=None, learning_rate=None, max_bin=None,\n",
              "              max_cat_threshold=None, max_cat_to_onehot=None,\n",
              "              max_delta_step=None, max_depth=None, max_leaves=None,\n",
              "              min_child_weight=None, missing=nan, monotone_constraints=None,\n",
              "              n_estimators=100, n_jobs=None, num_parallel_tree=None,\n",
              "              objective=&#x27;multi:softprob&#x27;, predictor=None, ...)</pre><b>In a Jupyter environment, please rerun this cell to show the HTML representation or trust the notebook. <br />On GitHub, the HTML representation is unable to render, please try loading this page with nbviewer.org.</b></div><div class=\"sk-container\" hidden><div class=\"sk-item\"><div class=\"sk-estimator sk-toggleable\"><input class=\"sk-toggleable__control sk-hidden--visually\" id=\"sk-estimator-id-1\" type=\"checkbox\" checked><label for=\"sk-estimator-id-1\" class=\"sk-toggleable__label sk-toggleable__label-arrow\">XGBClassifier</label><div class=\"sk-toggleable__content\"><pre>XGBClassifier(base_score=None, booster=None, callbacks=None,\n",
              "              colsample_bylevel=None, colsample_bynode=None,\n",
              "              colsample_bytree=None, early_stopping_rounds=None,\n",
              "              enable_categorical=False, eval_metric=None, feature_types=None,\n",
              "              gamma=None, gpu_id=None, grow_policy=None, importance_type=None,\n",
              "              interaction_constraints=None, learning_rate=None, max_bin=None,\n",
              "              max_cat_threshold=None, max_cat_to_onehot=None,\n",
              "              max_delta_step=None, max_depth=None, max_leaves=None,\n",
              "              min_child_weight=None, missing=nan, monotone_constraints=None,\n",
              "              n_estimators=100, n_jobs=None, num_parallel_tree=None,\n",
              "              objective=&#x27;multi:softprob&#x27;, predictor=None, ...)</pre></div></div></div></div></div>"
            ]
          },
          "metadata": {},
          "execution_count": 29
        }
      ]
    },
    {
      "cell_type": "code",
      "source": [
        "from sklearn.metrics import accuracy_score\n",
        "\n",
        "# Vectorize the validation text\n",
        "X_val = vectorizer.transform(df['Text'])\n",
        "\n",
        "# Convert validation categories to numerical form\n",
        "y_val = encoder.transform(df['Category'])\n",
        "\n",
        "# Make predictions and evaluate the model\n",
        "y_val_pred = model.predict(X_val)\n",
        "accuracy = accuracy_score(y_val, y_val_pred)\n",
        "print(f'Accuracy: {accuracy}')\n"
      ],
      "metadata": {
        "colab": {
          "base_uri": "https://localhost:8080/"
        },
        "id": "qpKOsovRfLqk",
        "outputId": "067d9077-beff-4fd4-d096-83ede3d066e3"
      },
      "execution_count": null,
      "outputs": [
        {
          "output_type": "stream",
          "name": "stdout",
          "text": [
            "Accuracy: 1.0\n"
          ]
        }
      ]
    },
    {
      "cell_type": "code",
      "source": [
        "df.head(15)"
      ],
      "metadata": {
        "colab": {
          "base_uri": "https://localhost:8080/",
          "height": 520
        },
        "id": "8zeHzpL5fLu4",
        "outputId": "ea873e82-c76f-4c08-b622-f458c56749fc"
      },
      "execution_count": null,
      "outputs": [
        {
          "output_type": "execute_result",
          "data": {
            "text/plain": [
              "    ArticleId                                               Text  \\\n",
              "0        1833  worldcom ex-boss launch defence lawyer defendi...   \n",
              "1         154  german business confidence slide german busine...   \n",
              "2        1101  bbc poll indicates economic gloom citizen majo...   \n",
              "3        1976  lifestyle governs mobile choice faster better ...   \n",
              "4         917  enron bos $168m payout eighteen former enron d...   \n",
              "5        1582  howard truanted play snooker conservative lead...   \n",
              "6         651  wale silent grand slam talk rhys williams say ...   \n",
              "7        1797  french honour director parker british film dir...   \n",
              "8        2034  car giant hit mercedes slump slump profitabili...   \n",
              "9        1866  fockers fuel festive film chart comedy meet fo...   \n",
              "10       1683  blair reject iraq advice call tony blair rejec...   \n",
              "11       1153  housewife lift channel 4 rating debut u televi...   \n",
              "12       1028  uk coal plunge deeper loss share uk coal falle...   \n",
              "13        812  bp surge ahead high oil price oil giant bp ann...   \n",
              "14        707  ireland 21-19 argentina injury-time dropped go...   \n",
              "\n",
              "         Category predicted_label  \n",
              "0        business        business  \n",
              "1        business        business  \n",
              "2        business        business  \n",
              "3            tech            tech  \n",
              "4        business        business  \n",
              "5        politics        politics  \n",
              "6           sport           sport  \n",
              "7   entertainment   entertainment  \n",
              "8        business        business  \n",
              "9   entertainment   entertainment  \n",
              "10       politics        politics  \n",
              "11  entertainment   entertainment  \n",
              "12       business        business  \n",
              "13       business        business  \n",
              "14          sport           sport  "
            ],
            "text/html": [
              "\n",
              "  <div id=\"df-92ecd653-0ba5-4817-bb2f-91ab0d1fcb4d\">\n",
              "    <div class=\"colab-df-container\">\n",
              "      <div>\n",
              "<style scoped>\n",
              "    .dataframe tbody tr th:only-of-type {\n",
              "        vertical-align: middle;\n",
              "    }\n",
              "\n",
              "    .dataframe tbody tr th {\n",
              "        vertical-align: top;\n",
              "    }\n",
              "\n",
              "    .dataframe thead th {\n",
              "        text-align: right;\n",
              "    }\n",
              "</style>\n",
              "<table border=\"1\" class=\"dataframe\">\n",
              "  <thead>\n",
              "    <tr style=\"text-align: right;\">\n",
              "      <th></th>\n",
              "      <th>ArticleId</th>\n",
              "      <th>Text</th>\n",
              "      <th>Category</th>\n",
              "      <th>predicted_label</th>\n",
              "    </tr>\n",
              "  </thead>\n",
              "  <tbody>\n",
              "    <tr>\n",
              "      <th>0</th>\n",
              "      <td>1833</td>\n",
              "      <td>worldcom ex-boss launch defence lawyer defendi...</td>\n",
              "      <td>business</td>\n",
              "      <td>business</td>\n",
              "    </tr>\n",
              "    <tr>\n",
              "      <th>1</th>\n",
              "      <td>154</td>\n",
              "      <td>german business confidence slide german busine...</td>\n",
              "      <td>business</td>\n",
              "      <td>business</td>\n",
              "    </tr>\n",
              "    <tr>\n",
              "      <th>2</th>\n",
              "      <td>1101</td>\n",
              "      <td>bbc poll indicates economic gloom citizen majo...</td>\n",
              "      <td>business</td>\n",
              "      <td>business</td>\n",
              "    </tr>\n",
              "    <tr>\n",
              "      <th>3</th>\n",
              "      <td>1976</td>\n",
              "      <td>lifestyle governs mobile choice faster better ...</td>\n",
              "      <td>tech</td>\n",
              "      <td>tech</td>\n",
              "    </tr>\n",
              "    <tr>\n",
              "      <th>4</th>\n",
              "      <td>917</td>\n",
              "      <td>enron bos $168m payout eighteen former enron d...</td>\n",
              "      <td>business</td>\n",
              "      <td>business</td>\n",
              "    </tr>\n",
              "    <tr>\n",
              "      <th>5</th>\n",
              "      <td>1582</td>\n",
              "      <td>howard truanted play snooker conservative lead...</td>\n",
              "      <td>politics</td>\n",
              "      <td>politics</td>\n",
              "    </tr>\n",
              "    <tr>\n",
              "      <th>6</th>\n",
              "      <td>651</td>\n",
              "      <td>wale silent grand slam talk rhys williams say ...</td>\n",
              "      <td>sport</td>\n",
              "      <td>sport</td>\n",
              "    </tr>\n",
              "    <tr>\n",
              "      <th>7</th>\n",
              "      <td>1797</td>\n",
              "      <td>french honour director parker british film dir...</td>\n",
              "      <td>entertainment</td>\n",
              "      <td>entertainment</td>\n",
              "    </tr>\n",
              "    <tr>\n",
              "      <th>8</th>\n",
              "      <td>2034</td>\n",
              "      <td>car giant hit mercedes slump slump profitabili...</td>\n",
              "      <td>business</td>\n",
              "      <td>business</td>\n",
              "    </tr>\n",
              "    <tr>\n",
              "      <th>9</th>\n",
              "      <td>1866</td>\n",
              "      <td>fockers fuel festive film chart comedy meet fo...</td>\n",
              "      <td>entertainment</td>\n",
              "      <td>entertainment</td>\n",
              "    </tr>\n",
              "    <tr>\n",
              "      <th>10</th>\n",
              "      <td>1683</td>\n",
              "      <td>blair reject iraq advice call tony blair rejec...</td>\n",
              "      <td>politics</td>\n",
              "      <td>politics</td>\n",
              "    </tr>\n",
              "    <tr>\n",
              "      <th>11</th>\n",
              "      <td>1153</td>\n",
              "      <td>housewife lift channel 4 rating debut u televi...</td>\n",
              "      <td>entertainment</td>\n",
              "      <td>entertainment</td>\n",
              "    </tr>\n",
              "    <tr>\n",
              "      <th>12</th>\n",
              "      <td>1028</td>\n",
              "      <td>uk coal plunge deeper loss share uk coal falle...</td>\n",
              "      <td>business</td>\n",
              "      <td>business</td>\n",
              "    </tr>\n",
              "    <tr>\n",
              "      <th>13</th>\n",
              "      <td>812</td>\n",
              "      <td>bp surge ahead high oil price oil giant bp ann...</td>\n",
              "      <td>business</td>\n",
              "      <td>business</td>\n",
              "    </tr>\n",
              "    <tr>\n",
              "      <th>14</th>\n",
              "      <td>707</td>\n",
              "      <td>ireland 21-19 argentina injury-time dropped go...</td>\n",
              "      <td>sport</td>\n",
              "      <td>sport</td>\n",
              "    </tr>\n",
              "  </tbody>\n",
              "</table>\n",
              "</div>\n",
              "      <button class=\"colab-df-convert\" onclick=\"convertToInteractive('df-92ecd653-0ba5-4817-bb2f-91ab0d1fcb4d')\"\n",
              "              title=\"Convert this dataframe to an interactive table.\"\n",
              "              style=\"display:none;\">\n",
              "        \n",
              "  <svg xmlns=\"http://www.w3.org/2000/svg\" height=\"24px\"viewBox=\"0 0 24 24\"\n",
              "       width=\"24px\">\n",
              "    <path d=\"M0 0h24v24H0V0z\" fill=\"none\"/>\n",
              "    <path d=\"M18.56 5.44l.94 2.06.94-2.06 2.06-.94-2.06-.94-.94-2.06-.94 2.06-2.06.94zm-11 1L8.5 8.5l.94-2.06 2.06-.94-2.06-.94L8.5 2.5l-.94 2.06-2.06.94zm10 10l.94 2.06.94-2.06 2.06-.94-2.06-.94-.94-2.06-.94 2.06-2.06.94z\"/><path d=\"M17.41 7.96l-1.37-1.37c-.4-.4-.92-.59-1.43-.59-.52 0-1.04.2-1.43.59L10.3 9.45l-7.72 7.72c-.78.78-.78 2.05 0 2.83L4 21.41c.39.39.9.59 1.41.59.51 0 1.02-.2 1.41-.59l7.78-7.78 2.81-2.81c.8-.78.8-2.07 0-2.86zM5.41 20L4 18.59l7.72-7.72 1.47 1.35L5.41 20z\"/>\n",
              "  </svg>\n",
              "      </button>\n",
              "      \n",
              "  <style>\n",
              "    .colab-df-container {\n",
              "      display:flex;\n",
              "      flex-wrap:wrap;\n",
              "      gap: 12px;\n",
              "    }\n",
              "\n",
              "    .colab-df-convert {\n",
              "      background-color: #E8F0FE;\n",
              "      border: none;\n",
              "      border-radius: 50%;\n",
              "      cursor: pointer;\n",
              "      display: none;\n",
              "      fill: #1967D2;\n",
              "      height: 32px;\n",
              "      padding: 0 0 0 0;\n",
              "      width: 32px;\n",
              "    }\n",
              "\n",
              "    .colab-df-convert:hover {\n",
              "      background-color: #E2EBFA;\n",
              "      box-shadow: 0px 1px 2px rgba(60, 64, 67, 0.3), 0px 1px 3px 1px rgba(60, 64, 67, 0.15);\n",
              "      fill: #174EA6;\n",
              "    }\n",
              "\n",
              "    [theme=dark] .colab-df-convert {\n",
              "      background-color: #3B4455;\n",
              "      fill: #D2E3FC;\n",
              "    }\n",
              "\n",
              "    [theme=dark] .colab-df-convert:hover {\n",
              "      background-color: #434B5C;\n",
              "      box-shadow: 0px 1px 3px 1px rgba(0, 0, 0, 0.15);\n",
              "      filter: drop-shadow(0px 1px 2px rgba(0, 0, 0, 0.3));\n",
              "      fill: #FFFFFF;\n",
              "    }\n",
              "  </style>\n",
              "\n",
              "      <script>\n",
              "        const buttonEl =\n",
              "          document.querySelector('#df-92ecd653-0ba5-4817-bb2f-91ab0d1fcb4d button.colab-df-convert');\n",
              "        buttonEl.style.display =\n",
              "          google.colab.kernel.accessAllowed ? 'block' : 'none';\n",
              "\n",
              "        async function convertToInteractive(key) {\n",
              "          const element = document.querySelector('#df-92ecd653-0ba5-4817-bb2f-91ab0d1fcb4d');\n",
              "          const dataTable =\n",
              "            await google.colab.kernel.invokeFunction('convertToInteractive',\n",
              "                                                     [key], {});\n",
              "          if (!dataTable) return;\n",
              "\n",
              "          const docLinkHtml = 'Like what you see? Visit the ' +\n",
              "            '<a target=\"_blank\" href=https://colab.research.google.com/notebooks/data_table.ipynb>data table notebook</a>'\n",
              "            + ' to learn more about interactive tables.';\n",
              "          element.innerHTML = '';\n",
              "          dataTable['output_type'] = 'display_data';\n",
              "          await google.colab.output.renderOutput(dataTable, element);\n",
              "          const docLink = document.createElement('div');\n",
              "          docLink.innerHTML = docLinkHtml;\n",
              "          element.appendChild(docLink);\n",
              "        }\n",
              "      </script>\n",
              "    </div>\n",
              "  </div>\n",
              "  "
            ]
          },
          "metadata": {},
          "execution_count": 35
        }
      ]
    },
    {
      "cell_type": "code",
      "source": [
        "# Load the test data\n",
        "df_test = pd.read_csv('/content/gdrive/MyDrive/BBC News Test.csv', sep=',', header=0)"
      ],
      "metadata": {
        "id": "-ZFL3Xg9hsHt"
      },
      "execution_count": null,
      "outputs": []
    },
    {
      "cell_type": "code",
      "source": [
        "# Preprocess and Vectorize the test data\n",
        "X_test = vectorizer.transform(df_test['Text'])\n",
        "\n",
        "# Predict the labels\n",
        "y_test_pred = model.predict(X_test)\n"
      ],
      "metadata": {
        "id": "TWNWLYkghsLq"
      },
      "execution_count": null,
      "outputs": []
    },
    {
      "cell_type": "code",
      "source": [
        "# Transform the numerical labels back to original categories\n",
        "df_test['predicted_category'] = encoder.inverse_transform(y_test_pred)\n",
        "\n",
        "# The predicted categories are now in the 'predicted_category' column\n",
        "df_test.head(15)"
      ],
      "metadata": {
        "colab": {
          "base_uri": "https://localhost:8080/",
          "height": 520
        },
        "id": "1dtK92V-hsPx",
        "outputId": "ab5ad879-f464-49e0-f56a-19d936d87200"
      },
      "execution_count": null,
      "outputs": [
        {
          "output_type": "execute_result",
          "data": {
            "text/plain": [
              "    ArticleId                                               Text  \\\n",
              "0        1018  qpr keeper day heads for preston queens park r...   \n",
              "1        1319  software watching while you work software that...   \n",
              "2        1138  d arcy injury adds to ireland woe gordon d arc...   \n",
              "3         459  india s reliance family feud heats up the ongo...   \n",
              "4        1020  boro suffer morrison injury blow middlesbrough...   \n",
              "5          51  lewsey puzzle over disallowed try england s jo...   \n",
              "6        2025  blair blasts tory spending plans tony blair ha...   \n",
              "7        1479  former ni minister scott dies former northern ...   \n",
              "8          27  career honour for actor dicaprio actor leonard...   \n",
              "9         397  tsunami  to hit sri lanka banks  sri lanka s b...   \n",
              "10       1644  us economy still growing says fed most areas o...   \n",
              "11        263  digital uk driven by net and tv the uk s adopt...   \n",
              "12        765  blunkett tells of love and pain david blunkett...   \n",
              "13       2134  ibm puts cash behind linux push ibm is spendin...   \n",
              "14        297  cage film s third week at us top nicolas cage ...   \n",
              "\n",
              "   predicted_category  \n",
              "0               sport  \n",
              "1                tech  \n",
              "2               sport  \n",
              "3            business  \n",
              "4               sport  \n",
              "5               sport  \n",
              "6            politics  \n",
              "7            politics  \n",
              "8       entertainment  \n",
              "9            business  \n",
              "10           business  \n",
              "11               tech  \n",
              "12           politics  \n",
              "13               tech  \n",
              "14      entertainment  "
            ],
            "text/html": [
              "\n",
              "  <div id=\"df-fdd4fcbb-76ac-4693-b3b0-8f38b6a2fbe2\">\n",
              "    <div class=\"colab-df-container\">\n",
              "      <div>\n",
              "<style scoped>\n",
              "    .dataframe tbody tr th:only-of-type {\n",
              "        vertical-align: middle;\n",
              "    }\n",
              "\n",
              "    .dataframe tbody tr th {\n",
              "        vertical-align: top;\n",
              "    }\n",
              "\n",
              "    .dataframe thead th {\n",
              "        text-align: right;\n",
              "    }\n",
              "</style>\n",
              "<table border=\"1\" class=\"dataframe\">\n",
              "  <thead>\n",
              "    <tr style=\"text-align: right;\">\n",
              "      <th></th>\n",
              "      <th>ArticleId</th>\n",
              "      <th>Text</th>\n",
              "      <th>predicted_category</th>\n",
              "    </tr>\n",
              "  </thead>\n",
              "  <tbody>\n",
              "    <tr>\n",
              "      <th>0</th>\n",
              "      <td>1018</td>\n",
              "      <td>qpr keeper day heads for preston queens park r...</td>\n",
              "      <td>sport</td>\n",
              "    </tr>\n",
              "    <tr>\n",
              "      <th>1</th>\n",
              "      <td>1319</td>\n",
              "      <td>software watching while you work software that...</td>\n",
              "      <td>tech</td>\n",
              "    </tr>\n",
              "    <tr>\n",
              "      <th>2</th>\n",
              "      <td>1138</td>\n",
              "      <td>d arcy injury adds to ireland woe gordon d arc...</td>\n",
              "      <td>sport</td>\n",
              "    </tr>\n",
              "    <tr>\n",
              "      <th>3</th>\n",
              "      <td>459</td>\n",
              "      <td>india s reliance family feud heats up the ongo...</td>\n",
              "      <td>business</td>\n",
              "    </tr>\n",
              "    <tr>\n",
              "      <th>4</th>\n",
              "      <td>1020</td>\n",
              "      <td>boro suffer morrison injury blow middlesbrough...</td>\n",
              "      <td>sport</td>\n",
              "    </tr>\n",
              "    <tr>\n",
              "      <th>5</th>\n",
              "      <td>51</td>\n",
              "      <td>lewsey puzzle over disallowed try england s jo...</td>\n",
              "      <td>sport</td>\n",
              "    </tr>\n",
              "    <tr>\n",
              "      <th>6</th>\n",
              "      <td>2025</td>\n",
              "      <td>blair blasts tory spending plans tony blair ha...</td>\n",
              "      <td>politics</td>\n",
              "    </tr>\n",
              "    <tr>\n",
              "      <th>7</th>\n",
              "      <td>1479</td>\n",
              "      <td>former ni minister scott dies former northern ...</td>\n",
              "      <td>politics</td>\n",
              "    </tr>\n",
              "    <tr>\n",
              "      <th>8</th>\n",
              "      <td>27</td>\n",
              "      <td>career honour for actor dicaprio actor leonard...</td>\n",
              "      <td>entertainment</td>\n",
              "    </tr>\n",
              "    <tr>\n",
              "      <th>9</th>\n",
              "      <td>397</td>\n",
              "      <td>tsunami  to hit sri lanka banks  sri lanka s b...</td>\n",
              "      <td>business</td>\n",
              "    </tr>\n",
              "    <tr>\n",
              "      <th>10</th>\n",
              "      <td>1644</td>\n",
              "      <td>us economy still growing says fed most areas o...</td>\n",
              "      <td>business</td>\n",
              "    </tr>\n",
              "    <tr>\n",
              "      <th>11</th>\n",
              "      <td>263</td>\n",
              "      <td>digital uk driven by net and tv the uk s adopt...</td>\n",
              "      <td>tech</td>\n",
              "    </tr>\n",
              "    <tr>\n",
              "      <th>12</th>\n",
              "      <td>765</td>\n",
              "      <td>blunkett tells of love and pain david blunkett...</td>\n",
              "      <td>politics</td>\n",
              "    </tr>\n",
              "    <tr>\n",
              "      <th>13</th>\n",
              "      <td>2134</td>\n",
              "      <td>ibm puts cash behind linux push ibm is spendin...</td>\n",
              "      <td>tech</td>\n",
              "    </tr>\n",
              "    <tr>\n",
              "      <th>14</th>\n",
              "      <td>297</td>\n",
              "      <td>cage film s third week at us top nicolas cage ...</td>\n",
              "      <td>entertainment</td>\n",
              "    </tr>\n",
              "  </tbody>\n",
              "</table>\n",
              "</div>\n",
              "      <button class=\"colab-df-convert\" onclick=\"convertToInteractive('df-fdd4fcbb-76ac-4693-b3b0-8f38b6a2fbe2')\"\n",
              "              title=\"Convert this dataframe to an interactive table.\"\n",
              "              style=\"display:none;\">\n",
              "        \n",
              "  <svg xmlns=\"http://www.w3.org/2000/svg\" height=\"24px\"viewBox=\"0 0 24 24\"\n",
              "       width=\"24px\">\n",
              "    <path d=\"M0 0h24v24H0V0z\" fill=\"none\"/>\n",
              "    <path d=\"M18.56 5.44l.94 2.06.94-2.06 2.06-.94-2.06-.94-.94-2.06-.94 2.06-2.06.94zm-11 1L8.5 8.5l.94-2.06 2.06-.94-2.06-.94L8.5 2.5l-.94 2.06-2.06.94zm10 10l.94 2.06.94-2.06 2.06-.94-2.06-.94-.94-2.06-.94 2.06-2.06.94z\"/><path d=\"M17.41 7.96l-1.37-1.37c-.4-.4-.92-.59-1.43-.59-.52 0-1.04.2-1.43.59L10.3 9.45l-7.72 7.72c-.78.78-.78 2.05 0 2.83L4 21.41c.39.39.9.59 1.41.59.51 0 1.02-.2 1.41-.59l7.78-7.78 2.81-2.81c.8-.78.8-2.07 0-2.86zM5.41 20L4 18.59l7.72-7.72 1.47 1.35L5.41 20z\"/>\n",
              "  </svg>\n",
              "      </button>\n",
              "      \n",
              "  <style>\n",
              "    .colab-df-container {\n",
              "      display:flex;\n",
              "      flex-wrap:wrap;\n",
              "      gap: 12px;\n",
              "    }\n",
              "\n",
              "    .colab-df-convert {\n",
              "      background-color: #E8F0FE;\n",
              "      border: none;\n",
              "      border-radius: 50%;\n",
              "      cursor: pointer;\n",
              "      display: none;\n",
              "      fill: #1967D2;\n",
              "      height: 32px;\n",
              "      padding: 0 0 0 0;\n",
              "      width: 32px;\n",
              "    }\n",
              "\n",
              "    .colab-df-convert:hover {\n",
              "      background-color: #E2EBFA;\n",
              "      box-shadow: 0px 1px 2px rgba(60, 64, 67, 0.3), 0px 1px 3px 1px rgba(60, 64, 67, 0.15);\n",
              "      fill: #174EA6;\n",
              "    }\n",
              "\n",
              "    [theme=dark] .colab-df-convert {\n",
              "      background-color: #3B4455;\n",
              "      fill: #D2E3FC;\n",
              "    }\n",
              "\n",
              "    [theme=dark] .colab-df-convert:hover {\n",
              "      background-color: #434B5C;\n",
              "      box-shadow: 0px 1px 3px 1px rgba(0, 0, 0, 0.15);\n",
              "      filter: drop-shadow(0px 1px 2px rgba(0, 0, 0, 0.3));\n",
              "      fill: #FFFFFF;\n",
              "    }\n",
              "  </style>\n",
              "\n",
              "      <script>\n",
              "        const buttonEl =\n",
              "          document.querySelector('#df-fdd4fcbb-76ac-4693-b3b0-8f38b6a2fbe2 button.colab-df-convert');\n",
              "        buttonEl.style.display =\n",
              "          google.colab.kernel.accessAllowed ? 'block' : 'none';\n",
              "\n",
              "        async function convertToInteractive(key) {\n",
              "          const element = document.querySelector('#df-fdd4fcbb-76ac-4693-b3b0-8f38b6a2fbe2');\n",
              "          const dataTable =\n",
              "            await google.colab.kernel.invokeFunction('convertToInteractive',\n",
              "                                                     [key], {});\n",
              "          if (!dataTable) return;\n",
              "\n",
              "          const docLinkHtml = 'Like what you see? Visit the ' +\n",
              "            '<a target=\"_blank\" href=https://colab.research.google.com/notebooks/data_table.ipynb>data table notebook</a>'\n",
              "            + ' to learn more about interactive tables.';\n",
              "          element.innerHTML = '';\n",
              "          dataTable['output_type'] = 'display_data';\n",
              "          await google.colab.output.renderOutput(dataTable, element);\n",
              "          const docLink = document.createElement('div');\n",
              "          docLink.innerHTML = docLinkHtml;\n",
              "          element.appendChild(docLink);\n",
              "        }\n",
              "      </script>\n",
              "    </div>\n",
              "  </div>\n",
              "  "
            ]
          },
          "metadata": {},
          "execution_count": 34
        }
      ]
    },
    {
      "cell_type": "code",
      "source": [
        "# Drop 'Text' column\n",
        "df_test = df_test.drop(['Text'], axis=1)\n",
        "\n",
        "# Rename 'predicted_category' to 'Category'\n",
        "df_test = df_test.rename(columns={'predicted_category': 'Category'})\n"
      ],
      "metadata": {
        "id": "EsGQyI8ShsTw"
      },
      "execution_count": null,
      "outputs": []
    },
    {
      "cell_type": "code",
      "source": [
        "df_test.head(15)"
      ],
      "metadata": {
        "colab": {
          "base_uri": "https://localhost:8080/",
          "height": 520
        },
        "id": "JTo3HEb4qgAl",
        "outputId": "8f2693d2-dd90-43ff-a279-c741d7e8daf8"
      },
      "execution_count": null,
      "outputs": [
        {
          "output_type": "execute_result",
          "data": {
            "text/plain": [
              "    ArticleId       Category\n",
              "0        1018          sport\n",
              "1        1319           tech\n",
              "2        1138          sport\n",
              "3         459       business\n",
              "4        1020          sport\n",
              "5          51          sport\n",
              "6        2025       politics\n",
              "7        1479       politics\n",
              "8          27  entertainment\n",
              "9         397       business\n",
              "10       1644       business\n",
              "11        263           tech\n",
              "12        765       politics\n",
              "13       2134           tech\n",
              "14        297  entertainment"
            ],
            "text/html": [
              "\n",
              "  <div id=\"df-f8ea736c-9481-4c7d-8d48-21813011251b\">\n",
              "    <div class=\"colab-df-container\">\n",
              "      <div>\n",
              "<style scoped>\n",
              "    .dataframe tbody tr th:only-of-type {\n",
              "        vertical-align: middle;\n",
              "    }\n",
              "\n",
              "    .dataframe tbody tr th {\n",
              "        vertical-align: top;\n",
              "    }\n",
              "\n",
              "    .dataframe thead th {\n",
              "        text-align: right;\n",
              "    }\n",
              "</style>\n",
              "<table border=\"1\" class=\"dataframe\">\n",
              "  <thead>\n",
              "    <tr style=\"text-align: right;\">\n",
              "      <th></th>\n",
              "      <th>ArticleId</th>\n",
              "      <th>Category</th>\n",
              "    </tr>\n",
              "  </thead>\n",
              "  <tbody>\n",
              "    <tr>\n",
              "      <th>0</th>\n",
              "      <td>1018</td>\n",
              "      <td>sport</td>\n",
              "    </tr>\n",
              "    <tr>\n",
              "      <th>1</th>\n",
              "      <td>1319</td>\n",
              "      <td>tech</td>\n",
              "    </tr>\n",
              "    <tr>\n",
              "      <th>2</th>\n",
              "      <td>1138</td>\n",
              "      <td>sport</td>\n",
              "    </tr>\n",
              "    <tr>\n",
              "      <th>3</th>\n",
              "      <td>459</td>\n",
              "      <td>business</td>\n",
              "    </tr>\n",
              "    <tr>\n",
              "      <th>4</th>\n",
              "      <td>1020</td>\n",
              "      <td>sport</td>\n",
              "    </tr>\n",
              "    <tr>\n",
              "      <th>5</th>\n",
              "      <td>51</td>\n",
              "      <td>sport</td>\n",
              "    </tr>\n",
              "    <tr>\n",
              "      <th>6</th>\n",
              "      <td>2025</td>\n",
              "      <td>politics</td>\n",
              "    </tr>\n",
              "    <tr>\n",
              "      <th>7</th>\n",
              "      <td>1479</td>\n",
              "      <td>politics</td>\n",
              "    </tr>\n",
              "    <tr>\n",
              "      <th>8</th>\n",
              "      <td>27</td>\n",
              "      <td>entertainment</td>\n",
              "    </tr>\n",
              "    <tr>\n",
              "      <th>9</th>\n",
              "      <td>397</td>\n",
              "      <td>business</td>\n",
              "    </tr>\n",
              "    <tr>\n",
              "      <th>10</th>\n",
              "      <td>1644</td>\n",
              "      <td>business</td>\n",
              "    </tr>\n",
              "    <tr>\n",
              "      <th>11</th>\n",
              "      <td>263</td>\n",
              "      <td>tech</td>\n",
              "    </tr>\n",
              "    <tr>\n",
              "      <th>12</th>\n",
              "      <td>765</td>\n",
              "      <td>politics</td>\n",
              "    </tr>\n",
              "    <tr>\n",
              "      <th>13</th>\n",
              "      <td>2134</td>\n",
              "      <td>tech</td>\n",
              "    </tr>\n",
              "    <tr>\n",
              "      <th>14</th>\n",
              "      <td>297</td>\n",
              "      <td>entertainment</td>\n",
              "    </tr>\n",
              "  </tbody>\n",
              "</table>\n",
              "</div>\n",
              "      <button class=\"colab-df-convert\" onclick=\"convertToInteractive('df-f8ea736c-9481-4c7d-8d48-21813011251b')\"\n",
              "              title=\"Convert this dataframe to an interactive table.\"\n",
              "              style=\"display:none;\">\n",
              "        \n",
              "  <svg xmlns=\"http://www.w3.org/2000/svg\" height=\"24px\"viewBox=\"0 0 24 24\"\n",
              "       width=\"24px\">\n",
              "    <path d=\"M0 0h24v24H0V0z\" fill=\"none\"/>\n",
              "    <path d=\"M18.56 5.44l.94 2.06.94-2.06 2.06-.94-2.06-.94-.94-2.06-.94 2.06-2.06.94zm-11 1L8.5 8.5l.94-2.06 2.06-.94-2.06-.94L8.5 2.5l-.94 2.06-2.06.94zm10 10l.94 2.06.94-2.06 2.06-.94-2.06-.94-.94-2.06-.94 2.06-2.06.94z\"/><path d=\"M17.41 7.96l-1.37-1.37c-.4-.4-.92-.59-1.43-.59-.52 0-1.04.2-1.43.59L10.3 9.45l-7.72 7.72c-.78.78-.78 2.05 0 2.83L4 21.41c.39.39.9.59 1.41.59.51 0 1.02-.2 1.41-.59l7.78-7.78 2.81-2.81c.8-.78.8-2.07 0-2.86zM5.41 20L4 18.59l7.72-7.72 1.47 1.35L5.41 20z\"/>\n",
              "  </svg>\n",
              "      </button>\n",
              "      \n",
              "  <style>\n",
              "    .colab-df-container {\n",
              "      display:flex;\n",
              "      flex-wrap:wrap;\n",
              "      gap: 12px;\n",
              "    }\n",
              "\n",
              "    .colab-df-convert {\n",
              "      background-color: #E8F0FE;\n",
              "      border: none;\n",
              "      border-radius: 50%;\n",
              "      cursor: pointer;\n",
              "      display: none;\n",
              "      fill: #1967D2;\n",
              "      height: 32px;\n",
              "      padding: 0 0 0 0;\n",
              "      width: 32px;\n",
              "    }\n",
              "\n",
              "    .colab-df-convert:hover {\n",
              "      background-color: #E2EBFA;\n",
              "      box-shadow: 0px 1px 2px rgba(60, 64, 67, 0.3), 0px 1px 3px 1px rgba(60, 64, 67, 0.15);\n",
              "      fill: #174EA6;\n",
              "    }\n",
              "\n",
              "    [theme=dark] .colab-df-convert {\n",
              "      background-color: #3B4455;\n",
              "      fill: #D2E3FC;\n",
              "    }\n",
              "\n",
              "    [theme=dark] .colab-df-convert:hover {\n",
              "      background-color: #434B5C;\n",
              "      box-shadow: 0px 1px 3px 1px rgba(0, 0, 0, 0.15);\n",
              "      filter: drop-shadow(0px 1px 2px rgba(0, 0, 0, 0.3));\n",
              "      fill: #FFFFFF;\n",
              "    }\n",
              "  </style>\n",
              "\n",
              "      <script>\n",
              "        const buttonEl =\n",
              "          document.querySelector('#df-f8ea736c-9481-4c7d-8d48-21813011251b button.colab-df-convert');\n",
              "        buttonEl.style.display =\n",
              "          google.colab.kernel.accessAllowed ? 'block' : 'none';\n",
              "\n",
              "        async function convertToInteractive(key) {\n",
              "          const element = document.querySelector('#df-f8ea736c-9481-4c7d-8d48-21813011251b');\n",
              "          const dataTable =\n",
              "            await google.colab.kernel.invokeFunction('convertToInteractive',\n",
              "                                                     [key], {});\n",
              "          if (!dataTable) return;\n",
              "\n",
              "          const docLinkHtml = 'Like what you see? Visit the ' +\n",
              "            '<a target=\"_blank\" href=https://colab.research.google.com/notebooks/data_table.ipynb>data table notebook</a>'\n",
              "            + ' to learn more about interactive tables.';\n",
              "          element.innerHTML = '';\n",
              "          dataTable['output_type'] = 'display_data';\n",
              "          await google.colab.output.renderOutput(dataTable, element);\n",
              "          const docLink = document.createElement('div');\n",
              "          docLink.innerHTML = docLinkHtml;\n",
              "          element.appendChild(docLink);\n",
              "        }\n",
              "      </script>\n",
              "    </div>\n",
              "  </div>\n",
              "  "
            ]
          },
          "metadata": {},
          "execution_count": 37
        }
      ]
    },
    {
      "cell_type": "code",
      "source": [
        "# Write DataFrame to csv\n",
        "df_test.to_csv('BBC_News_Test_Predictions.csv', index=False)"
      ],
      "metadata": {
        "id": "_9LnXlOshsXt"
      },
      "execution_count": null,
      "outputs": []
    },
    {
      "cell_type": "code",
      "source": [
        "from google.colab import files\n",
        "files.download('BBC_News_Test_Predictions.csv')"
      ],
      "metadata": {
        "colab": {
          "base_uri": "https://localhost:8080/",
          "height": 18
        },
        "id": "TH0reSMeqZYr",
        "outputId": "1418e2bf-d080-4856-b564-e441bac4c828"
      },
      "execution_count": null,
      "outputs": [
        {
          "output_type": "display_data",
          "data": {
            "text/plain": [
              "<IPython.core.display.Javascript object>"
            ],
            "application/javascript": [
              "\n",
              "    async function download(id, filename, size) {\n",
              "      if (!google.colab.kernel.accessAllowed) {\n",
              "        return;\n",
              "      }\n",
              "      const div = document.createElement('div');\n",
              "      const label = document.createElement('label');\n",
              "      label.textContent = `Downloading \"${filename}\": `;\n",
              "      div.appendChild(label);\n",
              "      const progress = document.createElement('progress');\n",
              "      progress.max = size;\n",
              "      div.appendChild(progress);\n",
              "      document.body.appendChild(div);\n",
              "\n",
              "      const buffers = [];\n",
              "      let downloaded = 0;\n",
              "\n",
              "      const channel = await google.colab.kernel.comms.open(id);\n",
              "      // Send a message to notify the kernel that we're ready.\n",
              "      channel.send({})\n",
              "\n",
              "      for await (const message of channel.messages) {\n",
              "        // Send a message to notify the kernel that we're ready.\n",
              "        channel.send({})\n",
              "        if (message.buffers) {\n",
              "          for (const buffer of message.buffers) {\n",
              "            buffers.push(buffer);\n",
              "            downloaded += buffer.byteLength;\n",
              "            progress.value = downloaded;\n",
              "          }\n",
              "        }\n",
              "      }\n",
              "      const blob = new Blob(buffers, {type: 'application/binary'});\n",
              "      const a = document.createElement('a');\n",
              "      a.href = window.URL.createObjectURL(blob);\n",
              "      a.download = filename;\n",
              "      div.appendChild(a);\n",
              "      a.click();\n",
              "      div.remove();\n",
              "    }\n",
              "  "
            ]
          },
          "metadata": {}
        },
        {
          "output_type": "display_data",
          "data": {
            "text/plain": [
              "<IPython.core.display.Javascript object>"
            ],
            "application/javascript": [
              "download(\"download_0fbda81d-3922-447b-9be1-8f8fd6de6530\", \"BBC_News_Test_Predictions.csv\", 9437)"
            ]
          },
          "metadata": {}
        }
      ]
    },
    {
      "cell_type": "code",
      "source": [],
      "metadata": {
        "id": "l6sfBImEq3Wt"
      },
      "execution_count": null,
      "outputs": []
    },
    {
      "cell_type": "markdown",
      "source": [
        "Accuracy Score of the Untuned XGBoost Model on 100% of the Training data: 0.95238"
      ],
      "metadata": {
        "id": "gygTFXUmqvIL"
      }
    },
    {
      "cell_type": "markdown",
      "source": [
        "![Screen Shot 2023-06-29 at 5.18.34 PM.png](data:image/png;base64,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)"
      ],
      "metadata": {
        "id": "_Z5yOK6cqiW8"
      }
    },
    {
      "cell_type": "code",
      "source": [],
      "metadata": {
        "id": "RNyYH5iEqZdD"
      },
      "execution_count": null,
      "outputs": []
    },
    {
      "cell_type": "markdown",
      "source": [
        "# Tuned XGBoost Model on 100% of the Training Data"
      ],
      "metadata": {
        "id": "ve8iTlWk1zAN"
      }
    },
    {
      "cell_type": "code",
      "source": [
        "from sklearn.feature_extraction.text import TfidfVectorizer\n",
        "\n",
        "# Vectorize the text data\n",
        "vectorizer = TfidfVectorizer(max_features=1500)\n",
        "X_train = vectorizer.fit_transform(df['Text'])"
      ],
      "metadata": {
        "id": "c-l16UY4qZg7"
      },
      "execution_count": null,
      "outputs": []
    },
    {
      "cell_type": "code",
      "source": [
        "from sklearn.preprocessing import LabelEncoder\n",
        "\n",
        "# Convert categories to numerical form\n",
        "encoder = LabelEncoder()\n",
        "y_train = encoder.fit_transform(df['Category'])"
      ],
      "metadata": {
        "id": "6qnqw2ymqZlL"
      },
      "execution_count": null,
      "outputs": []
    },
    {
      "cell_type": "code",
      "source": [
        "from xgboost import XGBClassifier\n",
        "\n",
        "# Create and train the model\n",
        "model = XGBClassifier(learning_rate=0.001,max_depth=8,n_estimators=300)\n",
        "model.fit(X_train, y_train)"
      ],
      "metadata": {
        "colab": {
          "base_uri": "https://localhost:8080/",
          "height": 248
        },
        "id": "dEGTxyVuqZqD",
        "outputId": "48eb4424-166c-434a-c514-7b14c0981371"
      },
      "execution_count": null,
      "outputs": [
        {
          "output_type": "execute_result",
          "data": {
            "text/plain": [
              "XGBClassifier(base_score=None, booster=None, callbacks=None,\n",
              "              colsample_bylevel=None, colsample_bynode=None,\n",
              "              colsample_bytree=None, early_stopping_rounds=None,\n",
              "              enable_categorical=False, eval_metric=None, feature_types=None,\n",
              "              gamma=None, gpu_id=None, grow_policy=None, importance_type=None,\n",
              "              interaction_constraints=None, learning_rate=0.001, max_bin=None,\n",
              "              max_cat_threshold=None, max_cat_to_onehot=None,\n",
              "              max_delta_step=None, max_depth=8, max_leaves=None,\n",
              "              min_child_weight=None, missing=nan, monotone_constraints=None,\n",
              "              n_estimators=300, n_jobs=None, num_parallel_tree=None,\n",
              "              objective='multi:softprob', predictor=None, ...)"
            ],
            "text/html": [
              "<style>#sk-container-id-3 {color: black;background-color: white;}#sk-container-id-3 pre{padding: 0;}#sk-container-id-3 div.sk-toggleable {background-color: white;}#sk-container-id-3 label.sk-toggleable__label {cursor: pointer;display: block;width: 100%;margin-bottom: 0;padding: 0.3em;box-sizing: border-box;text-align: center;}#sk-container-id-3 label.sk-toggleable__label-arrow:before {content: \"▸\";float: left;margin-right: 0.25em;color: #696969;}#sk-container-id-3 label.sk-toggleable__label-arrow:hover:before {color: black;}#sk-container-id-3 div.sk-estimator:hover label.sk-toggleable__label-arrow:before {color: black;}#sk-container-id-3 div.sk-toggleable__content {max-height: 0;max-width: 0;overflow: hidden;text-align: left;background-color: #f0f8ff;}#sk-container-id-3 div.sk-toggleable__content pre {margin: 0.2em;color: black;border-radius: 0.25em;background-color: #f0f8ff;}#sk-container-id-3 input.sk-toggleable__control:checked~div.sk-toggleable__content {max-height: 200px;max-width: 100%;overflow: auto;}#sk-container-id-3 input.sk-toggleable__control:checked~label.sk-toggleable__label-arrow:before {content: \"▾\";}#sk-container-id-3 div.sk-estimator input.sk-toggleable__control:checked~label.sk-toggleable__label {background-color: #d4ebff;}#sk-container-id-3 div.sk-label input.sk-toggleable__control:checked~label.sk-toggleable__label {background-color: #d4ebff;}#sk-container-id-3 input.sk-hidden--visually {border: 0;clip: rect(1px 1px 1px 1px);clip: rect(1px, 1px, 1px, 1px);height: 1px;margin: -1px;overflow: hidden;padding: 0;position: absolute;width: 1px;}#sk-container-id-3 div.sk-estimator {font-family: monospace;background-color: #f0f8ff;border: 1px dotted black;border-radius: 0.25em;box-sizing: border-box;margin-bottom: 0.5em;}#sk-container-id-3 div.sk-estimator:hover {background-color: #d4ebff;}#sk-container-id-3 div.sk-parallel-item::after {content: \"\";width: 100%;border-bottom: 1px solid gray;flex-grow: 1;}#sk-container-id-3 div.sk-label:hover label.sk-toggleable__label {background-color: #d4ebff;}#sk-container-id-3 div.sk-serial::before {content: \"\";position: absolute;border-left: 1px solid gray;box-sizing: border-box;top: 0;bottom: 0;left: 50%;z-index: 0;}#sk-container-id-3 div.sk-serial {display: flex;flex-direction: column;align-items: center;background-color: white;padding-right: 0.2em;padding-left: 0.2em;position: relative;}#sk-container-id-3 div.sk-item {position: relative;z-index: 1;}#sk-container-id-3 div.sk-parallel {display: flex;align-items: stretch;justify-content: center;background-color: white;position: relative;}#sk-container-id-3 div.sk-item::before, #sk-container-id-3 div.sk-parallel-item::before {content: \"\";position: absolute;border-left: 1px solid gray;box-sizing: border-box;top: 0;bottom: 0;left: 50%;z-index: -1;}#sk-container-id-3 div.sk-parallel-item {display: flex;flex-direction: column;z-index: 1;position: relative;background-color: white;}#sk-container-id-3 div.sk-parallel-item:first-child::after {align-self: flex-end;width: 50%;}#sk-container-id-3 div.sk-parallel-item:last-child::after {align-self: flex-start;width: 50%;}#sk-container-id-3 div.sk-parallel-item:only-child::after {width: 0;}#sk-container-id-3 div.sk-dashed-wrapped {border: 1px dashed gray;margin: 0 0.4em 0.5em 0.4em;box-sizing: border-box;padding-bottom: 0.4em;background-color: white;}#sk-container-id-3 div.sk-label label {font-family: monospace;font-weight: bold;display: inline-block;line-height: 1.2em;}#sk-container-id-3 div.sk-label-container {text-align: center;}#sk-container-id-3 div.sk-container {/* jupyter's `normalize.less` sets `[hidden] { display: none; }` but bootstrap.min.css set `[hidden] { display: none !important; }` so we also need the `!important` here to be able to override the default hidden behavior on the sphinx rendered scikit-learn.org. See: https://github.com/scikit-learn/scikit-learn/issues/21755 */display: inline-block !important;position: relative;}#sk-container-id-3 div.sk-text-repr-fallback {display: none;}</style><div id=\"sk-container-id-3\" class=\"sk-top-container\"><div class=\"sk-text-repr-fallback\"><pre>XGBClassifier(base_score=None, booster=None, callbacks=None,\n",
              "              colsample_bylevel=None, colsample_bynode=None,\n",
              "              colsample_bytree=None, early_stopping_rounds=None,\n",
              "              enable_categorical=False, eval_metric=None, feature_types=None,\n",
              "              gamma=None, gpu_id=None, grow_policy=None, importance_type=None,\n",
              "              interaction_constraints=None, learning_rate=0.001, max_bin=None,\n",
              "              max_cat_threshold=None, max_cat_to_onehot=None,\n",
              "              max_delta_step=None, max_depth=8, max_leaves=None,\n",
              "              min_child_weight=None, missing=nan, monotone_constraints=None,\n",
              "              n_estimators=300, n_jobs=None, num_parallel_tree=None,\n",
              "              objective=&#x27;multi:softprob&#x27;, predictor=None, ...)</pre><b>In a Jupyter environment, please rerun this cell to show the HTML representation or trust the notebook. <br />On GitHub, the HTML representation is unable to render, please try loading this page with nbviewer.org.</b></div><div class=\"sk-container\" hidden><div class=\"sk-item\"><div class=\"sk-estimator sk-toggleable\"><input class=\"sk-toggleable__control sk-hidden--visually\" id=\"sk-estimator-id-3\" type=\"checkbox\" checked><label for=\"sk-estimator-id-3\" class=\"sk-toggleable__label sk-toggleable__label-arrow\">XGBClassifier</label><div class=\"sk-toggleable__content\"><pre>XGBClassifier(base_score=None, booster=None, callbacks=None,\n",
              "              colsample_bylevel=None, colsample_bynode=None,\n",
              "              colsample_bytree=None, early_stopping_rounds=None,\n",
              "              enable_categorical=False, eval_metric=None, feature_types=None,\n",
              "              gamma=None, gpu_id=None, grow_policy=None, importance_type=None,\n",
              "              interaction_constraints=None, learning_rate=0.001, max_bin=None,\n",
              "              max_cat_threshold=None, max_cat_to_onehot=None,\n",
              "              max_delta_step=None, max_depth=8, max_leaves=None,\n",
              "              min_child_weight=None, missing=nan, monotone_constraints=None,\n",
              "              n_estimators=300, n_jobs=None, num_parallel_tree=None,\n",
              "              objective=&#x27;multi:softprob&#x27;, predictor=None, ...)</pre></div></div></div></div></div>"
            ]
          },
          "metadata": {},
          "execution_count": 132
        }
      ]
    },
    {
      "cell_type": "code",
      "source": [
        "from sklearn.metrics import accuracy_score\n",
        "\n",
        "# Vectorize the validation text\n",
        "X_val = vectorizer.transform(df['Text'])\n",
        "\n",
        "# Convert validation categories to numerical form\n",
        "y_val = encoder.transform(df['Category'])\n",
        "\n",
        "# Make predictions and evaluate the model\n",
        "y_val_pred = model.predict(X_val)\n",
        "accuracy = accuracy_score(y_val, y_val_pred)\n",
        "print(f'Accuracy: {accuracy}')"
      ],
      "metadata": {
        "colab": {
          "base_uri": "https://localhost:8080/"
        },
        "id": "35tNvqjr1g3w",
        "outputId": "89a90e5b-3116-4db0-cb3b-79d3b530a3e6"
      },
      "execution_count": null,
      "outputs": [
        {
          "output_type": "stream",
          "name": "stdout",
          "text": [
            "Accuracy: 0.9845637583892617\n"
          ]
        }
      ]
    },
    {
      "cell_type": "code",
      "source": [],
      "metadata": {
        "id": "EOEehvVF1g8P"
      },
      "execution_count": null,
      "outputs": []
    },
    {
      "cell_type": "code",
      "source": [
        "# Load the test data\n",
        "df_test = pd.read_csv('/content/gdrive/MyDrive/BBC News Test.csv', sep=',', header=0)"
      ],
      "metadata": {
        "id": "wzzORnaO1vf0"
      },
      "execution_count": null,
      "outputs": []
    },
    {
      "cell_type": "code",
      "source": [
        "# Preprocess and Vectorize the test data\n",
        "X_test = vectorizer.transform(df_test['Text'])\n",
        "\n",
        "# Predict the labels\n",
        "y_test_pred = model.predict(X_test)\n"
      ],
      "metadata": {
        "id": "3rkbdIrp1vf1"
      },
      "execution_count": null,
      "outputs": []
    },
    {
      "cell_type": "code",
      "source": [
        "# Transform the numerical labels back to original categories\n",
        "df_test['predicted_category'] = encoder.inverse_transform(y_test_pred)\n",
        "\n",
        "# The predicted categories are now in the 'predicted_category' column\n",
        "df_test.head(15)"
      ],
      "metadata": {
        "colab": {
          "base_uri": "https://localhost:8080/",
          "height": 520
        },
        "outputId": "f5a94e56-03ef-4122-bc63-913d3057e29f",
        "id": "-krAmUjI1vf2"
      },
      "execution_count": null,
      "outputs": [
        {
          "output_type": "execute_result",
          "data": {
            "text/plain": [
              "    ArticleId                                               Text  \\\n",
              "0        1018  qpr keeper day heads for preston queens park r...   \n",
              "1        1319  software watching while you work software that...   \n",
              "2        1138  d arcy injury adds to ireland woe gordon d arc...   \n",
              "3         459  india s reliance family feud heats up the ongo...   \n",
              "4        1020  boro suffer morrison injury blow middlesbrough...   \n",
              "5          51  lewsey puzzle over disallowed try england s jo...   \n",
              "6        2025  blair blasts tory spending plans tony blair ha...   \n",
              "7        1479  former ni minister scott dies former northern ...   \n",
              "8          27  career honour for actor dicaprio actor leonard...   \n",
              "9         397  tsunami  to hit sri lanka banks  sri lanka s b...   \n",
              "10       1644  us economy still growing says fed most areas o...   \n",
              "11        263  digital uk driven by net and tv the uk s adopt...   \n",
              "12        765  blunkett tells of love and pain david blunkett...   \n",
              "13       2134  ibm puts cash behind linux push ibm is spendin...   \n",
              "14        297  cage film s third week at us top nicolas cage ...   \n",
              "\n",
              "   predicted_category  \n",
              "0               sport  \n",
              "1                tech  \n",
              "2               sport  \n",
              "3            business  \n",
              "4               sport  \n",
              "5               sport  \n",
              "6            politics  \n",
              "7            politics  \n",
              "8       entertainment  \n",
              "9            business  \n",
              "10           business  \n",
              "11               tech  \n",
              "12           politics  \n",
              "13               tech  \n",
              "14      entertainment  "
            ],
            "text/html": [
              "\n",
              "  <div id=\"df-7c0d332b-c738-430f-aa69-78b2cb2e2ae5\">\n",
              "    <div class=\"colab-df-container\">\n",
              "      <div>\n",
              "<style scoped>\n",
              "    .dataframe tbody tr th:only-of-type {\n",
              "        vertical-align: middle;\n",
              "    }\n",
              "\n",
              "    .dataframe tbody tr th {\n",
              "        vertical-align: top;\n",
              "    }\n",
              "\n",
              "    .dataframe thead th {\n",
              "        text-align: right;\n",
              "    }\n",
              "</style>\n",
              "<table border=\"1\" class=\"dataframe\">\n",
              "  <thead>\n",
              "    <tr style=\"text-align: right;\">\n",
              "      <th></th>\n",
              "      <th>ArticleId</th>\n",
              "      <th>Text</th>\n",
              "      <th>predicted_category</th>\n",
              "    </tr>\n",
              "  </thead>\n",
              "  <tbody>\n",
              "    <tr>\n",
              "      <th>0</th>\n",
              "      <td>1018</td>\n",
              "      <td>qpr keeper day heads for preston queens park r...</td>\n",
              "      <td>sport</td>\n",
              "    </tr>\n",
              "    <tr>\n",
              "      <th>1</th>\n",
              "      <td>1319</td>\n",
              "      <td>software watching while you work software that...</td>\n",
              "      <td>tech</td>\n",
              "    </tr>\n",
              "    <tr>\n",
              "      <th>2</th>\n",
              "      <td>1138</td>\n",
              "      <td>d arcy injury adds to ireland woe gordon d arc...</td>\n",
              "      <td>sport</td>\n",
              "    </tr>\n",
              "    <tr>\n",
              "      <th>3</th>\n",
              "      <td>459</td>\n",
              "      <td>india s reliance family feud heats up the ongo...</td>\n",
              "      <td>business</td>\n",
              "    </tr>\n",
              "    <tr>\n",
              "      <th>4</th>\n",
              "      <td>1020</td>\n",
              "      <td>boro suffer morrison injury blow middlesbrough...</td>\n",
              "      <td>sport</td>\n",
              "    </tr>\n",
              "    <tr>\n",
              "      <th>5</th>\n",
              "      <td>51</td>\n",
              "      <td>lewsey puzzle over disallowed try england s jo...</td>\n",
              "      <td>sport</td>\n",
              "    </tr>\n",
              "    <tr>\n",
              "      <th>6</th>\n",
              "      <td>2025</td>\n",
              "      <td>blair blasts tory spending plans tony blair ha...</td>\n",
              "      <td>politics</td>\n",
              "    </tr>\n",
              "    <tr>\n",
              "      <th>7</th>\n",
              "      <td>1479</td>\n",
              "      <td>former ni minister scott dies former northern ...</td>\n",
              "      <td>politics</td>\n",
              "    </tr>\n",
              "    <tr>\n",
              "      <th>8</th>\n",
              "      <td>27</td>\n",
              "      <td>career honour for actor dicaprio actor leonard...</td>\n",
              "      <td>entertainment</td>\n",
              "    </tr>\n",
              "    <tr>\n",
              "      <th>9</th>\n",
              "      <td>397</td>\n",
              "      <td>tsunami  to hit sri lanka banks  sri lanka s b...</td>\n",
              "      <td>business</td>\n",
              "    </tr>\n",
              "    <tr>\n",
              "      <th>10</th>\n",
              "      <td>1644</td>\n",
              "      <td>us economy still growing says fed most areas o...</td>\n",
              "      <td>business</td>\n",
              "    </tr>\n",
              "    <tr>\n",
              "      <th>11</th>\n",
              "      <td>263</td>\n",
              "      <td>digital uk driven by net and tv the uk s adopt...</td>\n",
              "      <td>tech</td>\n",
              "    </tr>\n",
              "    <tr>\n",
              "      <th>12</th>\n",
              "      <td>765</td>\n",
              "      <td>blunkett tells of love and pain david blunkett...</td>\n",
              "      <td>politics</td>\n",
              "    </tr>\n",
              "    <tr>\n",
              "      <th>13</th>\n",
              "      <td>2134</td>\n",
              "      <td>ibm puts cash behind linux push ibm is spendin...</td>\n",
              "      <td>tech</td>\n",
              "    </tr>\n",
              "    <tr>\n",
              "      <th>14</th>\n",
              "      <td>297</td>\n",
              "      <td>cage film s third week at us top nicolas cage ...</td>\n",
              "      <td>entertainment</td>\n",
              "    </tr>\n",
              "  </tbody>\n",
              "</table>\n",
              "</div>\n",
              "      <button class=\"colab-df-convert\" onclick=\"convertToInteractive('df-7c0d332b-c738-430f-aa69-78b2cb2e2ae5')\"\n",
              "              title=\"Convert this dataframe to an interactive table.\"\n",
              "              style=\"display:none;\">\n",
              "        \n",
              "  <svg xmlns=\"http://www.w3.org/2000/svg\" height=\"24px\"viewBox=\"0 0 24 24\"\n",
              "       width=\"24px\">\n",
              "    <path d=\"M0 0h24v24H0V0z\" fill=\"none\"/>\n",
              "    <path d=\"M18.56 5.44l.94 2.06.94-2.06 2.06-.94-2.06-.94-.94-2.06-.94 2.06-2.06.94zm-11 1L8.5 8.5l.94-2.06 2.06-.94-2.06-.94L8.5 2.5l-.94 2.06-2.06.94zm10 10l.94 2.06.94-2.06 2.06-.94-2.06-.94-.94-2.06-.94 2.06-2.06.94z\"/><path d=\"M17.41 7.96l-1.37-1.37c-.4-.4-.92-.59-1.43-.59-.52 0-1.04.2-1.43.59L10.3 9.45l-7.72 7.72c-.78.78-.78 2.05 0 2.83L4 21.41c.39.39.9.59 1.41.59.51 0 1.02-.2 1.41-.59l7.78-7.78 2.81-2.81c.8-.78.8-2.07 0-2.86zM5.41 20L4 18.59l7.72-7.72 1.47 1.35L5.41 20z\"/>\n",
              "  </svg>\n",
              "      </button>\n",
              "      \n",
              "  <style>\n",
              "    .colab-df-container {\n",
              "      display:flex;\n",
              "      flex-wrap:wrap;\n",
              "      gap: 12px;\n",
              "    }\n",
              "\n",
              "    .colab-df-convert {\n",
              "      background-color: #E8F0FE;\n",
              "      border: none;\n",
              "      border-radius: 50%;\n",
              "      cursor: pointer;\n",
              "      display: none;\n",
              "      fill: #1967D2;\n",
              "      height: 32px;\n",
              "      padding: 0 0 0 0;\n",
              "      width: 32px;\n",
              "    }\n",
              "\n",
              "    .colab-df-convert:hover {\n",
              "      background-color: #E2EBFA;\n",
              "      box-shadow: 0px 1px 2px rgba(60, 64, 67, 0.3), 0px 1px 3px 1px rgba(60, 64, 67, 0.15);\n",
              "      fill: #174EA6;\n",
              "    }\n",
              "\n",
              "    [theme=dark] .colab-df-convert {\n",
              "      background-color: #3B4455;\n",
              "      fill: #D2E3FC;\n",
              "    }\n",
              "\n",
              "    [theme=dark] .colab-df-convert:hover {\n",
              "      background-color: #434B5C;\n",
              "      box-shadow: 0px 1px 3px 1px rgba(0, 0, 0, 0.15);\n",
              "      filter: drop-shadow(0px 1px 2px rgba(0, 0, 0, 0.3));\n",
              "      fill: #FFFFFF;\n",
              "    }\n",
              "  </style>\n",
              "\n",
              "      <script>\n",
              "        const buttonEl =\n",
              "          document.querySelector('#df-7c0d332b-c738-430f-aa69-78b2cb2e2ae5 button.colab-df-convert');\n",
              "        buttonEl.style.display =\n",
              "          google.colab.kernel.accessAllowed ? 'block' : 'none';\n",
              "\n",
              "        async function convertToInteractive(key) {\n",
              "          const element = document.querySelector('#df-7c0d332b-c738-430f-aa69-78b2cb2e2ae5');\n",
              "          const dataTable =\n",
              "            await google.colab.kernel.invokeFunction('convertToInteractive',\n",
              "                                                     [key], {});\n",
              "          if (!dataTable) return;\n",
              "\n",
              "          const docLinkHtml = 'Like what you see? Visit the ' +\n",
              "            '<a target=\"_blank\" href=https://colab.research.google.com/notebooks/data_table.ipynb>data table notebook</a>'\n",
              "            + ' to learn more about interactive tables.';\n",
              "          element.innerHTML = '';\n",
              "          dataTable['output_type'] = 'display_data';\n",
              "          await google.colab.output.renderOutput(dataTable, element);\n",
              "          const docLink = document.createElement('div');\n",
              "          docLink.innerHTML = docLinkHtml;\n",
              "          element.appendChild(docLink);\n",
              "        }\n",
              "      </script>\n",
              "    </div>\n",
              "  </div>\n",
              "  "
            ]
          },
          "metadata": {},
          "execution_count": 136
        }
      ]
    },
    {
      "cell_type": "code",
      "source": [],
      "metadata": {
        "id": "_D1uuEX31hBJ"
      },
      "execution_count": null,
      "outputs": []
    },
    {
      "cell_type": "code",
      "source": [
        "# Drop 'Text' column\n",
        "df_test = df_test.drop(['Text'], axis=1)\n",
        "\n",
        "# Rename 'predicted_category' to 'Category'\n",
        "df_test = df_test.rename(columns={'predicted_category': 'Category'})\n"
      ],
      "metadata": {
        "id": "S2xSMei_18Uu"
      },
      "execution_count": null,
      "outputs": []
    },
    {
      "cell_type": "code",
      "source": [
        "df_test.head(15)"
      ],
      "metadata": {
        "colab": {
          "base_uri": "https://localhost:8080/",
          "height": 520
        },
        "outputId": "7179374e-a9b6-4ab8-e26d-d1fedede59a9",
        "id": "LuX3FXHd18Uv"
      },
      "execution_count": null,
      "outputs": [
        {
          "output_type": "execute_result",
          "data": {
            "text/plain": [
              "    ArticleId       Category\n",
              "0        1018          sport\n",
              "1        1319           tech\n",
              "2        1138          sport\n",
              "3         459       business\n",
              "4        1020          sport\n",
              "5          51          sport\n",
              "6        2025       politics\n",
              "7        1479       politics\n",
              "8          27  entertainment\n",
              "9         397       business\n",
              "10       1644       business\n",
              "11        263           tech\n",
              "12        765       politics\n",
              "13       2134           tech\n",
              "14        297  entertainment"
            ],
            "text/html": [
              "\n",
              "  <div id=\"df-6dbb587d-3543-4057-91ee-4e62a80c1ad1\">\n",
              "    <div class=\"colab-df-container\">\n",
              "      <div>\n",
              "<style scoped>\n",
              "    .dataframe tbody tr th:only-of-type {\n",
              "        vertical-align: middle;\n",
              "    }\n",
              "\n",
              "    .dataframe tbody tr th {\n",
              "        vertical-align: top;\n",
              "    }\n",
              "\n",
              "    .dataframe thead th {\n",
              "        text-align: right;\n",
              "    }\n",
              "</style>\n",
              "<table border=\"1\" class=\"dataframe\">\n",
              "  <thead>\n",
              "    <tr style=\"text-align: right;\">\n",
              "      <th></th>\n",
              "      <th>ArticleId</th>\n",
              "      <th>Category</th>\n",
              "    </tr>\n",
              "  </thead>\n",
              "  <tbody>\n",
              "    <tr>\n",
              "      <th>0</th>\n",
              "      <td>1018</td>\n",
              "      <td>sport</td>\n",
              "    </tr>\n",
              "    <tr>\n",
              "      <th>1</th>\n",
              "      <td>1319</td>\n",
              "      <td>tech</td>\n",
              "    </tr>\n",
              "    <tr>\n",
              "      <th>2</th>\n",
              "      <td>1138</td>\n",
              "      <td>sport</td>\n",
              "    </tr>\n",
              "    <tr>\n",
              "      <th>3</th>\n",
              "      <td>459</td>\n",
              "      <td>business</td>\n",
              "    </tr>\n",
              "    <tr>\n",
              "      <th>4</th>\n",
              "      <td>1020</td>\n",
              "      <td>sport</td>\n",
              "    </tr>\n",
              "    <tr>\n",
              "      <th>5</th>\n",
              "      <td>51</td>\n",
              "      <td>sport</td>\n",
              "    </tr>\n",
              "    <tr>\n",
              "      <th>6</th>\n",
              "      <td>2025</td>\n",
              "      <td>politics</td>\n",
              "    </tr>\n",
              "    <tr>\n",
              "      <th>7</th>\n",
              "      <td>1479</td>\n",
              "      <td>politics</td>\n",
              "    </tr>\n",
              "    <tr>\n",
              "      <th>8</th>\n",
              "      <td>27</td>\n",
              "      <td>entertainment</td>\n",
              "    </tr>\n",
              "    <tr>\n",
              "      <th>9</th>\n",
              "      <td>397</td>\n",
              "      <td>business</td>\n",
              "    </tr>\n",
              "    <tr>\n",
              "      <th>10</th>\n",
              "      <td>1644</td>\n",
              "      <td>business</td>\n",
              "    </tr>\n",
              "    <tr>\n",
              "      <th>11</th>\n",
              "      <td>263</td>\n",
              "      <td>tech</td>\n",
              "    </tr>\n",
              "    <tr>\n",
              "      <th>12</th>\n",
              "      <td>765</td>\n",
              "      <td>politics</td>\n",
              "    </tr>\n",
              "    <tr>\n",
              "      <th>13</th>\n",
              "      <td>2134</td>\n",
              "      <td>tech</td>\n",
              "    </tr>\n",
              "    <tr>\n",
              "      <th>14</th>\n",
              "      <td>297</td>\n",
              "      <td>entertainment</td>\n",
              "    </tr>\n",
              "  </tbody>\n",
              "</table>\n",
              "</div>\n",
              "      <button class=\"colab-df-convert\" onclick=\"convertToInteractive('df-6dbb587d-3543-4057-91ee-4e62a80c1ad1')\"\n",
              "              title=\"Convert this dataframe to an interactive table.\"\n",
              "              style=\"display:none;\">\n",
              "        \n",
              "  <svg xmlns=\"http://www.w3.org/2000/svg\" height=\"24px\"viewBox=\"0 0 24 24\"\n",
              "       width=\"24px\">\n",
              "    <path d=\"M0 0h24v24H0V0z\" fill=\"none\"/>\n",
              "    <path d=\"M18.56 5.44l.94 2.06.94-2.06 2.06-.94-2.06-.94-.94-2.06-.94 2.06-2.06.94zm-11 1L8.5 8.5l.94-2.06 2.06-.94-2.06-.94L8.5 2.5l-.94 2.06-2.06.94zm10 10l.94 2.06.94-2.06 2.06-.94-2.06-.94-.94-2.06-.94 2.06-2.06.94z\"/><path d=\"M17.41 7.96l-1.37-1.37c-.4-.4-.92-.59-1.43-.59-.52 0-1.04.2-1.43.59L10.3 9.45l-7.72 7.72c-.78.78-.78 2.05 0 2.83L4 21.41c.39.39.9.59 1.41.59.51 0 1.02-.2 1.41-.59l7.78-7.78 2.81-2.81c.8-.78.8-2.07 0-2.86zM5.41 20L4 18.59l7.72-7.72 1.47 1.35L5.41 20z\"/>\n",
              "  </svg>\n",
              "      </button>\n",
              "      \n",
              "  <style>\n",
              "    .colab-df-container {\n",
              "      display:flex;\n",
              "      flex-wrap:wrap;\n",
              "      gap: 12px;\n",
              "    }\n",
              "\n",
              "    .colab-df-convert {\n",
              "      background-color: #E8F0FE;\n",
              "      border: none;\n",
              "      border-radius: 50%;\n",
              "      cursor: pointer;\n",
              "      display: none;\n",
              "      fill: #1967D2;\n",
              "      height: 32px;\n",
              "      padding: 0 0 0 0;\n",
              "      width: 32px;\n",
              "    }\n",
              "\n",
              "    .colab-df-convert:hover {\n",
              "      background-color: #E2EBFA;\n",
              "      box-shadow: 0px 1px 2px rgba(60, 64, 67, 0.3), 0px 1px 3px 1px rgba(60, 64, 67, 0.15);\n",
              "      fill: #174EA6;\n",
              "    }\n",
              "\n",
              "    [theme=dark] .colab-df-convert {\n",
              "      background-color: #3B4455;\n",
              "      fill: #D2E3FC;\n",
              "    }\n",
              "\n",
              "    [theme=dark] .colab-df-convert:hover {\n",
              "      background-color: #434B5C;\n",
              "      box-shadow: 0px 1px 3px 1px rgba(0, 0, 0, 0.15);\n",
              "      filter: drop-shadow(0px 1px 2px rgba(0, 0, 0, 0.3));\n",
              "      fill: #FFFFFF;\n",
              "    }\n",
              "  </style>\n",
              "\n",
              "      <script>\n",
              "        const buttonEl =\n",
              "          document.querySelector('#df-6dbb587d-3543-4057-91ee-4e62a80c1ad1 button.colab-df-convert');\n",
              "        buttonEl.style.display =\n",
              "          google.colab.kernel.accessAllowed ? 'block' : 'none';\n",
              "\n",
              "        async function convertToInteractive(key) {\n",
              "          const element = document.querySelector('#df-6dbb587d-3543-4057-91ee-4e62a80c1ad1');\n",
              "          const dataTable =\n",
              "            await google.colab.kernel.invokeFunction('convertToInteractive',\n",
              "                                                     [key], {});\n",
              "          if (!dataTable) return;\n",
              "\n",
              "          const docLinkHtml = 'Like what you see? Visit the ' +\n",
              "            '<a target=\"_blank\" href=https://colab.research.google.com/notebooks/data_table.ipynb>data table notebook</a>'\n",
              "            + ' to learn more about interactive tables.';\n",
              "          element.innerHTML = '';\n",
              "          dataTable['output_type'] = 'display_data';\n",
              "          await google.colab.output.renderOutput(dataTable, element);\n",
              "          const docLink = document.createElement('div');\n",
              "          docLink.innerHTML = docLinkHtml;\n",
              "          element.appendChild(docLink);\n",
              "        }\n",
              "      </script>\n",
              "    </div>\n",
              "  </div>\n",
              "  "
            ]
          },
          "metadata": {},
          "execution_count": 138
        }
      ]
    },
    {
      "cell_type": "code",
      "source": [
        "# Write DataFrame to csv\n",
        "df_test.to_csv('BBC_News_Test_Predictions3.csv', index=False)"
      ],
      "metadata": {
        "id": "CMo6usLN18Uv"
      },
      "execution_count": null,
      "outputs": []
    },
    {
      "cell_type": "code",
      "source": [
        "from google.colab import files\n",
        "files.download('BBC_News_Test_Predictions3.csv')"
      ],
      "metadata": {
        "colab": {
          "base_uri": "https://localhost:8080/",
          "height": 18
        },
        "outputId": "f832ab25-9ae6-410e-9944-2537c25f4bd1",
        "id": "WvmDFS4S18Uv"
      },
      "execution_count": null,
      "outputs": [
        {
          "output_type": "display_data",
          "data": {
            "text/plain": [
              "<IPython.core.display.Javascript object>"
            ],
            "application/javascript": [
              "\n",
              "    async function download(id, filename, size) {\n",
              "      if (!google.colab.kernel.accessAllowed) {\n",
              "        return;\n",
              "      }\n",
              "      const div = document.createElement('div');\n",
              "      const label = document.createElement('label');\n",
              "      label.textContent = `Downloading \"${filename}\": `;\n",
              "      div.appendChild(label);\n",
              "      const progress = document.createElement('progress');\n",
              "      progress.max = size;\n",
              "      div.appendChild(progress);\n",
              "      document.body.appendChild(div);\n",
              "\n",
              "      const buffers = [];\n",
              "      let downloaded = 0;\n",
              "\n",
              "      const channel = await google.colab.kernel.comms.open(id);\n",
              "      // Send a message to notify the kernel that we're ready.\n",
              "      channel.send({})\n",
              "\n",
              "      for await (const message of channel.messages) {\n",
              "        // Send a message to notify the kernel that we're ready.\n",
              "        channel.send({})\n",
              "        if (message.buffers) {\n",
              "          for (const buffer of message.buffers) {\n",
              "            buffers.push(buffer);\n",
              "            downloaded += buffer.byteLength;\n",
              "            progress.value = downloaded;\n",
              "          }\n",
              "        }\n",
              "      }\n",
              "      const blob = new Blob(buffers, {type: 'application/binary'});\n",
              "      const a = document.createElement('a');\n",
              "      a.href = window.URL.createObjectURL(blob);\n",
              "      a.download = filename;\n",
              "      div.appendChild(a);\n",
              "      a.click();\n",
              "      div.remove();\n",
              "    }\n",
              "  "
            ]
          },
          "metadata": {}
        },
        {
          "output_type": "display_data",
          "data": {
            "text/plain": [
              "<IPython.core.display.Javascript object>"
            ],
            "application/javascript": [
              "download(\"download_fea36c40-7d83-4589-84c1-e0aaccdc361d\", \"BBC_News_Test_Predictions3.csv\", 9385)"
            ]
          },
          "metadata": {}
        }
      ]
    },
    {
      "cell_type": "markdown",
      "source": [
        "Using the tuned version of the XGBoost Model, the accuracy score on the testing data actually decreases to 0.88163. Overfitting of the model is likely the case here."
      ],
      "metadata": {
        "id": "6H8YW-SmrnZb"
      }
    },
    {
      "cell_type": "markdown",
      "source": [
        "![Screen Shot 2023-06-29 at 5.20.52 PM.png](data:image/png;base64,iVBORw0KGgoAAAANSUhEUgAAA4AAAAA+CAYAAAB6HHXPAAAK1mlDQ1BJQ0MgUHJvZmlsZQAASImVlwdUk8kWx+f70kNCC0RASugd6QSQEnro0kFUQhKSUGJICCpiZ3EFVxQREVBXdEVEwdUVkLUgFiwsgr1vkEVAXRcLNlT2CzzC7r7z3jvvnjOZ37m5c+feycw5/wBADmGJRNmwKgA5wjxxTLAfLSk5hYYbAhDQASpAFVix2BIRIzo6HCA2Pf/d3t1GohG7YSvP9e/f/1dT53AlbACgVITTORJ2DsIdyHjGFonzAEAdQvzGS/JEcu5FWEOMFIjwb3LmTfEHOadPMpo0GRMX448wDQA8icUS8wAg2SB+Wj6bh+QhyXuwF3IEQoQLEfZm81kchE8ibJOTs1jOwwhbIPEiAMjI6QB6+l9y8v6WP12Rn8XiKXiqr0nDBwgkomzWsv/zaP635WRLp/cwQwaJLw6Jke+HnN/drMVhChamR0ZNs4AzVZOc+dKQ+GlmS/xTppnDCghTrM2ODJ/mDEEQU5Enjxk3zVxJYOw0ixfHKPbKEPszppklntyXiLBMmhWv8PO5TEX+An5c4jTnCxIip1mSFRs2E+Ov8IulMYr6ucJgv5l9gxS950j+0q+AqVibx48LUfTOmqmfK2TM5JQkKWrjcAMCZ2LiFfGiPD/FXqLsaEU8NztY4ZfkxyrW5iGXc2ZttOIMM1mh0dMMBCACsACbpjJNAORxl+bJG/FfLFomFvD4eTQG8tq4NKaQbWdDc7R3dAJA/nanrsMb6uSbhKhXZny5HQC4lyBO3oyPZQzAiacAUN7N+IxfI1dpMwCnetlScf6UDy3/wCC/ngrQANpAHxgDC2ALHIEr8AS+IBCEgigQB5LBQqRWPsgBYrAEFII1oBiUgs1gG6gGu8FecAAcBkdBKzgJzoKL4CroBbfAAyADg+A5GAXvwDgEQTiIDFEgbcgAMoWsIUeIDnlDgVA4FAMlQ2kQDxJCUqgQWgeVQuVQNbQHaoB+hE5AZ6HLUB90D+qHRqDX0CcYBZNgDVgPNoPnwHSYAYfBcfACmAfnwgVwEbwJroLr4ENwC3wWvgrfgmXwc3gMBVBKKCrKEGWLoqP8UVGoFFQGSoxaiSpBVaLqUE2odlQX6gZKhnqB+ojGoiloGtoW7YkOQcej2ehc9Er0RnQ1+gC6BX0efQPdjx5Ff8WQMboYa4wHholJwvAwSzDFmErMfsxxzAXMLcwg5h0Wi6VizbFu2BBsMjYTuxy7EbsT24ztwPZhB7BjOBxOG2eN88JF4Vi4PFwxbgfuEO4M7jpuEPcBr4Q3wDvig/ApeCF+Lb4SfxB/Gn8dP4QfJ6gSTAkehCgCh7CMUEbYR2gnXCMMEsaJakRzohcxjphJXEOsIjYRLxAfEt8oKSkZKbkrzVMSKK1WqlI6onRJqV/pI0mdZEXyJ6WSpKRNpHpSB+ke6Q2ZTDYj+5JTyHnkTeQG8jnyY/IHZYqynTJTmaO8SrlGuUX5uvJLFYKKqQpDZaFKgUqlyjGVayovVAmqZqr+qizVlao1qidU76iOqVHUHNSi1HLUNqodVLusNqyOUzdTD1TnqBep71U/pz5AQVGMKf4UNmUdZR/lAmVQA6thrsHUyNQo1Tis0aMxqqmu6ayZoLlUs0bzlKaMiqKaUZnUbGoZ9Sj1NvXTLL1ZjFncWRtmNc26Puu91mwtXy2uVolWs9YtrU/aNO1A7SztLdqt2o900DpWOvN0lujs0rmg82K2xmzP2ezZJbOPzr6vC+ta6cboLtfdq9utO6anrxesJ9LboXdO74U+Vd9XP1O/Qv+0/ogBxcDbQGBQYXDG4BlNk8agZdOqaOdpo4a6hiGGUsM9hj2G40bmRvFGa42ajR4ZE43pxhnGFcadxqMmBiYRJoUmjSb3TQmmdFO+6XbTLtP3ZuZmiWbrzVrNhs21zJnmBeaN5g8tyBY+FrkWdRY3LbGWdMssy52WvVawlYsV36rG6po1bO1qLbDead1ng7FxtxHa1NncsSXZMmzzbRtt++2oduF2a+1a7V7OMZmTMmfLnK45X+1d7LPt99k/cFB3CHVY69Du8NrRypHtWON404nsFOS0yqnN6ZWztTPXeZfzXReKS4TLepdOly+ubq5i1ybXETcTtzS3Wrc7dA16NH0j/ZI7xt3PfZX7SfePHq4eeR5HPf7wtPXM8jzoOTzXfC537r65A15GXiyvPV4yb5p3mvf33jIfQx+WT53PE19jX47vft8hhiUjk3GI8dLP3k/sd9zvvb+H/wr/jgBUQHBASUBPoHpgfGB14OMgoyBeUGPQaLBL8PLgjhBMSFjIlpA7TD0mm9nAHA11C10Rej6MFBYbVh32JNwqXBzeHgFHhEZsjXgYaRopjGyNAlHMqK1Rj6LNo3Ojf56HnRc9r2be0xiHmMKYrlhK7KLYg7Hv4vziyuIexFvES+M7E1QSUhMaEt4nBiSWJ8qS5iStSLqarJMsSG5LwaUkpOxPGZsfOH/b/MFUl9Ti1NsLzBcsXXB5oc7C7IWnFqksYi06loZJS0w7mPaZFcWqY42lM9Nr00fZ/uzt7OccX04FZ4TrxS3nDmV4ZZRnDPO8eFt5I3wffiX/hcBfUC14lRmSuTvzfVZUVn3WRHZidnMOPict54RQXZglPL9Yf/HSxX0ia1GxSJbrkbstd1QcJt4vgSQLJG15GohI6pZaSL+R9ud759fkf1iSsOTYUrWlwqXdy6yWbVg2VBBU8MNy9HL28s5Cw8I1hf0rGCv2rIRWpq/sXGW8qmjV4Org1QfWENdkrfllrf3a8rVv1yWuay/SK1pdNPBN8DeNxcrF4uI76z3X7/4W/a3g254NTht2bPhawim5UmpfWln6eSN745XvHL6r+m5iU8amnjLXsl2bsZuFm29v8dlyoFytvKB8YGvE1pYKWkVJxdtti7ZdrnSu3L2duF26XVYVXtW2w2TH5h2fq/nVt2r8apprdWs31L7fydl5fZfvrqbdertLd3/6XvD93T3Be1rqzOoq92L35u99ui9hX9cP9B8a9uvsL93/pV5YLzsQc+B8g1tDw0Hdg2WNcKO0ceRQ6qHewwGH25psm/Y0U5tLj4Aj0iPPfkz78fbRsKOdx+jHmn4y/an2OOV4SQvUsqxltJXfKmtLbus7EXqis92z/fjPdj/XnzQ8WXNK81TZaeLpotMTZwrOjHWIOl6c5Z0d6FzU+eBc0rmb5+ed77kQduHSxaCL57oYXWcueV06ednj8okr9CutV12vtnS7dB//xeWX4z2uPS3X3K619br3tvfN7Tt93ef62RsBNy7eZN68eivyVt/t+Nt376Tekd3l3B2+l33v1f38++MPVj/EPCx5pPqo8rHu47pfLX9tlrnKTvUH9Hc/iX3yYIA98Pw3yW+fB4uekp9WDhkMNQw7Dp8cCRrpfTb/2eBz0fPxF8W/q/1e+9Li5U9/+P7RPZo0OvhK/Gri9cY32m/q3zq/7RyLHnv8Lufd+PuSD9ofDnykf+z6lPhpaHzJZ9znqi+WX9q/hn19OJEzMSFiiVmTUgCFDDgjA4DX9Yg2Tka0A6LLifOntPWkQVP/ByYJ/Cee0t+T5gpAvS8A8asBCEc0yi5kmCJMQma5JIrzBbCTk2L8yyQZTo5TuUiIssR8mJh4owcArh2AL+KJifGdExNf9iHF3gOgI3dK08sNi2j5Ixg5deuvBP+0Kb3/lx7/OQN5Bc7gn/OfLqsX47OWm7wAAABWZVhJZk1NACoAAAAIAAGHaQAEAAAAAQAAABoAAAAAAAOShgAHAAAAEgAAAESgAgAEAAAAAQAAA4CgAwAEAAAAAQAAAD4AAAAAQVNDSUkAAABTY3JlZW5zaG904cR6CwAAAdVpVFh0WE1MOmNvbS5hZG9iZS54bXAAAAAAADx4OnhtcG1ldGEgeG1sbnM6eD0iYWRvYmU6bnM6bWV0YS8iIHg6eG1wdGs9IlhNUCBDb3JlIDUuNC4wIj4KICAgPHJkZjpSREYgeG1sbnM6cmRmPSJodHRwOi8vd3d3LnczLm9yZy8xOTk5LzAyLzIyLXJkZi1zeW50YXgtbnMjIj4KICAgICAgPHJkZjpEZXNjcmlwdGlvbiByZGY6YWJvdXQ9IiIKICAgICAgICAgICAgeG1sbnM6ZXhpZj0iaHR0cDovL25zLmFkb2JlLmNvbS9leGlmLzEuMC8iPgogICAgICAgICA8ZXhpZjpQaXhlbFhEaW1lbnNpb24+ODk2PC9leGlmOlBpeGVsWERpbWVuc2lvbj4KICAgICAgICAgPGV4aWY6VXNlckNvbW1lbnQ+U2NyZWVuc2hvdDwvZXhpZjpVc2VyQ29tbWVudD4KICAgICAgICAgPGV4aWY6UGl4ZWxZRGltZW5zaW9uPjYyPC9leGlmOlBpeGVsWURpbWVuc2lvbj4KICAgICAgPC9yZGY6RGVzY3JpcHRpb24+CiAgIDwvcmRmOlJERj4KPC94OnhtcG1ldGE+Ctu2kL8AADRdSURBVHgB7Z0FnBXVF8cPIN3djdKNtLDSIJ0ioIR0qtTS3S3dkiKNIN3dnSLd3a3+z++8vbPz3u7bfburf8U9h8++mblz586d7wyfz5w5FeZPFlJRAkpACSgBJaAElIASUAJKQAkogf88gbD/+SvUC1QCSkAJKAEloASUgBJQAkpACSgBIaAKoD4ISkAJKAEloASUgBJQAkpACSiBUEJAFcBQcqP1MpWAElACSkAJKAEloASUgBJQAqoA6jOgBJSAElACSkAJKAEloASUgBIIJQRUAQwlN1ovUwkoASWgBJSAElACSkAJKAEloAqgPgNKQAkoASWgBJSAElACSkAJKIFQQkAVwFByo/UylYASUAJKQAkoASWgBJSAElACqgDqM6AElIASUAJKQAkoASWgBJSAEgglBFQBDCU3Wi9TCSgBJaAElIASUAJKQAkoASWgCqA+A0pACSgBJaAElIASUAJKQAkogVBCQBXAUHKj9TL/3QTevfudNm3eQleuXP1LJnrq1GnavXvPXzKWDqIElIASUAJKQAkoASXw3yEQ5k+W/87lBH4l1arXpOfPX1gdw4QhSp48OeXIkZ0aNqhPkSJFkn2jRo+hNWvWWf2wEjNmDMqaJQt9/nktSpcurdM+bOzavZvWr99Au3btoZs3b1KqVKmoVKkSMm6UKFH89HdtOHjwEHXt1oMiRoxIU6dMpPjx4zt1ad2mHf3663lq2LA+1axR3Wnfv2mjbdtv6Oy5XwOcUtGin5B3504B9vk7dxrW9nNEjx6dcvJzUKzYp5Q/fz77rr98feq06bRo0RIqVLAAde/elWbNnkM9e/amuHHj0t49OylcuHDBPuft23eoUOEi9Pvvv9PcubOoYIECwR4rpAeuXr2Gflq4iI4fP0GRI0ei7NmzU8sWzSljxgwhHVqPVwJKQAkoASWgBJSAEggGgQ+Cccx7fcg5VkyePXvmdA1nzpwVxW3duvX04/y5ogTeunmLzp4969QPG/v27ZcX2tmzZvLLbDZr/7Jly+nb7zqQXZ8+fvw4v/gep6VLl9HSJYsoRowYVn//Vp4/f26ds3PnLjRt2hSnbhcuXJD99+/fd2r/t21cunzFug53c0uVMqW7XUFuv379OhX+xEuO27N7JyVMmCDQMeys7Z0PHDhA06bPoOHDhlDlypXsu/7S9Tt37gqjpEmTyLgZ0qfnDwwx5ZkKivI3ZcpUGjBwMOXJnZsWLvxRxoodOxZ9+GE6evTwESVNkvQvnXdQBhs7bjwNHz5SDsE1PXjwB127dp22bNlKc2b/IB9dgjKe9lUCSkAJKAEloASUgBIIOYFQ6wLap08vgrKw+pefqVHDBkLy6NFjouDZsXp5FZV+O7ZvoWFDBxOsRE+fPqX58x0v2+i7des2at+hkyh/BQrkp/Hjx9K6taupW7cuYs27cOEiW3l62ocNdB3ugD/+uCDQfvYOf/zxh33zL1sP6riTJ02gbVs3y9+0qZOteaxYsdRq79+/j9WOFU/O4Umf339/5zSuJxtbNm+Uec36YQblzJlD5tKxkze9evXK38Pfvn3rp92TueHjgP0DgX2QvHk/psOH9pOdl31/YOO/fec7pwgRIvBzvZJdQHdQypQp7MNY64GNZzp60s+/a3rz5g1NmuT4gNG8WVM6dfIY7d+3WyzoUL7nzZtvThHoMrhzCHRg7aAElIASUAJKQAkogVBIIEQKIF78jt48TcN3TKOGiztR+Vlf08fjK8sf1tGGfejj30viP8kb1hZYijJkyEDe3p0oWrRoMp1Lly87TStihIjSL2nSpFStWlUqXbqkn36z58wVdzu4tU2dMonKliktFhgolt6dO0r/dewa+uKFr+up00ncbPTtNyDQmDBYBTt27Mwuf0UpY6asVLFiFdqwYaM1Yp++/SjPx/nFOmkax4wZK21eXsUtxWvHjp3SVqBAYYKCg/s1ffpMKluuPGXImIW8Pi0hSuz587+ZYdwuwTV58mTylzBhQqtf0iRJrHa4OkLgItioUWPKmi0n5cyVh5o1a+l0zYHNA8cb6x/GA4eatWpj1WNJliypzOuTTwrTmNEOixUY4IPA69evhQsYrlr1C5UpW54+Sp+JLVnXZPzA5o9OsNh+8217GSd7jtzUpWt3goJkF4z9cd4CVLVaDav53bt3NGLkKKpcpRqlz5CZSpQsTf34mTDHwuIM6x8Ec8UcYRG0z/ncr79a45ln5ZMiXsw7B31Vv6FYp00H+3H79x+gel/Wp8xZshOeE6PMmb772VJa+4u6lCNnHvlr3rwlrV6z1uymx48f831tQO3atqG2bVsTlFLc85IlS0ifixcvWX39W7l48SJ1YiUcc8Uc4Lq94ueVTl0DmsPOnbus+wZ3bCNHjhy12nEOFSWgBJSAElACSkAJhDYCwXIBffP7W5pzZBlNO7CQ7j733x3x8aundO7eRdpx+QBN2jeP4keNS43y1KC6OSpThHDh/1Wc17PCBLdQuKnlY0uMO8FLP1xAIfa4qsOHj0hbwwYNyDXWr3r16pTCxwoTJkwY6efJD2IS8bL6Hb/kL1gwj8KGDetHib516za/pDegGzduyHnjxYtHx0+coMZNmtG4sWOoXLmyEnM1Y8YPtHnzZjkec9i8ZYsoJVBMTp46JVaZnbt2SRssUeHDh6eJEyfT4CFD5bxQbB+yO+GcufPo0OHDtGL50hDFqJnrh/LUqnVbUUITJUok92DtunW0b/9+VmLXUpzYsUXxCGgeETlmE/cN8W4QrJs4TnOeoCxh4TUCSxUUUONyCyuvsQqCoyfzh1KF+2GeETwfsB5HjhzZnEaW6IfzIE4OgvPi3hulBx8sfvvtgvydPXeO4IIcLWpU6Wt+okaNwtf/gdOczXyhBNWtV19iU8EoRozotG3bdvmDQlmrVk2n45q3aEWPHj0SrpevXKFBg4dQggTxqUqVygRFsnbturIvceLEhOduzdp1hP9Hq1Yup/Tszor4VSh/dkH86lJ2lYaULFncvstpHc815orn2tzPQ4cOE/5e8D1BDG5gc8BzDAUaiijm9WW9unIOPF/gnDZtGkqdOrXTeXVDCSgBJaAElIASUAKhgUCQLYAbzu+kUjO+okFbJ7pV/vwDB0URx+BYjPFPS69evcW6AKsTrBexWdkYP+57eXm1z23rtm3SD5axIkWLiXUKlr2WLZtLN2RtfPDggaz7l9gCL+WfennJn+tLv/08rusjhg8Vpe7AwYM0efJU192yDcUIL8mFChakQwf30c4dW6kLWzMh/foPlCWsWlAeHz16TGc41hGKLhJyGNm9a7es7tmzV5ZFixaR5foNG2RZm1+2V/68nDZvWi+WzRScMOf8b4FbAeXgAH6Q9bJ9h46i/PXs0Z1279pOB/bvIby4P3z4kCaMn+jRPIp96kVbt2y0zrRt6yaCK2dwBIrQiJGj5VAoeLly5XQa5sN06YTD2TMn2SqcyKP5I64Uyh/Gg2vwyRNHZX7Giud0AtvGxo2bRPnDvZsyeSIdOXyAZkx3PAew1kIBghuzud+IR926ZZMkCLINY60OGTJMlL+UKVLwR4zdzHovW1ubyH4kHoKyaxc8y0ePHKRNG9dRihTJZddmjt2DYAmFG4ofXH1XLF8i88CzdvTYcelj/5k5cxZlypyNSpUuS5cuXZIERnXq1LF3cVo3zzWsyHgu4Bpb5wuHVXfmD7Olb2BzwEeMsmXLSF8kZjKC+wGpXKmiadKlElACSkAJKAEloARCFQGPLYCwSHy/+wcat2cOcSSTBSlJjIRUKl1h8kqTn1LETEIJojlc++48u09XHt+gLRf20LrzO+jGk9tyDJYtVvSgVvnrUesCX8mLsTXY/3ElYsRIFCWyw2Ly5MlTUTrw8o8YMHv2TVgg0O/PyH/S4ydP6OXLlzSfY/MQ61e8eDF69do3TgzZO/8qScEv6t05htC7SzdxAzSKmX38XWy1gyRMlJBWrlwl61GiOKxCsPhAMY0TJw5lzZpFXASh5N28dUte3pEkBBaZ3dyGl3GjFHoVLSrjZM6USSwuK9k1MQpbmpAVc9CgAYEmspGDPfhBgp0XL15KT7jfLl68RNaRkRVWVlgyIX/3PHCOYsVL8nMYVpRpE99Xt84XFCtWLMvih35t2rSiVKlSYZVOnjzl0fxPnDwp/fPlyysKNDagKCG2FEqeO4G1C1KQs4SWKOGwluGYeXNn00uOTYRFMCgCyy2keYtmYlnF+rfftBM3XyijR48do1w5fRXeBg3qU1S+77CSfVauHE2YOImMy2SWzJlxON27d4/atG1HJXl+pUqVosaNv5Z215+IESMIS1g5Ec/36/nzkhzJXabVQ4cOyRAtmjez/i926tSB71MxCscKMcSTOUDJQxwtnnvE7d69e5cVZ4fbZ6VKlWQc/VECSkAJKAEloASUQGgj4JECCOWv/eqB9PMZX0tLoujxqW3B+lQlUykKyy/PrpIsZiLCX8EUuahz0Wa09NQ6Gr1rJt16ele6jt0zmy4/ukHDynr/I0og4v4qVigvc4HLWZ269SQr44ABg2jkyOHW5RQuVIjdIcfJNqxW3Xv0lJdKvPgePXKI0qVNKy/KsKCcPn3aT3kIsIOiEzZsGEkIA4uOpwJXN7ivbdq0WWLI3tkSfUARRSZJyJIlS+XPdVxYJ6EAQnlEjNievawA+sRD4eW6V+++omzt3bdPlEIovsaK2ahRQ0L82N69+ySuDLFlcF+sV68OdezQXqyKrucLyvaZM2es7h06OqyWVgOvXL16TTb/7nngJKb23gcffEDZsmUT98RWLVvI+e0/CWzZRT2dv1E4YHmzi7Gq2dvs67DWQlyzpeLDQ1AFz4q5Rvs8YCWDC+dljns9e+ackwIYL57jQw7OZT6ImGQssNLCpfLHBT+JGyxcYSEonwFrruu11a79ObuMfi5Wxs7eXeVjBdxpt2/b7Of/vtNcbZli4ZoLa68RT+aAPrg+PPOwGN68cVMOz50rl8R8mrF0qQSUgBJQAkpACSiB0ETAIwUQlj+78lciXSFR3KKEd45jcgcOCmK1zGWo7EdFRZE0LqAYM2WsJNSGFcl/UhKxBa1M6dI0fsJEOuhjffBvPh98EI5gGYJVAUrdaVZiUBcwOysNqAG4dOlyKl/+M6eXWsRGteB4Kih+qO8Gt7mgyGC2upUqXc5PWQW4kyKpBuKZOnfqSIUKFfQzbJo0jhinokWKEBK/7GNFD3GMmEtRtvQVKrSRfvllNbuYTpFjUZsProoQZI9ESYxjbBmCEriRlVAskQwkf758BGtUSMTERWIMZAcNw//sEj6849H8u+eBcx48sFdizaDgQinyRDydP9wYIdfZVdcuRhmxt9nXU6VOSbSFxCppb7/MJTZev3lNiTlm0h6vaO/juo5nBYl5UB/w1m2HJR598HHi7t070l3O53qgm208I7179+TnujnBRRoWWySxwYeKuPzBYciQQWJdxv+PiJz8pXTpUjISLIpNmzQWBRClO2BFzZLFYU00p8JcEWuIjxtwbzYCy+xFdh+FwBXXkzmgT6VKFSSeFW6gZrxKldX9U0DqjxJQAkpACSgBJRAqCQRqjoKyBrdPI/VzVaNxFXqTp8qfOQ5LHINjMYYRWAKNQmja/p9LWPUQZ4cXWEjyZI54J//mgAyhqBEHwcslMoNCKlT4TJZIroJyD+iHl2skVunRo5fsg+UmqMofDsQxAwb0kzFcf0yM2jGuNZg5cyZ5mUYClBEjRtE8TjTCUxBBfFisWDElDvDUqdPcLwvHPMaiIkU+kf1Q7CBQFCF42YalBlkin3LMIFz75s+bY80f1sSQChRnuNdCrrBSA0UAfxh7/PgJXMJgr8fzCOszDsa67xOPiXVPBe6U+PNU+cO4nswf/Yyr4u7de8SlFm2wHqLMR0CSI0cO2b2d4/1wfyGIn0Mm0NL8QcBkqw3jY1FGzT88c+4kR3bHeNOnzZDkKOg3m4vPGzdcs9/d8fZ2JANq2qwFJwWaK/F8KI9Ss0Z16WKejbv37nL2z2+oGcfXmqy0mN8iH1dfsE6VKqXMGYXijQswBjHXPn3GTMloiraZM3+Q627cuKn83/NkDjjOxPphDkiqhGfus8/KYZeKElACSkAJKAEloARCJYEALYDI9tlvyzgr5g+WP++izS0rUXCIQXHCGNee3LIUP5yjSOq8/9fsoCid0IXj66DsmIQcsIx9/nlNp8vasHEjZcmag19U/7BeltEBcVnIUgmBqyZc7BAnNZfrm+EP7oTIQghBgplBA/vLenB+yrAFpWrVKn7cPFtxIppdu3aLFa8kx9SlZXdUpL+HOyrc5ZCABoKX3sKFC1txgkWKFJb2IhyLZgR9EJsGwcs5itYvYBc/JDApzNZFFPBGzBfExKTJRjB/oKi2bdNa4hvbtvuWUEoD/KEoQRBf6ek8EnGpCbi6Iubxyy/rs3XSi0aOGBbMmXl2mCfzx0hgBUvshQsXqUbNzyX7JNZxrQFJ6VIlKU+ePITC9NWq1RQFH1lA8UxlyJBeFFAcbxRMZOos6lVM4vrKcBkSV2nduqV8kEBsZX5OaAQr2+nTDjdc1OnDBwGTMdT1WNdtnLNnz96EhCqHDh6mSJy5FIlpIObZyJc3ryRUQqwnsqDCFRNlUJCVE4KSKoj9xP1GuQdIKo6vzJ07lzwXeK7xsaJAwcLsrplCYgbRp0Z1x8cjT+aA/shIij/MA4L/F+b/rTTojxJQAkpACSgBJaAEQhmBABVAlHowyVsQ8xfSeL19145SUk4akzRGIhmrzMwGEhOIc+BcDXPX+L/hR0IK/EHgHpcpYyaqW/cLiWNCm7GsINuhyZAIF8GMGTJwrbmC1LpVK3SzpGPH9mIhQ/ZMJPCAUhklSmQqUbw4deZagKiHZ164rYNsK7H4BdwoBVCSXaV3rx6SzAJubCbmEvFqKBw+bNgISeIBBQGKSfXqVTmBTFenIWDdM4lijOUPL+UmGQyshPbEIu24dhsSZ+zcuVPqu2FOqfgFvUePrhInGNi1wEXRVZBoxS5QSsKxW+2iRUvEvRT7YPH8pl1bURCwHdA8YPWEYG5DBg+kDqzUI4PoFrbEQiE390062X6gnAfE2tY1wFVP5g9FGvcIheXxXCDxDhTttGnTsFVrljW+mY9pQEKhaVMnETJ04h7AsoY2KDDDhg013ejjj/NQ/fpf0ty58yVuErXx/FMAwWr6tCk0ZOhwHuuouA4jVq8SJ0pBMpiAJFw45/uGEiW9+HlE7KmJH4WFuVHDBvSNz1j4oLBk8U+cqbQfbeBkN4jDw31KyXF9yCzbtGljOWWq1KnEOv3773/I/0M0ZsqU0fFcDx8hVju4IUPB/+rLetSqVUs5zpM5SEf+gRUQmUUhlSpr8hcBoT9KQAkoASWgBJRAqCUQht2y/PUbQ3PhybWsUg8DS3eQOL7gktpz5TA1XdaVYkeJRXNrjhAlcPHJNeS91vFihjqBO5osCJF1Mbhz+6uPgyUFighq2xllDvFX+QsUcnsqJMkY0L+v2/2B7cA5EQ8Ipc5VmQjs2MD2I3NodLbWwGID+TuuBXOHmALxsuHy4zoPl92yeefOHYmNq1evvtt4Tii6KKvwV4on84dCig8KUAqDIvi/CAts4sSJxLLs37GwZD948JAV6LiWa61//dCGRCvIfIsPHyEVlBXBsxeYezOss7Do+he3iA8xuEZ8vHAVzBX1CPFcuxNP5+DueG1XAkpACSgBJaAE/hsEkJgOCRThmeRIhPgJVeGPvxnYgBOQ4H1j9JjvxSCBj/UI88qWLYsYJZIkSeJ06DKuabxs+QrJZfABf/DOzCFMX/B7PJLh2QVjjhw1Rmouo71li2YcNlbe3kW8qVBdAB/nY8aMJdUIWrdq4adW8fIVP3PZrRUcFnRC3qeyZ8vKtcDrOtUldxo4kA23CuDRm6epxnyHlQulHjY1mmNZngIZ089uo/y9fOewuOVNlp3msBL4B7tVFptW17IyLqw9lrInzujn+P9CA1zfevXq4/ZSCnC6fxNH5bbTv2TH+3AtSHpjyha4YovMltyQKNuu4+m2ElACSkAJKAEloASUwD9LADkFTFiJfSb48L9i+VI/WcpNn+fPX1DVajXo3LlzpslaIkQGJbiMAjlw0GB/63PD4NO1q7d4Q+HgrVu3UbfuPeQDvhkMmdLhtWUEiRXhoeRqi8N8Z86YxjkRsktXd+eEt9UIDnkyVQ3MuJ4s3SqAw3dMo0n75skYSNrSxauFJ+P56eOq/EGZNBZAdB6wZTzNPLRYjmua9wv6rnAjP2NogxJQAkpACSgBJaAElIASUAJKwD8CyCwOJQ4hWPDAQ/jVebbkIcM/ylhlzJiBli9bItYz1+MRItW6jSMcpl7dOoQSZKi1jTAcKGcofYXs58hlkDtPPvF8+uijjyTfBLygcCxCtFA2a8/uHeKJh/wh8PyCkgbvL4hdAURWfq9PS8g+ZIxHGA3Cl2Zw0jucEyXcoAQ+YI/CvHkLSD+EfnXs+J14cXXt2l28DRE2s2rlCtdLCnTbbQzgydu+WjCKvAdHAlP+MCbGNgqg/ZzBOZ8eowSUgBJQAkpACSgBJaAElEDoIrBmzVorqSMSAebPn08A3ObyVwsXLZY8HGfPnpOM865krly9ajUhRwHcP1GGbMz34+gWh0GZ/Xfu3rUS5lWvVkVyFuDAspx8D1UCEO6CsBSE+iAcC4pjyZIl2FWzvjW+WZnKWdmNYjhp4gSrDnciDveB4voBl0OD4oqyYdU4ESSkYaMGlJ4VT8i2bdulLN35879xgsDfOUQonLR7+uNWAbzz3BGThYFSxHT2ffVkcE+UP9ex7ef05BzaRwkoASWgBJSAElACSkAJKIHQTeCsj/smcknky5fXgoGYOyiAELh4utYfRjuy7Q/lJHmQyVOmcc3ir2kHZ9WH8ggpW7aMLFNxIjtkYj9z5iwtWbqMirCVDnkM1q5bJ/sLFy5k5XlYsnghpUuXVpL4yU6XnxMcyweBi+mTJ0+oWbOWXDP6Os8viyRCzJv3Y9mPJH6DOdEhBAohLI5IDLhp0yZpK85xh0FV/nCgWwXw9rN7MjB+EkSLa61j5cqjGxK3lz9FTqd2s+Gp8of+9rHt5zRj6VIJKAEloASUgBJQAkpACSgBJeCOgCn3lISTxpkEjOibLJmjZjfWjZKIdbukSZOGpnGm9PbtO9KsWbPlD/sxTsMG9alqlcpW98mTJnLW+U6SLKZMmc+s9ty5clHvXj2tbSh/AcnVaw6r45s3b+mLOvVEuUP/EydOSm3kyZMmkJdXUach4M46fPhIqw1Z5bt06WxtB2XFOb+7B0dC+au38Ftqwhk9oei5SmDKH8ydz1+8ZJ/Wx3Tj1h0OjrxFs0uPoB7521DVtGVknzGJuo6t20pACSgBJaAElIASUAJKQAkoATsBU9rN3ob1SJEjW02vXjmSUVoNPitIbjhu3HiJqbPvQyzeRi5lhaygRubP/5EOHjxkNq3l6TNnpAyZ1RDIyqNHjrrIiBOEords6WIaOKAfRYgQQWqU9+3nt344yoEhptAIMsTv2bPPbAZp6VYBTBgtnjXQnWe+7qBd1g2jm0/ZB5YzeqKsw/5rx6x+ASl/8E+9ffc+Xb56QwqqR4wYgRJwyvo0KZNTvszZ6fO85anNJ1/JPvRBXxyjogSUgBJQAkpACSgBJaAElIAScEfgww8/lF3Xrl936nL/nq8OY+LnnDrwRvcevaRWMyx+Q4cMprNnTtLChT+Ke+blK1fo68ZNJTHLmrXraMLESayfvKPy5T+TkmL79u6iQgULSoKY3lz7GDWfPRHEGUJQAmvM6FGEetyfc51kxA1CLly4KOXdZMPnp/HXjejXc6dp44a1lCtXTsl236mzt5Rns/fzZN2tApiA6/IZufL4hlmlIWU7U7KYjiLfKOvQeGkXOnTjhFgDoRCaUg/2bJ9Pnz0XxS88F+BOkyo5xY8Xh6JykXS7zyrW0YZ96IO+UARxrIoSUAJKQAkoASWgBJSAElACSsA/Aka5Qx3uc7/+anXZvmOHtf5ReoeSaDX4rGzfvl3WUqRIQdWrVxUrXJ7cual48WLSjgyfSLayY7vvWM2bNeW6fTEl82ejrxtIP1gMt9v6+Azv7yJ1qpTSDqUTRjEjkSI7aiIbN1bUM4TrJ/4ePnwkbqlwWa3zRW05BHGB69avN4d7vHSrAGZO6Mgyg5G2XNhjDZgkegKaXWMEQcGDvHj7khot8RZroH/K38NHT8TdM1mShBQndkxrnMBW0BfHwFUUY6goASWgBJSAElACSkAJKAEloARcCRTketpGunH5hkuXL9OBgwe5Zt8UaY4dOzZl9CkGj0LuzZu3pCNHjsq+tGkc8XoozbB//wFpu3nzJrtX7pV1WOlQDD5tWkc/NGIMKHzwVlyxYqX0w0/atGms9YBWkB0UgmLxffsNILih7j9wgObOnS/tKDOBhDZoR4Ia/PXs1VusfsdPnKCZM2dJP/ygxEVQxW0dwMAKwV97fIvq/vQN3Xh6x+mcdssfYv3u3X9ISRMndLL24QAA+5U19GPHj8vx2bJmJZhv7VZB0+/6zdsUL25ssRBKZ/1RAkpACSgBJaAElIASUAJKQAn4EOjZszfNmj3HDw+UZPhh5nRClk7UCcyeI7dk00SmzQU/ziPUAWz3zXdWWQYoi1C8YF2DoHg7avjd5TIQFSpWtlwuo0SJwnv/lPA19EvJFsTVq1dSZFvcITJ2Vq5SDbud6gBi7MpVqtNxHz1IOvj8fMBekGNGj5Tso6g9iHPCJdQ/yZkzBy1auEDKTvi3312bWwtgtkQZKL6PG+iNJ7dp6SlHilMzENxAZ9ccQYmixzdNYhU0Rd6RyOX2nXuUKEE8J6UOfrPDR4ykLFmzU7nPKnChxi7yh3W0jRg5SnxrzaBQCDEGxtLkMIaKLpWAElACSkAJKAEloASUgBIwBLp160J163xBCRMmME1Sq2/gwP6i/KERSVZMjUDE0UEQzzd//hyJq4PyBjdSuGB+xIapAf37iuKGfij0/ssvK6kil5aIFy+exP29YGNXooQJJX5v1aoVTsofjgkTNgwWfgRK6by5s2S+DkWSSzOw4pcjR3aaxBlATekJ7FuxfCnVqF5Nzm8GQnZTxARCgcVYQRW3FkAMNP3gQhq0daKMCUVvTf0ZFCW8bzYd7Lj86DpbAr+lcGHDkVH+0H77zn0KH/4DJ7fPixcvUstWbaR+Rq1aNaU4YrasWdCdLYEnaP36DbRgwU9SY2Pc2DGUOnVq2YcfuIK+ffuOEibwjU20duqKElACSkAJKAEloASUgBJQAkqACSBzZ8yYMShBAl9l0A7m3r17osTZ27AOyxyKv0PBg7IYkKDwe5gwYSVZTED9AtsHV1K4nMaJE0eSwgTUH3GAYVmpRPxhSCRABfDN72+p1IyvpOYfTlIiXSEaV6G3aMX2k156eJ3Cc1rSpDEcyWGgqF29flOSuZh+sPxVrFRFMtqMGjmCChTIL7uWLFkqy6o+Ve53797DZthvxe8VGi+0YSMXLl2l5EkTi2Jp2nSpBJSAElACSkAJKAEloASUgBJQAp4RCNBmGCFceOrm1ZLC8D/IhvM7aeDWCRL0aB8+VeyklvKH9idPn1H0aFHtXWjM92PF8mdX/tBh8eKl8mc6QzFEnzNnzsoxph1LjImxVTwj8OzZMzp56rRHnW/evEWHORgWvtH/JXn69GmILucGf5G5fPlKiMbQg5WAElACSkAJKAEloASUwL+FQIAKICYJq1/L/I6aFNieeWgxtfy5p2T/xLZ/8uLlK4rCJR2MIOHL5MlTCW6fxvJn9vm3RB/0xTH2WoAYE2OHVDZv2UodOPawTPlK9EW9+jTvxwVWoGdIx/bk+E5dutGevYEXboSZ157K1pOx7X1mzZlLe/fttzf5u76Bi1x+XvdLGswZhp4/fyFpZkNyXn9P4tMI03qtL+rRPVtdloD6e7LPdUzD9wAX6vysUlWCEhdcAY8O3l2CFX8Kk/5cLhiKZwzz6NG7L0EpN3Lnzl15DstWqExfNWpM6/k+qCgBJaAElIASUAJKQAkogb+TQKAKIE7eusBXVCFDcWsesASWmdmAFp9cQ3/86ciQY+3klTdv3lJEm98ssn2+fv1aYv7s/QJaR3pUHINjjWBMjB0S2bJtO/UdMIgQezhi6CCq/2VdWrBwMU30SRMbkrE9PRYv/q9eBa7I7tm3j0aOHuvpsE79Hj95QitW/kJVKlV0avdvY/PWbfR5zRr0Iwejxo4di0JyXv/Gt7dBKYJC9vZdyO5jQGMavrjHQzjwN3Eih2uy/RhP1z9Ml5aScbHOdRs2enqI1Q8FQxcuXkLftG1N48eMokePHtGo78dZ+3v17UfRokWjyRPGUp3an9OAQUPU2mjR0RUloASUgBJQAkpACSiBv4OAb4BdAKMjE86wst6UMlYSGrdnDic8/ZNuPb1L3muH0ve7Z1GpdIXJK01+ShEzCSWIFlesafZyDr6lHhwJXwI4lbXLNznMcau+BcaEtSe4AuVj6LAR1LZ1S6rEGXwgmTJmlHhDWI0a1v9Kgi/PnD1Hq1avJigSuTlDULUqlSkcxzhuYUUJbY84NSwsZEU/+YRycraeOfPmSx2PyqxsYRvWre/Hcwaf0qVo2YqfJQi1fLlylDVLZn+nvnbdetq+c5e41mJeeT/OQ0ePHROFAAd06d6T2rVuxYGs8ensuXO08pfVdINjLHPnzkk1qlXzNyYSc02TOpUVmApXyPmcYOfU6TOidNSqUV3mM3nqdNrmU7QSKW/LlikVpPPiPDc5WPbBg4d0gZP8DB8yyM814lpW/bKGE/k8FJb2DpjX4qXLOA3uSUqcOBHVs2VvQgDvT4sWc0KhO5QqZUpq1OArK+g1oDHN+E+ePKWfV/1C+fPlte5Jaf6wAH6RuaYLlK40aRyJhgKaR/68eemX1WvkfpqxPVnGjReXunfxlmcI/cuVLSP3wBz7KxcVbd60CSVPlkz+YLE9d/48pUyZgsZNmCTJkHZxTCzccjHXW7dv09q16wmZn2pyoVJko3KVgJjdv/9AFNLT7F6di9MGR4oUkZIkTkyfFC4kw6zh53AHP4dgU7JEcXkOXcfXbSWgBJSAElACSkAJKIH3m4BHFkBcIpTANgXr07iKva0i8GhHiQi4hdZf1IGKTatDWUaXQbPHEpXj+lD4EBXu/+4yD9ev3xAXPCgBdoGSt2HNKlH+Ll66RO2+68AWzIhUuGBBWrlqNQ0fNVq6X7l6lSaIpfBPeYEexiUr4B6YhrOVxuBMQz3ZxQ8K6stXL2kLu5mOnziZChUoIErLtx060W8XLthPK+uwEE1iJSxP7lyUIX166ty1uyh/eDEv+klh6VOubGmKESOGWIe+ad+JokWNSsWLeYlSNW7iRD9jouHq1WtWwUts9+0/iPbtP0ilS5XkmopxCfOBFbJA/nzYLddT7FMvUQiCcl4wmTRlGr16/YoqfFZOxrL/QFFu39Gblew4ojCP4/tsBPcbyu3xEyepVMniBCWsDddhefXqNScLekCt23F2WVa8y/O4UJaGjxojhwY0phkbS9yH7Tt2SpO5J7D2FmGujx49pvadvGVfQPNAh8yZM9FVLg4aVMmbJ48of8+eP5cPBktY0f04d25rmILM/sefFtL5336jn9lae/vWbcqVI4fsh/vquPET5YMCGnC/Fvy0iAoVKsDPx3H6Yc48axyzEhCzt2/fUkfvrszxvCj5iLGF8m+ua8HCRWIFz5k9OyVPnoy6cS0dT9yUzbl1qQSUgBJQAkpACSgBJfB+EPDIAmi/FMQEFkmdl+YcWUbTDiyku8/v23fL+ot3ryR2z1gBUeQdglIPUDLsMnLEcOrTp69UuN+8aQsNHz6UUqRILn3RzxyLdcQDBqfWBY6FQLlLwLU6IrGFw53AOoQX81YtmkmX7NmzUt2vGlLLZo7tTBkzUBOuuwHZvWev1AipWaOalKhYt34jW+h+ZQtbVHaN/ZPaf9tOXE3R997de7SGrTctmzfFpiVQALp5dxIFDI2wwv2yZi15d+zAL/sF6T5b1qCIQmDNguLXtPHXsp2SrWLftO8o1kFpsP1cu37dUh7Q3NW7oyhTcDmEYrJ0+QpWSC+KFRBKIBRQWB4hQT1v5kwZ6bt2beVY1x9cy6deRa05J+Usrm2/7SDdYGm9du06/TR/rlgxYXVCfOCRo0fFajd18gRxv4Tl9gXH4s2e51B6AhrT9fz2bdwT707tpV4LFK1qtWqLVQ2KU0DzgMKMPlCYXZ+dU6dP09JlK6hTh++cMtbaz9udlSkodInYFbVWzerWrkoVK1AnVsqgpOIaYTGOEye2tf+L2rWofLmyfP8LUIUq1fnZaUJZMmem2LFi0agxfl2DoWS7Y4Z53rl7h8axKyosf8U//ZRZ+8b2QjHGPTTWwD/++FMss7CeqigBJaAElIASUAJKQAn8dwgEWQHEpSM7aMPcNahBrup07NYZ2vDbLjp5+xzdYWXw9rN7dP35LUr3JgW/EDsSwXzIhRQjRowodf5cFcCoUaPQ4MED6dNin1KXLl1ZARxBo0ePlL44Bscaec2ucBEihDebQV4m5Vgu1P2ANSR8eP/HOc+WJq+iRayxUyRPTtGjR7esd1AGjERlSxxeuiGoeRiFi0e+ZksYFEBI+o98556RFcc9e5wTvyBODy6lsO4YxQJxj5kzZZLjXX8OHT4slrD1GzbJLliuoJTAtTJObF/FATufs9XJXkLjLFvi5s1fIHVRfmcrJSyVb996lvEzoPPiXHYm2LbLBVYyoQAaSf9RerMq1qh79++zclPNasO8r9+4IfNDsp6N/FEAVio8C+HCOQzWAY1pDeRmBcU6IXCnDc8lRlDAE1Yxd/NAXxQFhSAhjLlP0sA/uH+wYL58+VKeE9NuX44cNoRdZB/Q7LnzqVWbb2jBvNlyz2Dtbda0MVXkAqSwpHby7kZLli6nalUry+GGqykQGjeO49mDNRgWV1fBPXXL7OIlSp0qlSh/OA7PK7YheA7v3r3r5KKcLWtmdl9eIfv1RwkoASWgBJSAElACSuC/QyBYCqC5fLiFZk+cUf5MG5b3HzySF+uoPplAYQls0uRrGjt2PFXkGDf/MoGWYetHTrbKQHlCLUAUhG/VqgUrMeGsofGyHiWye+ud1dHNSiqOrYJSBMsd3ACNIG6qZ59+NH3KJImrus9KiREoZMjcGD9+PNPk8fI+v/TDlROCuMB48X2VR7RFZ2scLJpjRg7nl/GUaBJxp5zihT17tmwcq/il6SpLWPVcJTGf9yErhhAovN5de0jCG8SkQWn9rGIV10PcbgflvK6DxI8XT67dtN9/4Ms2HsfIQRGbOXWy2S1LKFyIS/yRXR57du9C2bJkkXIWSJoCCWhM6eDmB8+rfxLQPND/ydMnooDarXNmHHwssH8wMO1YwuqHuMakSZJIcU/ct0Vc9xLWWSi1cG9FfCkkbZo0VKyYFx1kJd8ogGgPigTEDIlwbrKLKSyNhgNiCiF4DqHYIo4zFlsXIbA8g7OKElACSkAJKAEloASUwH+LgMcxgEG57BjRo9HTZ8+dDmnDSUwyZEgvRd6h4PknCRMmoGMc34RC8OiLY+yCMTF2cAXKVpOvG1J/zra4cdNmycp44uRJ6t1/AFvdMop1JH/ej8WlD3FZiEWbMGkKJ+hIGqxMklOnzRDLkMR4sftm7ly5nKaO+RQskF/iwMLwOhS/gUOGSWwfOsLyc5tf0lEOAi/u+dgdb/PWrWytuSfWprXrN1CvPv2tF3r74MmSJpE4QLTBUgjr0Ifp0klSmFWc0OQJx9u5k5Cc13VMuJYiEc4FtkC9ePGCpk6faXXJwpZOKPXIQopzQmFuyRYyxGq+YaUVWV8zZcjA/cOIO6I5MKAxTZ+gLAOaB8a5yHOHIm8UJ0/HxjPWp99Avod3xFKLODtY7zDWR+k+FCstEq9AQb985Qrt3LmbrcYfeTq8n34BMcvCcYyw+A4fOVpiCJGkyMT/4Tn8OE9umjhlKiFxDqyaP8yeI264fk6iDUpACSgBJaAElIASUALvNYEQWQDdXTncy6LyC/2Dh4/ZNTGmdIPlbdzYMdSyVRuqwzXnUOcPpR58s32eELdPWP6g/KGv3YURY2FMjB0SqVGtKr17+46mz5xFvfr2F6WrXJnS1Lplcxm2RPFidOnyZWrV9ltR3tKmTUODBjgsT/4pAGFYOXEn4dldFTXe4GpYsWJ5KsUxbpb4WKO6du4o9eEqVa0hShoUUWNRysMKI6xTFatW51IB4+T4q+wq2Krdt1IiA5Y/747trSHtK1nZavbToiWiOMK6U//LeoRMp7A6ffRhOskEavrjuuzXFpTz2o8z49mXZZkt3E+bNG/JMZzv6DPOhIk5QGBt6t+nFw0dMVJi2qDk1qhWRbJgxmPr088rV0n9PCgoSNRjWAc0pnVuXJN1BFRIc7TVg6B0QwKaB/YfOXrMyT0SbZ5IsyZfi0Jfm5/3d6yEp0yRgoYNHiBWX1hh+/TsTmPGTaD+AwdTJHZxLVbMi2rXquE7tM8z4h/jsGH8frtBwiF3zPCsjBgymKbN/IEGDR1GOTjZi4n5xAm7dOogiV8qVatBH/D9wTPY4CtnS7PvxHRNCSgBJaAElIASUAJK4H0lEIZfuv/8OyYPq9PlqzcoaeKE7D4XwToFlIDRY76nKZw5Eu6VdkGcF1xFYfmzK3+vX7+h6zdvU8rkSSzlwX5ccNcR+2TcMF3HgMXsGSyOMaK77gp0G5aVOl82oG2b1ktSF1i33Ll1msEQywc2eFF3FcSXQYkzigDmhlIUrnF/rsc1bdFaSieYF31YNBFjZ+IWXfu7bgf3vK7jYBulDGChQgZT/wTJb6JEiepHwUftvAhsCQRDVwlsTNf+nmy7zgP3pFadejR6xDBJSOPJGK593vIHB8wV8a7+yVO2xiKeFIruXyHumB06fEQSA+E5wv/PGrXrikW8DGeGNYI4R3xkAXMVJaAElIASUAJKQAkogf8egb9NAQSq5+zed+/+Q1EC7bF82IeMnijy7lsjMKskfPGvH5S/eHFjswXQkYwDx/+bxa4A/pPz3MflNfZz6QfXzKP/5Jzet3Pv3befDh46RC2aOWdvfd+uA4rdlw0bsStzYlYCs4lV8/LlKzRz+pRAPyS8b9eq81UCSkAJKAEloASUgBJwT+BvVQBx2oePnnC82TNKlCCekyXQ/ZR898Dyd+vOPYn7ix0rhu+Of/kaksYgzg7F1lWUwL+FAJ7L1WvX0c2bt7gkRUIpBeGpNfjfcg06DyWgBJSAElACSkAJKIGQEfjbFUBMD8lb7tx9wPXLYlgxgYFNGzF/UB4TxI/Dbpr+uw0GNobuVwJKQAkoASWgBJSAElACSkAJKAFfAv8XBRCng8vnfc5mCVc0KHRR2J0TWR6Nyyf2o84fskJCYUS8VNzYsaz9vlPWNSWgBJSAElACSkAJKAEloASUgBIIDoH/mwJoJifFy9m1E+6drzgJDJYQJIpBJkTHMsJfmuzFnFuXSkAJKAEloASUgBJQAkpACSiB0Ezg/64AhmbYeu1KQAkoASWgBJSAElACSkAJKIF/ksBfk3f+n7wCPbcSUAJKQAkoASWgBJSAElACSkAJeERAFUCPMGknJaAElIASUAJKQAkoASWgBJTA+09AFcD3/x7qFSgBJaAElIASUAJKQAkoASWgBDwioAqgR5i0kxJQAkpACSgBJaAElIASUAJK4P0noArg+38P9QqUgBJQAkpACSgBJaAElIASUAIeEVAF0CNM2kkJKAEloASUgBJQAkpACSgBJfD+E1AF8P2/h3oFSkAJKAEloASUgBJQAkpACSgBjwj8Dyi2tPuMspISAAAAAElFTkSuQmCC)"
      ],
      "metadata": {
        "id": "o7qW-MnSrETd"
      }
    },
    {
      "cell_type": "code",
      "source": [],
      "metadata": {
        "id": "fWaMUAFe1hFj"
      },
      "execution_count": null,
      "outputs": []
    },
    {
      "cell_type": "code",
      "source": [],
      "metadata": {
        "id": "HGuImZEk1hKl"
      },
      "execution_count": null,
      "outputs": []
    },
    {
      "cell_type": "markdown",
      "source": [
        "# Untuned XGBoost Model on 50% of the Training Data"
      ],
      "metadata": {
        "id": "EHH2I1og98ri"
      }
    },
    {
      "cell_type": "code",
      "source": [
        "from sklearn.feature_extraction.text import TfidfVectorizer\n",
        "from sklearn.preprocessing import LabelEncoder\n",
        "from sklearn.model_selection import train_test_split\n",
        "from xgboost import XGBClassifier\n",
        "\n",
        "# Load the data\n",
        "df = pd.read_csv('/content/gdrive/MyDrive/BBC News Train.csv')\n",
        "\n",
        "# Vectorize the text data\n",
        "vectorizer = TfidfVectorizer(max_features=1000)\n",
        "X = vectorizer.fit_transform(df['Text'])\n",
        "\n",
        "# Convert categories to numerical form\n",
        "encoder = LabelEncoder()\n",
        "y = encoder.fit_transform(df['Category'])\n",
        "\n",
        "# Split the data into train and 'unused' sets\n",
        "X_train, X_unused, y_train, y_unused = train_test_split(X, y, train_size=0.5, random_state=42)\n",
        "\n",
        "# Create and train the model on 50% of the data\n",
        "model = XGBClassifier()\n",
        "model.fit(X_train, y_train)\n",
        "\n"
      ],
      "metadata": {
        "colab": {
          "base_uri": "https://localhost:8080/",
          "height": 248
        },
        "id": "A01ZzpZK1hRv",
        "outputId": "aa042491-b034-484b-d589-640895ee8449"
      },
      "execution_count": null,
      "outputs": [
        {
          "output_type": "execute_result",
          "data": {
            "text/plain": [
              "XGBClassifier(base_score=None, booster=None, callbacks=None,\n",
              "              colsample_bylevel=None, colsample_bynode=None,\n",
              "              colsample_bytree=None, early_stopping_rounds=None,\n",
              "              enable_categorical=False, eval_metric=None, feature_types=None,\n",
              "              gamma=None, gpu_id=None, grow_policy=None, importance_type=None,\n",
              "              interaction_constraints=None, learning_rate=None, max_bin=None,\n",
              "              max_cat_threshold=None, max_cat_to_onehot=None,\n",
              "              max_delta_step=None, max_depth=None, max_leaves=None,\n",
              "              min_child_weight=None, missing=nan, monotone_constraints=None,\n",
              "              n_estimators=100, n_jobs=None, num_parallel_tree=None,\n",
              "              objective='multi:softprob', predictor=None, ...)"
            ],
            "text/html": [
              "<style>#sk-container-id-1 {color: black;background-color: white;}#sk-container-id-1 pre{padding: 0;}#sk-container-id-1 div.sk-toggleable {background-color: white;}#sk-container-id-1 label.sk-toggleable__label {cursor: pointer;display: block;width: 100%;margin-bottom: 0;padding: 0.3em;box-sizing: border-box;text-align: center;}#sk-container-id-1 label.sk-toggleable__label-arrow:before {content: \"▸\";float: left;margin-right: 0.25em;color: #696969;}#sk-container-id-1 label.sk-toggleable__label-arrow:hover:before {color: black;}#sk-container-id-1 div.sk-estimator:hover label.sk-toggleable__label-arrow:before {color: black;}#sk-container-id-1 div.sk-toggleable__content {max-height: 0;max-width: 0;overflow: hidden;text-align: left;background-color: #f0f8ff;}#sk-container-id-1 div.sk-toggleable__content pre {margin: 0.2em;color: black;border-radius: 0.25em;background-color: #f0f8ff;}#sk-container-id-1 input.sk-toggleable__control:checked~div.sk-toggleable__content {max-height: 200px;max-width: 100%;overflow: auto;}#sk-container-id-1 input.sk-toggleable__control:checked~label.sk-toggleable__label-arrow:before {content: \"▾\";}#sk-container-id-1 div.sk-estimator input.sk-toggleable__control:checked~label.sk-toggleable__label {background-color: #d4ebff;}#sk-container-id-1 div.sk-label input.sk-toggleable__control:checked~label.sk-toggleable__label {background-color: #d4ebff;}#sk-container-id-1 input.sk-hidden--visually {border: 0;clip: rect(1px 1px 1px 1px);clip: rect(1px, 1px, 1px, 1px);height: 1px;margin: -1px;overflow: hidden;padding: 0;position: absolute;width: 1px;}#sk-container-id-1 div.sk-estimator {font-family: monospace;background-color: #f0f8ff;border: 1px dotted black;border-radius: 0.25em;box-sizing: border-box;margin-bottom: 0.5em;}#sk-container-id-1 div.sk-estimator:hover {background-color: #d4ebff;}#sk-container-id-1 div.sk-parallel-item::after {content: \"\";width: 100%;border-bottom: 1px solid gray;flex-grow: 1;}#sk-container-id-1 div.sk-label:hover label.sk-toggleable__label {background-color: #d4ebff;}#sk-container-id-1 div.sk-serial::before {content: \"\";position: absolute;border-left: 1px solid gray;box-sizing: border-box;top: 0;bottom: 0;left: 50%;z-index: 0;}#sk-container-id-1 div.sk-serial {display: flex;flex-direction: column;align-items: center;background-color: white;padding-right: 0.2em;padding-left: 0.2em;position: relative;}#sk-container-id-1 div.sk-item {position: relative;z-index: 1;}#sk-container-id-1 div.sk-parallel {display: flex;align-items: stretch;justify-content: center;background-color: white;position: relative;}#sk-container-id-1 div.sk-item::before, #sk-container-id-1 div.sk-parallel-item::before {content: \"\";position: absolute;border-left: 1px solid gray;box-sizing: border-box;top: 0;bottom: 0;left: 50%;z-index: -1;}#sk-container-id-1 div.sk-parallel-item {display: flex;flex-direction: column;z-index: 1;position: relative;background-color: white;}#sk-container-id-1 div.sk-parallel-item:first-child::after {align-self: flex-end;width: 50%;}#sk-container-id-1 div.sk-parallel-item:last-child::after {align-self: flex-start;width: 50%;}#sk-container-id-1 div.sk-parallel-item:only-child::after {width: 0;}#sk-container-id-1 div.sk-dashed-wrapped {border: 1px dashed gray;margin: 0 0.4em 0.5em 0.4em;box-sizing: border-box;padding-bottom: 0.4em;background-color: white;}#sk-container-id-1 div.sk-label label {font-family: monospace;font-weight: bold;display: inline-block;line-height: 1.2em;}#sk-container-id-1 div.sk-label-container {text-align: center;}#sk-container-id-1 div.sk-container {/* jupyter's `normalize.less` sets `[hidden] { display: none; }` but bootstrap.min.css set `[hidden] { display: none !important; }` so we also need the `!important` here to be able to override the default hidden behavior on the sphinx rendered scikit-learn.org. See: https://github.com/scikit-learn/scikit-learn/issues/21755 */display: inline-block !important;position: relative;}#sk-container-id-1 div.sk-text-repr-fallback {display: none;}</style><div id=\"sk-container-id-1\" class=\"sk-top-container\"><div class=\"sk-text-repr-fallback\"><pre>XGBClassifier(base_score=None, booster=None, callbacks=None,\n",
              "              colsample_bylevel=None, colsample_bynode=None,\n",
              "              colsample_bytree=None, early_stopping_rounds=None,\n",
              "              enable_categorical=False, eval_metric=None, feature_types=None,\n",
              "              gamma=None, gpu_id=None, grow_policy=None, importance_type=None,\n",
              "              interaction_constraints=None, learning_rate=None, max_bin=None,\n",
              "              max_cat_threshold=None, max_cat_to_onehot=None,\n",
              "              max_delta_step=None, max_depth=None, max_leaves=None,\n",
              "              min_child_weight=None, missing=nan, monotone_constraints=None,\n",
              "              n_estimators=100, n_jobs=None, num_parallel_tree=None,\n",
              "              objective=&#x27;multi:softprob&#x27;, predictor=None, ...)</pre><b>In a Jupyter environment, please rerun this cell to show the HTML representation or trust the notebook. <br />On GitHub, the HTML representation is unable to render, please try loading this page with nbviewer.org.</b></div><div class=\"sk-container\" hidden><div class=\"sk-item\"><div class=\"sk-estimator sk-toggleable\"><input class=\"sk-toggleable__control sk-hidden--visually\" id=\"sk-estimator-id-1\" type=\"checkbox\" checked><label for=\"sk-estimator-id-1\" class=\"sk-toggleable__label sk-toggleable__label-arrow\">XGBClassifier</label><div class=\"sk-toggleable__content\"><pre>XGBClassifier(base_score=None, booster=None, callbacks=None,\n",
              "              colsample_bylevel=None, colsample_bynode=None,\n",
              "              colsample_bytree=None, early_stopping_rounds=None,\n",
              "              enable_categorical=False, eval_metric=None, feature_types=None,\n",
              "              gamma=None, gpu_id=None, grow_policy=None, importance_type=None,\n",
              "              interaction_constraints=None, learning_rate=None, max_bin=None,\n",
              "              max_cat_threshold=None, max_cat_to_onehot=None,\n",
              "              max_delta_step=None, max_depth=None, max_leaves=None,\n",
              "              min_child_weight=None, missing=nan, monotone_constraints=None,\n",
              "              n_estimators=100, n_jobs=None, num_parallel_tree=None,\n",
              "              objective=&#x27;multi:softprob&#x27;, predictor=None, ...)</pre></div></div></div></div></div>"
            ]
          },
          "metadata": {},
          "execution_count": 7
        }
      ]
    },
    {
      "cell_type": "code",
      "source": [
        "# Predict the training labels\n",
        "y_train_pred = model.predict(X_train)\n",
        "\n",
        "# Calculate the training accuracy\n",
        "train_accuracy = accuracy_score(y_train, y_train_pred)\n",
        "print(\"Training Accuracy:\", train_accuracy)"
      ],
      "metadata": {
        "colab": {
          "base_uri": "https://localhost:8080/"
        },
        "id": "EtCTIWzs2oO3",
        "outputId": "7bf57d9d-ba47-484a-84ae-292769118abc"
      },
      "execution_count": null,
      "outputs": [
        {
          "output_type": "stream",
          "name": "stdout",
          "text": [
            "Training Accuracy: 1.0\n"
          ]
        }
      ]
    },
    {
      "cell_type": "code",
      "source": [
        "# Load the test data\n",
        "df_test = pd.read_csv('/content/gdrive/MyDrive/BBC News Test.csv')\n",
        "\n",
        "# Preprocess and Vectorize the test data using the same vectorizer\n",
        "X_test = vectorizer.transform(df_test['Text'])\n",
        "\n",
        "# Use the model to predict the labels of the test set\n",
        "y_test_pred = model.predict(X_test)\n",
        "\n",
        "# Map the predicted labels back to the original categories\n",
        "df_test['Category'] = encoder.inverse_transform(y_test_pred)\n",
        "\n",
        "# Drop the 'Text' column as it's no longer needed\n",
        "df_test.drop(['Text'], axis=1, inplace=True)\n",
        "\n",
        "# Output the test data frame\n",
        "print(df_test.head())\n"
      ],
      "metadata": {
        "colab": {
          "base_uri": "https://localhost:8080/"
        },
        "id": "5maiSUYO1hbP",
        "outputId": "6e1980d7-7176-42d4-9056-5512a405ec37"
      },
      "execution_count": null,
      "outputs": [
        {
          "output_type": "stream",
          "name": "stdout",
          "text": [
            "   ArticleId  Category\n",
            "0       1018     sport\n",
            "1       1319      tech\n",
            "2       1138     sport\n",
            "3        459  business\n",
            "4       1020     sport\n"
          ]
        }
      ]
    },
    {
      "cell_type": "code",
      "source": [
        "df_test.head(15)"
      ],
      "metadata": {
        "colab": {
          "base_uri": "https://localhost:8080/",
          "height": 520
        },
        "id": "g2Q_KQi5qZu5",
        "outputId": "6b827930-d2ee-482a-9e07-abe7878d83c6"
      },
      "execution_count": null,
      "outputs": [
        {
          "output_type": "execute_result",
          "data": {
            "text/plain": [
              "    ArticleId       Category\n",
              "0        1018          sport\n",
              "1        1319           tech\n",
              "2        1138          sport\n",
              "3         459       business\n",
              "4        1020          sport\n",
              "5          51          sport\n",
              "6        2025       politics\n",
              "7        1479       politics\n",
              "8          27  entertainment\n",
              "9         397       business\n",
              "10       1644       business\n",
              "11        263           tech\n",
              "12        765       politics\n",
              "13       2134           tech\n",
              "14        297  entertainment"
            ],
            "text/html": [
              "\n",
              "  <div id=\"df-c5528154-9062-45db-bdcc-7025969d92d6\">\n",
              "    <div class=\"colab-df-container\">\n",
              "      <div>\n",
              "<style scoped>\n",
              "    .dataframe tbody tr th:only-of-type {\n",
              "        vertical-align: middle;\n",
              "    }\n",
              "\n",
              "    .dataframe tbody tr th {\n",
              "        vertical-align: top;\n",
              "    }\n",
              "\n",
              "    .dataframe thead th {\n",
              "        text-align: right;\n",
              "    }\n",
              "</style>\n",
              "<table border=\"1\" class=\"dataframe\">\n",
              "  <thead>\n",
              "    <tr style=\"text-align: right;\">\n",
              "      <th></th>\n",
              "      <th>ArticleId</th>\n",
              "      <th>Category</th>\n",
              "    </tr>\n",
              "  </thead>\n",
              "  <tbody>\n",
              "    <tr>\n",
              "      <th>0</th>\n",
              "      <td>1018</td>\n",
              "      <td>sport</td>\n",
              "    </tr>\n",
              "    <tr>\n",
              "      <th>1</th>\n",
              "      <td>1319</td>\n",
              "      <td>tech</td>\n",
              "    </tr>\n",
              "    <tr>\n",
              "      <th>2</th>\n",
              "      <td>1138</td>\n",
              "      <td>sport</td>\n",
              "    </tr>\n",
              "    <tr>\n",
              "      <th>3</th>\n",
              "      <td>459</td>\n",
              "      <td>business</td>\n",
              "    </tr>\n",
              "    <tr>\n",
              "      <th>4</th>\n",
              "      <td>1020</td>\n",
              "      <td>sport</td>\n",
              "    </tr>\n",
              "    <tr>\n",
              "      <th>5</th>\n",
              "      <td>51</td>\n",
              "      <td>sport</td>\n",
              "    </tr>\n",
              "    <tr>\n",
              "      <th>6</th>\n",
              "      <td>2025</td>\n",
              "      <td>politics</td>\n",
              "    </tr>\n",
              "    <tr>\n",
              "      <th>7</th>\n",
              "      <td>1479</td>\n",
              "      <td>politics</td>\n",
              "    </tr>\n",
              "    <tr>\n",
              "      <th>8</th>\n",
              "      <td>27</td>\n",
              "      <td>entertainment</td>\n",
              "    </tr>\n",
              "    <tr>\n",
              "      <th>9</th>\n",
              "      <td>397</td>\n",
              "      <td>business</td>\n",
              "    </tr>\n",
              "    <tr>\n",
              "      <th>10</th>\n",
              "      <td>1644</td>\n",
              "      <td>business</td>\n",
              "    </tr>\n",
              "    <tr>\n",
              "      <th>11</th>\n",
              "      <td>263</td>\n",
              "      <td>tech</td>\n",
              "    </tr>\n",
              "    <tr>\n",
              "      <th>12</th>\n",
              "      <td>765</td>\n",
              "      <td>politics</td>\n",
              "    </tr>\n",
              "    <tr>\n",
              "      <th>13</th>\n",
              "      <td>2134</td>\n",
              "      <td>tech</td>\n",
              "    </tr>\n",
              "    <tr>\n",
              "      <th>14</th>\n",
              "      <td>297</td>\n",
              "      <td>entertainment</td>\n",
              "    </tr>\n",
              "  </tbody>\n",
              "</table>\n",
              "</div>\n",
              "      <button class=\"colab-df-convert\" onclick=\"convertToInteractive('df-c5528154-9062-45db-bdcc-7025969d92d6')\"\n",
              "              title=\"Convert this dataframe to an interactive table.\"\n",
              "              style=\"display:none;\">\n",
              "        \n",
              "  <svg xmlns=\"http://www.w3.org/2000/svg\" height=\"24px\"viewBox=\"0 0 24 24\"\n",
              "       width=\"24px\">\n",
              "    <path d=\"M0 0h24v24H0V0z\" fill=\"none\"/>\n",
              "    <path d=\"M18.56 5.44l.94 2.06.94-2.06 2.06-.94-2.06-.94-.94-2.06-.94 2.06-2.06.94zm-11 1L8.5 8.5l.94-2.06 2.06-.94-2.06-.94L8.5 2.5l-.94 2.06-2.06.94zm10 10l.94 2.06.94-2.06 2.06-.94-2.06-.94-.94-2.06-.94 2.06-2.06.94z\"/><path d=\"M17.41 7.96l-1.37-1.37c-.4-.4-.92-.59-1.43-.59-.52 0-1.04.2-1.43.59L10.3 9.45l-7.72 7.72c-.78.78-.78 2.05 0 2.83L4 21.41c.39.39.9.59 1.41.59.51 0 1.02-.2 1.41-.59l7.78-7.78 2.81-2.81c.8-.78.8-2.07 0-2.86zM5.41 20L4 18.59l7.72-7.72 1.47 1.35L5.41 20z\"/>\n",
              "  </svg>\n",
              "      </button>\n",
              "      \n",
              "  <style>\n",
              "    .colab-df-container {\n",
              "      display:flex;\n",
              "      flex-wrap:wrap;\n",
              "      gap: 12px;\n",
              "    }\n",
              "\n",
              "    .colab-df-convert {\n",
              "      background-color: #E8F0FE;\n",
              "      border: none;\n",
              "      border-radius: 50%;\n",
              "      cursor: pointer;\n",
              "      display: none;\n",
              "      fill: #1967D2;\n",
              "      height: 32px;\n",
              "      padding: 0 0 0 0;\n",
              "      width: 32px;\n",
              "    }\n",
              "\n",
              "    .colab-df-convert:hover {\n",
              "      background-color: #E2EBFA;\n",
              "      box-shadow: 0px 1px 2px rgba(60, 64, 67, 0.3), 0px 1px 3px 1px rgba(60, 64, 67, 0.15);\n",
              "      fill: #174EA6;\n",
              "    }\n",
              "\n",
              "    [theme=dark] .colab-df-convert {\n",
              "      background-color: #3B4455;\n",
              "      fill: #D2E3FC;\n",
              "    }\n",
              "\n",
              "    [theme=dark] .colab-df-convert:hover {\n",
              "      background-color: #434B5C;\n",
              "      box-shadow: 0px 1px 3px 1px rgba(0, 0, 0, 0.15);\n",
              "      filter: drop-shadow(0px 1px 2px rgba(0, 0, 0, 0.3));\n",
              "      fill: #FFFFFF;\n",
              "    }\n",
              "  </style>\n",
              "\n",
              "      <script>\n",
              "        const buttonEl =\n",
              "          document.querySelector('#df-c5528154-9062-45db-bdcc-7025969d92d6 button.colab-df-convert');\n",
              "        buttonEl.style.display =\n",
              "          google.colab.kernel.accessAllowed ? 'block' : 'none';\n",
              "\n",
              "        async function convertToInteractive(key) {\n",
              "          const element = document.querySelector('#df-c5528154-9062-45db-bdcc-7025969d92d6');\n",
              "          const dataTable =\n",
              "            await google.colab.kernel.invokeFunction('convertToInteractive',\n",
              "                                                     [key], {});\n",
              "          if (!dataTable) return;\n",
              "\n",
              "          const docLinkHtml = 'Like what you see? Visit the ' +\n",
              "            '<a target=\"_blank\" href=https://colab.research.google.com/notebooks/data_table.ipynb>data table notebook</a>'\n",
              "            + ' to learn more about interactive tables.';\n",
              "          element.innerHTML = '';\n",
              "          dataTable['output_type'] = 'display_data';\n",
              "          await google.colab.output.renderOutput(dataTable, element);\n",
              "          const docLink = document.createElement('div');\n",
              "          docLink.innerHTML = docLinkHtml;\n",
              "          element.appendChild(docLink);\n",
              "        }\n",
              "      </script>\n",
              "    </div>\n",
              "  </div>\n",
              "  "
            ]
          },
          "metadata": {},
          "execution_count": 144
        }
      ]
    },
    {
      "cell_type": "code",
      "source": [],
      "metadata": {
        "id": "0LG4w36MqZ1G"
      },
      "execution_count": null,
      "outputs": []
    },
    {
      "cell_type": "code",
      "source": [
        "# Write DataFrame to csv\n",
        "df_test.to_csv('BBC_News_Test_Predictions50XGB.csv', index=False)"
      ],
      "metadata": {
        "id": "SScar9gN_RrW"
      },
      "execution_count": null,
      "outputs": []
    },
    {
      "cell_type": "code",
      "source": [
        "from google.colab import files\n",
        "files.download('BBC_News_Test_Predictions50XGB.csv')"
      ],
      "metadata": {
        "colab": {
          "base_uri": "https://localhost:8080/",
          "height": 18
        },
        "outputId": "ef181caa-fc1b-443b-ae57-2747c00527d5",
        "id": "X-vD9t-p_RrX"
      },
      "execution_count": null,
      "outputs": [
        {
          "output_type": "display_data",
          "data": {
            "text/plain": [
              "<IPython.core.display.Javascript object>"
            ],
            "application/javascript": [
              "\n",
              "    async function download(id, filename, size) {\n",
              "      if (!google.colab.kernel.accessAllowed) {\n",
              "        return;\n",
              "      }\n",
              "      const div = document.createElement('div');\n",
              "      const label = document.createElement('label');\n",
              "      label.textContent = `Downloading \"${filename}\": `;\n",
              "      div.appendChild(label);\n",
              "      const progress = document.createElement('progress');\n",
              "      progress.max = size;\n",
              "      div.appendChild(progress);\n",
              "      document.body.appendChild(div);\n",
              "\n",
              "      const buffers = [];\n",
              "      let downloaded = 0;\n",
              "\n",
              "      const channel = await google.colab.kernel.comms.open(id);\n",
              "      // Send a message to notify the kernel that we're ready.\n",
              "      channel.send({})\n",
              "\n",
              "      for await (const message of channel.messages) {\n",
              "        // Send a message to notify the kernel that we're ready.\n",
              "        channel.send({})\n",
              "        if (message.buffers) {\n",
              "          for (const buffer of message.buffers) {\n",
              "            buffers.push(buffer);\n",
              "            downloaded += buffer.byteLength;\n",
              "            progress.value = downloaded;\n",
              "          }\n",
              "        }\n",
              "      }\n",
              "      const blob = new Blob(buffers, {type: 'application/binary'});\n",
              "      const a = document.createElement('a');\n",
              "      a.href = window.URL.createObjectURL(blob);\n",
              "      a.download = filename;\n",
              "      div.appendChild(a);\n",
              "      a.click();\n",
              "      div.remove();\n",
              "    }\n",
              "  "
            ]
          },
          "metadata": {}
        },
        {
          "output_type": "display_data",
          "data": {
            "text/plain": [
              "<IPython.core.display.Javascript object>"
            ],
            "application/javascript": [
              "download(\"download_1d9d37a9-874f-42ef-8f9f-fad69c088b75\", \"BBC_News_Test_Predictions50XGB.csv\", 9490)"
            ]
          },
          "metadata": {}
        }
      ]
    },
    {
      "cell_type": "markdown",
      "source": [
        "Using only 50% of the Training data on the XGBoost (untuned) model, there is a noticable decrease in accuracy from 0.95238 to 0.92653. This shows that XGBoost models are less data-efficient compared to XGBoost models (which need less data to achieve similar accuracy). However, XGBoost models are still superior in term of maxmizing accuracy."
      ],
      "metadata": {
        "id": "naiQch9QsXKp"
      }
    },
    {
      "cell_type": "markdown",
      "source": [
        "![Screen Shot 2023-06-29 at 5.25.47 PM.png](data:image/png;base64,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)"
      ],
      "metadata": {
        "id": "DRTu-44RsMy-"
      }
    },
    {
      "cell_type": "markdown",
      "source": [
        "# Model Comparison and Discussion"
      ],
      "metadata": {
        "id": "FFQmmLBetjK5"
      }
    },
    {
      "cell_type": "code",
      "source": [
        "test_scores = {\n",
        "    'Model': ['NMF', 'NMF tuned', 'NMF 50%', 'XGBoost', 'XGBoost tuned', 'XGBoost 50%'],\n",
        "    'Training Accuracy': [0.9161, 0.9537, 0.8973, 1.0, 0.9846, 1.0],\n",
        "    'Testing Accuracy': [0.9020, 0.8857, 0.9034, 0.9524, 0.8816, 0.9265]\n",
        "}\n",
        "\n",
        "df = pd.DataFrame(test_scores)\n",
        "print(df)"
      ],
      "metadata": {
        "colab": {
          "base_uri": "https://localhost:8080/"
        },
        "id": "owd5kLMJ0lHK",
        "outputId": "889527ad-5382-43f4-c830-20e4a2de3ccd"
      },
      "execution_count": null,
      "outputs": [
        {
          "output_type": "stream",
          "name": "stdout",
          "text": [
            "           Model  Training Accuracy  Testing Accuracy\n",
            "0            NMF             0.9161            0.9020\n",
            "1      NMF tuned             0.9537            0.8857\n",
            "2        NMF 50%             0.8973            0.9034\n",
            "3        XGBoost             1.0000            0.9524\n",
            "4  XGBoost tuned             0.9846            0.8816\n",
            "5    XGBoost 50%             1.0000            0.9265\n"
          ]
        }
      ]
    },
    {
      "cell_type": "markdown",
      "source": [
        "From the table above, we can see that for the NMF model, futher tuning the hyperparameters increases the training accuracy but this does not necessarily translate to an increase in testing accuracy. This shows that the tuned NMF has been overfitted. For the supervised XGBoost, tuning slightly decreases training accuracy and also dramatically decreases testing accuracy. Similarly, this proves that the tuning process has made the model ill-fitted. As a consquence, more research should be done to optimize this tuning process so as to avoid making the models perform worse.\n",
        "\n",
        "When training the models on a reduced set of training data, the testing accuracy of the NMF model does not seem to change as much as the XGBoost. This proves that the NMF model is more data-efficient than the XGBoost. However, at the end the supervised XGBoost still performs the best in term of accuracy."
      ],
      "metadata": {
        "id": "6rFNRblcK5zQ"
      }
    }
  ]
}